{
  "nbformat": 4,
  "nbformat_minor": 0,
  "metadata": {
    "colab": {
      "provenance": []
    },
    "kernelspec": {
      "name": "python3",
      "display_name": "Python 3"
    },
    "language_info": {
      "name": "python"
    }
  },
  "cells": [
    {
      "cell_type": "code",
      "execution_count": null,
      "metadata": {
        "id": "-BaKogjulFm7"
      },
      "outputs": [],
      "source": [
        "'''Q.1 What are the five key concepts of Object-Oriented Programming (OOP)?'''"
      ]
    },
    {
      "cell_type": "markdown",
      "source": [
        "The five key concepts of **Object-Oriented Programming (OOP)** are:\n",
        "\n",
        "1. **Class**\n",
        "\n",
        "   * A blueprint or template for creating objects.\n",
        "   * It defines properties (attributes) and behaviors (methods) that the objects created from the class will have.\n",
        "\n",
        "2. **Object**\n",
        "\n",
        "   * An instance of a class.\n",
        "   * It represents a specific entity with state (data) and behavior (functions).\n",
        "\n",
        "3. **Encapsulation**\n",
        "\n",
        "   * Hiding internal object details and only exposing necessary parts through a public interface.\n",
        "   * Helps protect data and maintain integrity by using access modifiers like `private`, `public`, and `protected`.\n",
        "\n",
        "4. **Inheritance**\n",
        "\n",
        "   * A mechanism where a new class (child/subclass) inherits properties and behaviors from an existing class (parent/superclass).\n",
        "   * Promotes code reusability.\n",
        "\n",
        "5. **Polymorphism**\n",
        "\n",
        "   * Allows objects of different classes to be treated as objects of a common super class.\n",
        "   * Two types:\n",
        "\n",
        "     * **Compile-time polymorphism** (Method Overloading)\n",
        "     * **Run-time polymorphism** (Method Overriding)\n",
        "\n",
        "These principles help in writing modular, reusable, and maintainable code.\n"
      ],
      "metadata": {
        "id": "FlvUe95PloZp"
      }
    },
    {
      "cell_type": "code",
      "source": [
        "''' Q.2 Write a Python class for a `Car` with attributes for `make`, `model`, and `year`. Include a method to display\n",
        "the car's information.'''"
      ],
      "metadata": {
        "id": "8vcvJTGilr31"
      },
      "execution_count": null,
      "outputs": []
    },
    {
      "cell_type": "code",
      "source": [
        "class Car:\n",
        "    def __init__(self, make, model, year):\n",
        "        self.make = make      # Manufacturer of the car (e.g., Toyota)\n",
        "        self.model = model    # Model name (e.g., Corolla)\n",
        "        self.year = year      # Manufacturing year\n",
        "\n",
        "    def display_info(self):\n",
        "        print(f\"Car Information: {self.year} {self.make} {self.model}\")\n",
        "\n",
        "# Example usage\n",
        "my_car = Car(\"Toyota\", \"Corolla\", 2020)\n",
        "my_car.display_info()\n"
      ],
      "metadata": {
        "colab": {
          "base_uri": "https://localhost:8080/"
        },
        "id": "uyQYA1Oxl0CI",
        "outputId": "b8dc5d96-46fc-4dbe-80e5-f2dd56357532"
      },
      "execution_count": 1,
      "outputs": [
        {
          "output_type": "stream",
          "name": "stdout",
          "text": [
            "Car Information: 2020 Toyota Corolla\n"
          ]
        }
      ]
    },
    {
      "cell_type": "code",
      "source": [
        "''' Q.3 Explain the difference between instance methods and class methods. Provide an example of each.'''"
      ],
      "metadata": {
        "id": "t_jIgKL1mQL0"
      },
      "execution_count": null,
      "outputs": []
    },
    {
      "cell_type": "markdown",
      "source": [
        "| Feature         | **Instance Method**                    | **Class Method**                                 |\n",
        "| --------------- | -------------------------------------- | ------------------------------------------------ |\n",
        "| Accessed by     | An instance (object) of the class      | The class itself (not an instance)               |\n",
        "| First parameter | `self` (refers to the instance)        | `cls` (refers to the class)                      |\n",
        "| Can access      | Instance variables and class variables | Only class variables                             |\n",
        "| Declaration     | Regular `def` method                   | Decorated with `@classmethod`                    |\n",
        "| Use case        | Behavior tied to object’s data         | Behavior tied to the class, like factory methods |\n"
      ],
      "metadata": {
        "id": "WwaicLpQmVZQ"
      }
    },
    {
      "cell_type": "code",
      "source": [
        "#Example of Instance Method:\n",
        "class Car:\n",
        "    def __init__(self, make, model):\n",
        "        self.make = make\n",
        "        self.model = model\n",
        "\n",
        "    def display_info(self):  # Instance method\n",
        "        print(f\"Car: {self.make} {self.model}\")\n",
        "\n",
        "my_car = Car(\"Honda\", \"Civic\")\n",
        "my_car.display_info()  # Output: Car: Honda Civic\n"
      ],
      "metadata": {
        "colab": {
          "base_uri": "https://localhost:8080/"
        },
        "id": "JeyayyArmit4",
        "outputId": "f49ff886-7dd9-44d8-ed64-1b5a20dd452e"
      },
      "execution_count": 2,
      "outputs": [
        {
          "output_type": "stream",
          "name": "stdout",
          "text": [
            "Car: Honda Civic\n"
          ]
        }
      ]
    },
    {
      "cell_type": "code",
      "source": [
        "#Example of Class Method:\n",
        "class Car:\n",
        "    car_count = 0\n",
        "\n",
        "    def __init__(self, make, model):\n",
        "        self.make = make\n",
        "        self.model = model\n",
        "        Car.car_count += 1\n",
        "\n",
        "    @classmethod\n",
        "    def get_car_count(cls):  # Class method\n",
        "        print(f\"Total Cars: {cls.car_count}\")\n",
        "\n",
        "# Create car objects\n",
        "car1 = Car(\"Toyota\", \"Corolla\")\n",
        "car2 = Car(\"Ford\", \"Focus\")\n",
        "\n",
        "Car.get_car_count()  # Output: Total Cars: 2\n"
      ],
      "metadata": {
        "colab": {
          "base_uri": "https://localhost:8080/"
        },
        "id": "vHKubGsrmoSF",
        "outputId": "304846e8-0719-473c-8c51-c8eef46d8024"
      },
      "execution_count": 3,
      "outputs": [
        {
          "output_type": "stream",
          "name": "stdout",
          "text": [
            "Total Cars: 2\n"
          ]
        }
      ]
    },
    {
      "cell_type": "code",
      "source": [
        "'''Q.4 How does Python implement method overloading? Give an example.'''"
      ],
      "metadata": {
        "id": "5EgE1u0Hmz5A"
      },
      "execution_count": null,
      "outputs": []
    },
    {
      "cell_type": "markdown",
      "source": [
        " How Python Handles Method Overloading:\n",
        "\n",
        "Python does not support traditional method overloading like Java or C++. That means you cannot define multiple methods with the same name but different parameters in a class — the last method defined will overwrite the previous ones.\n",
        "\n",
        "Pythonic Way to Achieve Method Overloading:\n",
        "\n",
        "Python uses default arguments, *args, or **kwargs to simulate method overloading.\n",
        "\n",
        "Summary:\n",
        "\n",
        "Python achieves overloading-like behavior using default parameters or variable-length arguments.\n",
        "\n",
        "Only the last method definition with a given name is retained in a class."
      ],
      "metadata": {
        "id": "35wXYsXOnOlO"
      }
    },
    {
      "cell_type": "code",
      "source": [
        "# Example Using Default Arguments:\n",
        "class Calculator:\n",
        "    def add(self, a=0, b=0, c=0):\n",
        "        return a + b + c\n",
        "\n",
        "# Example usage\n",
        "calc = Calculator()\n",
        "print(calc.add(2, 3))       # Output: 5\n",
        "print(calc.add(1, 2, 3))    # Output: 6\n",
        "print(calc.add())           # Output: 0\n"
      ],
      "metadata": {
        "colab": {
          "base_uri": "https://localhost:8080/"
        },
        "id": "axVRO4FWngYV",
        "outputId": "453d49b5-02cb-4a6f-9907-185c0b9e5341"
      },
      "execution_count": 4,
      "outputs": [
        {
          "output_type": "stream",
          "name": "stdout",
          "text": [
            "5\n",
            "6\n",
            "0\n"
          ]
        }
      ]
    },
    {
      "cell_type": "code",
      "source": [
        "#Example Using *args:\n",
        "class Calculator:\n",
        "    def add(self, *args):\n",
        "        return sum(args)\n",
        "\n",
        "# Example usage\n",
        "calc = Calculator()\n",
        "print(calc.add(2, 3))          # Output: 5\n",
        "print(calc.add(1, 2, 3, 4))    # Output: 10\n"
      ],
      "metadata": {
        "colab": {
          "base_uri": "https://localhost:8080/"
        },
        "id": "v15JAHlfnnOL",
        "outputId": "571c9e71-9576-4fbd-b26e-ed4c7643b38a"
      },
      "execution_count": 5,
      "outputs": [
        {
          "output_type": "stream",
          "name": "stdout",
          "text": [
            "5\n",
            "10\n"
          ]
        }
      ]
    },
    {
      "cell_type": "code",
      "source": [
        "'''Q.5 What are the three types of access modifiers in Python? How are they denoted?'''"
      ],
      "metadata": {
        "id": "oszQPdSonrev"
      },
      "execution_count": null,
      "outputs": []
    },
    {
      "cell_type": "markdown",
      "source": [
        "Three Types of Access Modifiers in Python:\n",
        "\n",
        "1. Public\n",
        "Access: Accessible from anywhere (inside and outside the class).\n",
        "\n",
        "Syntax: No underscore prefix.\n",
        "2. Protected\n",
        "Access: Should be accessed only within the class and its subclasses.\n",
        "\n",
        "Syntax: Prefix with a single underscore _\n",
        "3. Private\n",
        "Access: Accessible only within the class (name-mangled).\n",
        "\n",
        "Syntax: Prefix with double underscore __\n",
        "\n",
        "\n",
        "| Modifier  | Prefix | Access Level                         |\n",
        "| --------- | ------ | ------------------------------------ |\n",
        "| Public    | (none) | Everywhere                           |\n",
        "| Protected | `_`    | Class and subclasses                 |\n",
        "| Private   | `__`   | Only within the class (name-mangled) |\n",
        "\n"
      ],
      "metadata": {
        "id": "1s24KTiJn_Sf"
      }
    },
    {
      "cell_type": "code",
      "source": [
        "#1. Public\n",
        "class Car:\n",
        "    def __init__(self):\n",
        "        self.make = \"Toyota\"  # Public attribute\n",
        "\n",
        "car = Car()\n",
        "print(car.make)  # Accessible\n"
      ],
      "metadata": {
        "colab": {
          "base_uri": "https://localhost:8080/"
        },
        "id": "qiCoI6u4oGNU",
        "outputId": "cb877e1d-868e-49b8-d26f-8e2747b2c63c"
      },
      "execution_count": 6,
      "outputs": [
        {
          "output_type": "stream",
          "name": "stdout",
          "text": [
            "Toyota\n"
          ]
        }
      ]
    },
    {
      "cell_type": "code",
      "source": [
        "#2. Protected\n",
        "class Car:\n",
        "    def __init__(self):\n",
        "        self._model = \"Corolla\"  # Protected attribute\n",
        "\n",
        "car = Car()\n",
        "print(car._model)  # Accessible, but discouraged\n"
      ],
      "metadata": {
        "colab": {
          "base_uri": "https://localhost:8080/"
        },
        "id": "Q_VmaP3Ao9Pm",
        "outputId": "24bcfd19-a096-4f34-dba0-c9e94befc11a"
      },
      "execution_count": 7,
      "outputs": [
        {
          "output_type": "stream",
          "name": "stdout",
          "text": [
            "Corolla\n"
          ]
        }
      ]
    },
    {
      "cell_type": "code",
      "source": [
        "#3. Private\n",
        "class Car:\n",
        "    def __init__(self):\n",
        "        self.__year = 2020  # Private attribute\n",
        "\n",
        "    def get_year(self):\n",
        "        return self.__year\n",
        "\n",
        "car = Car()\n",
        "# print(car.__year)         # AttributeError\n",
        "print(car.get_year())       # Correct way\n"
      ],
      "metadata": {
        "colab": {
          "base_uri": "https://localhost:8080/"
        },
        "id": "jIgrfSXYpGzO",
        "outputId": "90b6922c-60dd-40ee-8ca9-6696353abf29"
      },
      "execution_count": 8,
      "outputs": [
        {
          "output_type": "stream",
          "name": "stdout",
          "text": [
            "2020\n"
          ]
        }
      ]
    },
    {
      "cell_type": "code",
      "source": [
        "'''Q.6 Describe the five types of inheritance in Python. Provide a simple example of multiple inheritance.'''"
      ],
      "metadata": {
        "id": "Kr5jbFdVpUC8"
      },
      "execution_count": null,
      "outputs": []
    },
    {
      "cell_type": "markdown",
      "source": [
        "1. Single Inheritance\n",
        "- A child class inherits from one parent class.\n",
        "2. Multiple Inheritance\n",
        "- A child class inherits from more than one parent class.\n",
        "3. Multilevel Inheritance\n",
        "- A class inherits from a class, which itself inherits from another class.\n",
        "4. Hierarchical Inheritance\n",
        "- Multiple child classes inherit from a single parent class.\n",
        "5. Hybrid Inheritance\n",
        "- A combination of more than one type of inheritance.\n",
        "(e.g., multiple + multilevel)\n",
        "\n",
        "| Inheritance Type | Description                     |\n",
        "| ---------------- | ------------------------------- |\n",
        "| Single           | One child, one parent           |\n",
        "| Multiple         | One child, multiple parents     |\n",
        "| Multilevel       | Inherits across multiple levels |\n",
        "| Hierarchical     | One parent, multiple children   |\n",
        "| Hybrid           | Combination of the above        |\n"
      ],
      "metadata": {
        "id": "PilAtcW2puEv"
      }
    },
    {
      "cell_type": "code",
      "source": [
        "#1. Single Inheritance\n",
        "class Parent:\n",
        "    def show(self):\n",
        "        print(\"Parent class\")\n",
        "\n",
        "class Child(Parent):\n",
        "    pass\n",
        "\n",
        "obj = Child()\n",
        "obj.show()\n"
      ],
      "metadata": {
        "colab": {
          "base_uri": "https://localhost:8080/"
        },
        "id": "oSSChzAVqNyu",
        "outputId": "b93f2d03-bb71-41be-98d5-9c543fb03de7"
      },
      "execution_count": 9,
      "outputs": [
        {
          "output_type": "stream",
          "name": "stdout",
          "text": [
            "Parent class\n"
          ]
        }
      ]
    },
    {
      "cell_type": "code",
      "source": [
        "#2. Multiple Inheritance\n",
        "class Father:\n",
        "    def skills(self):\n",
        "        print(\"Father: Gardening\")\n",
        "\n",
        "class Mother:\n",
        "    def hobbies(self):\n",
        "        print(\"Mother: Painting\")\n",
        "\n",
        "class Child(Father, Mother):\n",
        "    pass\n",
        "\n",
        "c = Child()\n",
        "c.skills()    # Inherited from Father\n",
        "c.hobbies()   # Inherited from Mother\n"
      ],
      "metadata": {
        "colab": {
          "base_uri": "https://localhost:8080/"
        },
        "id": "fMvftsaoqXcR",
        "outputId": "7d894e3a-9cba-4aa4-ea2c-f59b62cdd643"
      },
      "execution_count": 10,
      "outputs": [
        {
          "output_type": "stream",
          "name": "stdout",
          "text": [
            "Father: Gardening\n",
            "Mother: Painting\n"
          ]
        }
      ]
    },
    {
      "cell_type": "code",
      "source": [
        "#3. Multilevel Inheritance\n",
        "class Grandparent:\n",
        "    def property(self):\n",
        "        print(\"Grandparent's property\")\n",
        "\n",
        "class Parent(Grandparent):\n",
        "    pass\n",
        "\n",
        "class Child(Parent):\n",
        "    pass\n",
        "\n",
        "obj = Child()\n",
        "obj.property()\n"
      ],
      "metadata": {
        "colab": {
          "base_uri": "https://localhost:8080/"
        },
        "id": "6NWpHHYnqdvs",
        "outputId": "95353fdf-49a7-4bfa-c6bc-76305544c471"
      },
      "execution_count": 11,
      "outputs": [
        {
          "output_type": "stream",
          "name": "stdout",
          "text": [
            "Grandparent's property\n"
          ]
        }
      ]
    },
    {
      "cell_type": "code",
      "source": [
        "#4. Hierarchical Inheritance\n",
        "class Parent:\n",
        "    def show(self):\n",
        "        print(\"Parent class\")\n",
        "\n",
        "class Child1(Parent):\n",
        "    pass\n",
        "\n",
        "class Child2(Parent):\n",
        "    pass\n",
        "\n",
        "c1 = Child1()\n",
        "c2 = Child2()\n",
        "c1.show()\n",
        "c2.show()\n"
      ],
      "metadata": {
        "colab": {
          "base_uri": "https://localhost:8080/"
        },
        "id": "fxqaVLEWqjmL",
        "outputId": "8ab4e42f-9183-4c8e-be3f-b02bbd6f35fc"
      },
      "execution_count": 12,
      "outputs": [
        {
          "output_type": "stream",
          "name": "stdout",
          "text": [
            "Parent class\n",
            "Parent class\n"
          ]
        }
      ]
    },
    {
      "cell_type": "code",
      "source": [
        "#5. Hybrid Inheritance\n",
        "class A:\n",
        "    def show(self):\n",
        "        print(\"Class A\")\n",
        "\n",
        "class B(A):\n",
        "    pass\n",
        "\n",
        "class C:\n",
        "    def display(self):\n",
        "        print(\"Class C\")\n",
        "\n",
        "class D(B, C):  # Hybrid: B inherits from A, D from B and C\n",
        "    pass\n",
        "\n",
        "d = D()\n",
        "d.show()\n",
        "d.display()\n"
      ],
      "metadata": {
        "colab": {
          "base_uri": "https://localhost:8080/"
        },
        "id": "dyKDFt_hqpvz",
        "outputId": "fcb3e547-cd50-4b2e-ee25-1814a1eacdd0"
      },
      "execution_count": 13,
      "outputs": [
        {
          "output_type": "stream",
          "name": "stdout",
          "text": [
            "Class A\n",
            "Class C\n"
          ]
        }
      ]
    },
    {
      "cell_type": "code",
      "source": [
        "''' Q.7 What is the Method Resolution Order (MRO) in Python? How can you retrieve it programmatically?'''"
      ],
      "metadata": {
        "id": "pzoWvo3tq3jB"
      },
      "execution_count": null,
      "outputs": []
    },
    {
      "cell_type": "markdown",
      "source": [
        "Method Resolution Order (MRO) is the order in which Python looks for a method or attribute in a hierarchy of classes during method calls, especially in cases of multiple or hybrid inheritance.\n",
        "\n",
        "Python follows the C3 linearization algorithm to determine MRO, which ensures a consistent and logical order, preventing ambiguity in method resolution (e.g., in diamond inheritance).\n",
        "\n",
        "Purpose of MRO:\n",
        "\n",
        "- To decide which method to execute when the same method exists in multiple parent classes.\n",
        "\n",
        "- Helps Python handle multiple inheritance properly."
      ],
      "metadata": {
        "id": "ETVXe_3ZrSOf"
      }
    },
    {
      "cell_type": "code",
      "source": [
        "#Example:\n",
        "class A:\n",
        "    def show(self):\n",
        "        print(\"A\")\n",
        "\n",
        "class B(A):\n",
        "    def show(self):\n",
        "        print(\"B\")\n",
        "\n",
        "class C(A):\n",
        "    def show(self):\n",
        "        print(\"C\")\n",
        "\n",
        "class D(B, C):\n",
        "    pass\n",
        "\n",
        "d = D()\n",
        "d.show()     # Output: B\n"
      ],
      "metadata": {
        "colab": {
          "base_uri": "https://localhost:8080/"
        },
        "id": "3VNkA0V4rfWa",
        "outputId": "81598f5b-7d45-4fd4-cef1-7aadf5efc1ad"
      },
      "execution_count": 14,
      "outputs": [
        {
          "output_type": "stream",
          "name": "stdout",
          "text": [
            "B\n"
          ]
        }
      ]
    },
    {
      "cell_type": "code",
      "source": [
        "#Using .__mro__ attribute:\n",
        "print(D.__mro__)\n",
        "\n",
        "#Using mro() method:\n",
        "print(D.mro())\n"
      ],
      "metadata": {
        "colab": {
          "base_uri": "https://localhost:8080/"
        },
        "id": "mjEUDVdmr-1j",
        "outputId": "238caee7-55f7-4040-f49f-ca46b4716187"
      },
      "execution_count": 15,
      "outputs": [
        {
          "output_type": "stream",
          "name": "stdout",
          "text": [
            "(<class '__main__.D'>, <class '__main__.B'>, <class '__main__.C'>, <class '__main__.A'>, <class 'object'>)\n",
            "[<class '__main__.D'>, <class '__main__.B'>, <class '__main__.C'>, <class '__main__.A'>, <class 'object'>]\n"
          ]
        }
      ]
    },
    {
      "cell_type": "code",
      "source": [
        "'''Q.8 Create an abstract base class `Shape` with an abstract method `area()`. Then create two subclasses `Circle` and `Rectangle` that implement the `area()` method.'''"
      ],
      "metadata": {
        "id": "1wEOyC7YsXKa"
      },
      "execution_count": null,
      "outputs": []
    },
    {
      "cell_type": "code",
      "source": [
        "from abc import ABC, abstractmethod\n",
        "import math\n",
        "\n",
        "# Abstract base class\n",
        "class Shape(ABC):\n",
        "    @abstractmethod\n",
        "    def area(self):\n",
        "        pass\n",
        "\n",
        "# Subclass 1: Circle\n",
        "class Circle(Shape):\n",
        "    def __init__(self, radius):\n",
        "        self.radius = radius\n",
        "\n",
        "    def area(self):\n",
        "        return math.pi * self.radius ** 2\n",
        "\n",
        "# Subclass 2: Rectangle\n",
        "class Rectangle(Shape):\n",
        "    def __init__(self, width, height):\n",
        "        self.width = width\n",
        "        self.height = height\n",
        "\n",
        "    def area(self):\n",
        "        return self.width * self.height\n",
        "\n",
        "# Example usage\n",
        "circle = Circle(5)\n",
        "rectangle = Rectangle(4, 6)\n",
        "\n",
        "print(\"Circle Area:\", circle.area())        # Output: 78.54...\n",
        "print(\"Rectangle Area:\", rectangle.area())  # Output: 24\n"
      ],
      "metadata": {
        "colab": {
          "base_uri": "https://localhost:8080/"
        },
        "id": "lg0REPLtskx0",
        "outputId": "7760432f-faf5-44d6-c5e3-1a93df0ff021"
      },
      "execution_count": 16,
      "outputs": [
        {
          "output_type": "stream",
          "name": "stdout",
          "text": [
            "Circle Area: 78.53981633974483\n",
            "Rectangle Area: 24\n"
          ]
        }
      ]
    },
    {
      "cell_type": "markdown",
      "source": [
        " Explanation:\n",
        "\n",
        "- Shape is an abstract base class with the area() method marked as abstract using the @abstractmethod decorator.\n",
        "\n",
        "- Circle and Rectangle are concrete subclasses that provide specific implementations of the area() method.\n",
        "\n",
        "- The ABC module ensures you cannot instantiate Shape directly."
      ],
      "metadata": {
        "id": "Xw-C6h2rspjf"
      }
    },
    {
      "cell_type": "code",
      "source": [
        "'''Q.9 Demonstrate polymorphism by creating a function that can work with different shape objects to calculate and print their areas.'''"
      ],
      "metadata": {
        "id": "6nf6hhGQswds"
      },
      "execution_count": null,
      "outputs": []
    },
    {
      "cell_type": "code",
      "source": [
        "from abc import ABC, abstractmethod\n",
        "import math\n",
        "\n",
        "# Abstract base class\n",
        "class Shape(ABC):\n",
        "    @abstractmethod\n",
        "    def area(self):\n",
        "        pass\n",
        "\n",
        "# Subclass: Circle\n",
        "class Circle(Shape):\n",
        "    def __init__(self, radius):\n",
        "        self.radius = radius\n",
        "\n",
        "    def area(self):\n",
        "        return math.pi * self.radius ** 2\n",
        "\n",
        "# Subclass: Rectangle\n",
        "class Rectangle(Shape):\n",
        "    def __init__(self, width, height):\n",
        "        self.width = width\n",
        "        self.height = height\n",
        "\n",
        "    def area(self):\n",
        "        return self.width * self.height\n",
        "\n",
        "# Polymorphic function\n",
        "def print_area(shape):\n",
        "    print(f\"Area: {shape.area()}\")\n",
        "\n",
        "# Example usage\n",
        "shapes = [Circle(5), Rectangle(4, 6)]\n",
        "\n",
        "for shape in shapes:\n",
        "    print_area(shape)\n"
      ],
      "metadata": {
        "colab": {
          "base_uri": "https://localhost:8080/"
        },
        "id": "2O0UcNXRs7Up",
        "outputId": "1c538765-6d53-49cb-d56b-1e7ce544ceec"
      },
      "execution_count": 17,
      "outputs": [
        {
          "output_type": "stream",
          "name": "stdout",
          "text": [
            "Area: 78.53981633974483\n",
            "Area: 24\n"
          ]
        }
      ]
    },
    {
      "cell_type": "markdown",
      "source": [
        " Explanation:\n",
        "\n",
        "- This demonstrates runtime polymorphism:\n",
        "The print_area() function treats all shapes uniformly, calling the appropriate area() method depending on the object's actual class.\n",
        "\n",
        "- The method call is resolved at runtime."
      ],
      "metadata": {
        "id": "FPvPPe86s_yN"
      }
    },
    {
      "cell_type": "code",
      "source": [
        "'''Q.10 Implement encapsulation in a `BankAccount` class with private attributes for `balance` and `account_number`. Include methods for deposit, withdrawal, and balance inquiry.'''"
      ],
      "metadata": {
        "id": "_8Fk57dItLqD"
      },
      "execution_count": null,
      "outputs": []
    },
    {
      "cell_type": "code",
      "source": [
        "class BankAccount:\n",
        "    def __init__(self, account_number, initial_balance=0):\n",
        "        self.__account_number = account_number  # Private attribute\n",
        "        self.__balance = initial_balance        # Private attribute\n",
        "\n",
        "    # Method to deposit money\n",
        "    def deposit(self, amount):\n",
        "        if amount > 0:\n",
        "            self.__balance += amount\n",
        "            print(f\"Deposited ₹{amount}\")\n",
        "        else:\n",
        "            print(\"Invalid deposit amount.\")\n",
        "\n",
        "    # Method to withdraw money\n",
        "    def withdraw(self, amount):\n",
        "        if 0 < amount <= self.__balance:\n",
        "            self.__balance -= amount\n",
        "            print(f\"Withdrew ₹{amount}\")\n",
        "        else:\n",
        "            print(\"Insufficient balance or invalid amount.\")\n",
        "\n",
        "    # Method to check balance\n",
        "    def get_balance(self):\n",
        "        return self.__balance\n",
        "\n",
        "    # Method to get account number\n",
        "    def get_account_number(self):\n",
        "        return self.__account_number\n",
        "\n",
        "# Example usage\n",
        "account = BankAccount(\"1234567890\", 1000)\n",
        "account.deposit(500)\n",
        "account.withdraw(300)\n",
        "print(\"Balance:\", account.get_balance())\n",
        "print(\"Account Number:\", account.get_account_number())\n"
      ],
      "metadata": {
        "colab": {
          "base_uri": "https://localhost:8080/"
        },
        "id": "Lk1rLHEstUAe",
        "outputId": "47843b7c-0b37-4d82-a798-9721b45f49a9"
      },
      "execution_count": 18,
      "outputs": [
        {
          "output_type": "stream",
          "name": "stdout",
          "text": [
            "Deposited ₹500\n",
            "Withdrew ₹300\n",
            "Balance: 1200\n",
            "Account Number: 1234567890\n"
          ]
        }
      ]
    },
    {
      "cell_type": "markdown",
      "source": [
        "Explanation:\n",
        "\n",
        "- __balance and __account_number are private attributes, enforcing encapsulation.\n",
        "\n",
        "- Access to these attributes is controlled using public methods like get_balance() and deposit()."
      ],
      "metadata": {
        "id": "bIeKBEl-tXGM"
      }
    },
    {
      "cell_type": "code",
      "source": [
        "'''Q.11 Write a class that overrides the `__str__` and `__add__` magic methods. What will these methods allow you to do?'''"
      ],
      "metadata": {
        "id": "HP-wkGZxtej9"
      },
      "execution_count": null,
      "outputs": []
    },
    {
      "cell_type": "code",
      "source": [
        "class Book:\n",
        "    def __init__(self, title, pages):\n",
        "        self.title = title\n",
        "        self.pages = pages\n",
        "\n",
        "    # Override __str__ for string representation\n",
        "    def __str__(self):\n",
        "        return f\"Book: '{self.title}' with {self.pages} pages\"\n",
        "\n",
        "    # Override __add__ to add pages of two books\n",
        "    def __add__(self, other):\n",
        "        return self.pages + other.pages\n",
        "\n",
        "# Example usage\n",
        "book1 = Book(\"Python Basics\", 150)\n",
        "book2 = Book(\"Advanced Python\", 200)\n",
        "\n",
        "print(book1)                 # Uses __str__\n",
        "print(book2)                 # Uses __str__\n",
        "print(\"Total Pages:\", book1 + book2)  # Uses __add__\n"
      ],
      "metadata": {
        "colab": {
          "base_uri": "https://localhost:8080/"
        },
        "id": "leOVJdvetnYV",
        "outputId": "b562da92-9f84-4631-aa7b-4cf53882f58d"
      },
      "execution_count": 19,
      "outputs": [
        {
          "output_type": "stream",
          "name": "stdout",
          "text": [
            "Book: 'Python Basics' with 150 pages\n",
            "Book: 'Advanced Python' with 200 pages\n",
            "Total Pages: 350\n"
          ]
        }
      ]
    },
    {
      "cell_type": "markdown",
      "source": [
        " Explanation:\n",
        "\n",
        "__str__() is a magic method that defines the string representation of the object when printed.\n",
        "\n",
        "__add__() is a magic method that allows use of the + operator to customize addition behavior (here, adding pages of two books).\n",
        "\n",
        "These methods make your class more intuitive and user-friendly when used in expressions and print statements.\n",
        "\n"
      ],
      "metadata": {
        "id": "Vi-E_ZKQtsRZ"
      }
    },
    {
      "cell_type": "code",
      "source": [
        "''' Q.12 Create a decorator that measures and prints the execution time of a function.'''"
      ],
      "metadata": {
        "id": "JdIl5F6wtvlt"
      },
      "execution_count": null,
      "outputs": []
    },
    {
      "cell_type": "code",
      "source": [
        "import time\n",
        "\n",
        "# Decorator definition\n",
        "def measure_time(func):\n",
        "    def wrapper(*args, **kwargs):\n",
        "        start = time.time()\n",
        "        result = func(*args, **kwargs)\n",
        "        end = time.time()\n",
        "        print(f\"Execution Time: {end - start:.4f} seconds\")\n",
        "        return result\n",
        "    return wrapper\n",
        "\n",
        "# Applying the decorator\n",
        "@measure_time\n",
        "def sample_function():\n",
        "    print(\"Function is running...\")\n",
        "    time.sleep(2)  # Simulate time-consuming task\n",
        "\n",
        "# Call the function\n",
        "sample_function()\n"
      ],
      "metadata": {
        "colab": {
          "base_uri": "https://localhost:8080/"
        },
        "id": "h6eM_QCbt9d1",
        "outputId": "5a4cc791-40db-4013-8314-d25cb6d17bca"
      },
      "execution_count": 20,
      "outputs": [
        {
          "output_type": "stream",
          "name": "stdout",
          "text": [
            "Function is running...\n",
            "Execution Time: 2.0001 seconds\n"
          ]
        }
      ]
    },
    {
      "cell_type": "markdown",
      "source": [
        "Explanation:\n",
        "\n",
        "- The measure_time decorator wraps any function.\n",
        "\n",
        "- It records the start and end time using time.time().\n",
        "\n",
        "- It prints the execution time in seconds.\n",
        "\n",
        "- Useful for profiling or performance testing of functions."
      ],
      "metadata": {
        "id": "gq4hoKUQuDQv"
      }
    },
    {
      "cell_type": "code",
      "source": [
        "'''Q.13 Explain the concept of the Diamond Problem in multiple inheritance. How does Python resolve it?'''"
      ],
      "metadata": {
        "id": "gJTmgO-tuJ-9"
      },
      "execution_count": null,
      "outputs": []
    },
    {
      "cell_type": "markdown",
      "source": [
        "What is the Diamond Problem?\n",
        "\n",
        "The Diamond Problem occurs in multiple inheritance when a class inherits from two classes that both inherit from a common superclass.\n",
        "\n",
        "This creates a diamond-shaped hierarchy, where it’s ambiguous which version of a method from the common superclass should be called."
      ],
      "metadata": {
        "id": "totYyYW6unR7"
      }
    },
    {
      "cell_type": "code",
      "source": [
        "class A:\n",
        "    def show(self):\n",
        "        print(\"Class A\")\n",
        "\n",
        "class B(A):\n",
        "    def show(self):\n",
        "        print(\"Class B\")\n",
        "\n",
        "class C(A):\n",
        "    def show(self):\n",
        "        print(\"Class C\")\n",
        "\n",
        "class D(B, C):  # Diamond inheritance\n",
        "    pass\n",
        "\n",
        "d = D()\n",
        "d.show()\n"
      ],
      "metadata": {
        "colab": {
          "base_uri": "https://localhost:8080/"
        },
        "id": "q0jGR0G7urli",
        "outputId": "15d18a0a-077b-4e8c-9fa9-c39f7e5e3001"
      },
      "execution_count": 21,
      "outputs": [
        {
          "output_type": "stream",
          "name": "stdout",
          "text": [
            "Class B\n"
          ]
        }
      ]
    },
    {
      "cell_type": "markdown",
      "source": [
        "Issue:\n",
        "\n",
        "- D inherits from both B and C, and both override A's show() method.\n",
        "\n",
        "- Which show() should be called? → This is the Diamond Problem.\n",
        "\n",
        "Python’s Solution: MRO (Method Resolution Order)\n",
        "\n",
        "Python uses the C3 Linearization algorithm to determine a consistent and predictable order to resolve method calls."
      ],
      "metadata": {
        "id": "Rn-kjP_DuuTL"
      }
    },
    {
      "cell_type": "code",
      "source": [
        "print(D.mro())\n"
      ],
      "metadata": {
        "colab": {
          "base_uri": "https://localhost:8080/"
        },
        "id": "sflozlC_u6mP",
        "outputId": "baca1f02-2795-4f66-b892-321215fe4433"
      },
      "execution_count": 22,
      "outputs": [
        {
          "output_type": "stream",
          "name": "stdout",
          "text": [
            "[<class '__main__.D'>, <class '__main__.B'>, <class '__main__.C'>, <class '__main__.A'>, <class 'object'>]\n"
          ]
        }
      ]
    },
    {
      "cell_type": "markdown",
      "source": [
        "Conclusion:\n",
        "\n",
        "- The Diamond Problem is a conflict in multiple inheritance when two classes inherit from the same superclass.\n",
        "\n",
        "- Python resolves it using the Method Resolution Order (MRO) via the C3 linearization algorithm to avoid ambiguity.\n",
        "\n"
      ],
      "metadata": {
        "id": "ldBbfYQBvAyh"
      }
    },
    {
      "cell_type": "code",
      "source": [
        "'''Q.14 Write a class method that keeps track of the number of instances created from a class.'''"
      ],
      "metadata": {
        "id": "mwbZpqZEvEWY"
      },
      "execution_count": null,
      "outputs": []
    },
    {
      "cell_type": "code",
      "source": [
        "class MyClass:\n",
        "    count = 0  # Class variable to track instances\n",
        "\n",
        "    def __init__(self):\n",
        "        MyClass.count += 1\n",
        "\n",
        "    @classmethod\n",
        "    def get_instance_count(cls):\n",
        "        return cls.count\n",
        "\n",
        "# Create objects\n",
        "obj1 = MyClass()\n",
        "obj2 = MyClass()\n",
        "obj3 = MyClass()\n",
        "\n",
        "# Check number of instances\n",
        "print(\"Total instances created:\", MyClass.get_instance_count())\n"
      ],
      "metadata": {
        "colab": {
          "base_uri": "https://localhost:8080/"
        },
        "id": "cg5YuXkuvORJ",
        "outputId": "39c281ac-7eb0-4627-d9c1-4d8563cfa873"
      },
      "execution_count": 23,
      "outputs": [
        {
          "output_type": "stream",
          "name": "stdout",
          "text": [
            "Total instances created: 3\n"
          ]
        }
      ]
    },
    {
      "cell_type": "markdown",
      "source": [
        "Explanation:\n",
        "\n",
        "- count is a class variable shared among all instances.\n",
        "\n",
        "- The constructor __init__() increments count whenever a new object is created.\n",
        "\n",
        "- get_instance_count() is a class method (marked with @classmethod) that accesses count using cls."
      ],
      "metadata": {
        "id": "xcb4Gr0bvTG0"
      }
    },
    {
      "cell_type": "code",
      "source": [
        "'''Q.15 Implement a static method in a class that checks if a given year is a leap year'''"
      ],
      "metadata": {
        "id": "ZjVj1et8vby_"
      },
      "execution_count": null,
      "outputs": []
    },
    {
      "cell_type": "code",
      "source": [
        "class YearUtility:\n",
        "    @staticmethod\n",
        "    def is_leap_year(year):\n",
        "        if (year % 4 == 0 and year % 100 != 0) or (year % 400 == 0):\n",
        "            return True\n",
        "        else:\n",
        "            return False\n",
        "\n",
        "# Example usage\n",
        "print(YearUtility.is_leap_year(2024))  # Output: True\n",
        "print(YearUtility.is_leap_year(1900))  # Output: False\n",
        "print(YearUtility.is_leap_year(2000))  # Output: True\n"
      ],
      "metadata": {
        "colab": {
          "base_uri": "https://localhost:8080/"
        },
        "id": "lAtkg2ktvioP",
        "outputId": "8bab674a-5767-4690-ee1a-fac0db77312d"
      },
      "execution_count": 24,
      "outputs": [
        {
          "output_type": "stream",
          "name": "stdout",
          "text": [
            "True\n",
            "False\n",
            "True\n"
          ]
        }
      ]
    },
    {
      "cell_type": "markdown",
      "source": [
        "Explanation:\n",
        "\n",
        "- @staticmethod defines a method that does not access class or instance variables.\n",
        "\n",
        "- is_leap_year() works independently of any object, making it suitable as a static method.\n",
        "\n",
        "- A leap year:\n",
        "\n",
        " - Is divisible by 4 and not divisible by 100, or\n",
        "\n",
        " - Is divisible by 400"
      ],
      "metadata": {
        "id": "2eZJNZI0vlfD"
      }
    }
  ]
}
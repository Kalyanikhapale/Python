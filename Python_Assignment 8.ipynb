{
  "nbformat": 4,
  "nbformat_minor": 0,
  "metadata": {
    "colab": {
      "provenance": []
    },
    "kernelspec": {
      "name": "python3",
      "display_name": "Python 3"
    },
    "language_info": {
      "name": "python"
    }
  },
  "cells": [
    {
      "cell_type": "code",
      "execution_count": null,
      "metadata": {
        "id": "KjXJvHsn6ED-"
      },
      "outputs": [],
      "source": [
        "'''Q1.Discuss the scenarios where multithreading is preferable to multiprocessing and scenarios where\n",
        "multiprocessing is a better choice.'''"
      ]
    },
    {
      "cell_type": "markdown",
      "source": [
        "Multithreading vs. Multiprocessing:\n",
        "Suitable Scenarios\n",
        "\n",
        "#Multithreading is Preferable When:\n",
        "\n",
        " 1.I/O-Bound Tasks:\n",
        "\n",
        "Tasks that involve waiting for input/output operations like file reading, network communication, and database queries.\n",
        "Example: Web servers handling multiple user requests.\n",
        "\n",
        "2.Real-Time or Responsive Applications:\n",
        "\n",
        "Applications like games, GUIs where quick response is needed even while processing background tasks.\n",
        "\n",
        "\n",
        "3.Memory Efficiency:\n",
        "\n",
        "Threads share the same memory space, which saves system resources.\n",
        "\n",
        "4.Lightweight Tasks:\n",
        "\n",
        "When tasks are small and switching between them needs to be fast.\n",
        "\n",
        "\n",
        "#Multiprocessing is Preferable When:\n",
        "1.CPU-Bound Tasks:\n",
        "\n",
        "Tasks that require heavy computation like mathematical calculations, image processing, or machine learning.\n",
        "Example: Video rendering, large data analysis.\n",
        "\n",
        "2.True Parallelism is Required:\n",
        "\n",
        "Multiple processes can run independently on different CPU cores, overcoming Python's Global Interpreter Lock (GIL).\n",
        "\n",
        "3.Memory Isolation is Needed:\n",
        "\n",
        "Each process has its own memory space, reducing the chance of data corruption.\n",
        "\n",
        "4.High Fault Tolerance:\n",
        "\n",
        "If one process crashes, it does not affect others.\n",
        "\n",
        "#Conclusion:\n",
        "\n",
        "Multithreading:\n",
        "Best for I/O-bound tasks needing fast switching and low memory use.\n",
        "\n",
        "Multiprocessing: Best for CPU-bound tasks requiring true parallel execution and memory isolation."
      ],
      "metadata": {
        "id": "eb1ICYJr6gyt"
      }
    },
    {
      "cell_type": "code",
      "source": [
        "'''Q2.Describe what a process pool is and how it helps in managing multiple processes efficiently.'''"
      ],
      "metadata": {
        "id": "rw0qECi38I4_"
      },
      "execution_count": null,
      "outputs": []
    },
    {
      "cell_type": "markdown",
      "source": [
        "#Process Pool\n",
        "Definition:\n",
        "\n",
        "A process pool is a collection of worker processes that are created in advance and can be reused to execute multiple tasks concurrently.\n",
        "\n",
        "How it Helps:\n",
        "\n",
        "Efficient Process Management:\n",
        "Instead of creating and destroying processes repeatedly, the process pool maintains a fixed number of processes that can be reused, reducing overhead.\n",
        "\n",
        "Parallel Execution:\n",
        "\n",
        "Multiple tasks can be assigned to the pool, which distributes them across the available processes for faster execution.\n",
        "\n",
        "Resource Control:\n",
        "\n",
        "Limits the number of active processes, preventing system overload.\n",
        "\n",
        "Simplified Programming:\n",
        "\n",
        "Provides built-in methods (like map, apply) to easily distribute tasks without complex process management.\n",
        "\n",
        "Example:\n",
        "\n",
        "In Python, multiprocessing.Pool can be used to create a process pool to efficiently manage parallel tasks."
      ],
      "metadata": {
        "id": "W6ntahra_bqr"
      }
    },
    {
      "cell_type": "code",
      "source": [
        "'''Q3.Explain what multiprocessing is and why it is used in Python programs.'''"
      ],
      "metadata": {
        "id": "HgT3TEEC_wXt"
      },
      "execution_count": null,
      "outputs": []
    },
    {
      "cell_type": "markdown",
      "source": [
        "Definition:\n",
        "\n",
        "Multiprocessing is a technique that allows a program to create and run multiple processes simultaneously, each with its own memory space.\n",
        "\n",
        "Why Multiprocessing is Used:\n",
        "\n",
        "1.True Parallelism:\n",
        "\n",
        "Multiprocessing allows tasks to run in parallel on multiple CPU cores, increasing execution speed for CPU-intensive tasks.\n",
        "\n",
        "2.Bypasses Global Interpreter Lock (GIL):\n",
        "\n",
        "Python’s GIL restricts multithreading from achieving true parallelism. Multiprocessing overcomes this limitation.\n",
        "\n",
        "3.Improves Performance:\n",
        "\n",
        "Useful for tasks like large computations, data analysis, and image processing that require high processing power.\n",
        "\n",
        "4.Memory Isolation:\n",
        "\n",
        "Each process has separate memory, reducing the chances of data corruption and making the program more stable.\n",
        "\n",
        "5.Better Fault Tolerance:\n",
        "\n",
        "If one process fails, it does not affect the execution of other processes."
      ],
      "metadata": {
        "id": "qc1Io03f_-tK"
      }
    },
    {
      "cell_type": "code",
      "source": [
        "'''Q4.Write a Python program using multithreading where one thread adds numbers to a list, and another\n",
        "thread removes numbers from the list. Implement a mechanism to avoid race conditions using\n",
        "threading.Lock.'''"
      ],
      "metadata": {
        "id": "e_z1dK3CAS8K"
      },
      "execution_count": null,
      "outputs": []
    },
    {
      "cell_type": "markdown",
      "source": [],
      "metadata": {
        "id": "F5M8vZAFAc5l"
      }
    },
    {
      "cell_type": "code",
      "source": [
        "import threading\n",
        "import time\n",
        "import random\n",
        "\n",
        "# Shared list\n",
        "shared_list = []\n",
        "\n",
        "# Lock for synchronization\n",
        "list_lock = threading.Lock()\n",
        "\n",
        "# Function to add numbers to the list\n",
        "def add_numbers():\n",
        "    for i in range(10):\n",
        "        time.sleep(random.uniform(0.1, 0.5))  # Simulate work\n",
        "        with list_lock:\n",
        "            shared_list.append(i)\n",
        "            print(f\"Added {i}, List: {shared_list}\")\n",
        "\n",
        "# Function to remove numbers from the list\n",
        "def remove_numbers():\n",
        "    for _ in range(10):\n",
        "        time.sleep(random.uniform(0.1, 0.5))  # Simulate work\n",
        "        with list_lock:\n",
        "            if shared_list:\n",
        "                removed = shared_list.pop(0)\n",
        "                print(f\"Removed {removed}, List: {shared_list}\")\n",
        "            else:\n",
        "                print(\"List is empty, cannot remove.\")\n",
        "\n",
        "# Create threads\n",
        "adder_thread = threading.Thread(target=add_numbers)\n",
        "remover_thread = threading.Thread(target=remove_numbers)\n",
        "\n",
        "# Start threads\n",
        "adder_thread.start()\n",
        "remover_thread.start()\n",
        "\n",
        "# Wait for both threads to finish\n",
        "adder_thread.join()\n",
        "remover_thread.join()\n",
        "\n",
        "print(\"Final List:\", shared_list)\n"
      ],
      "metadata": {
        "colab": {
          "base_uri": "https://localhost:8080/"
        },
        "id": "HmDZj0hNAbQ9",
        "outputId": "377027d4-19d5-4393-ea5b-ad4311123744"
      },
      "execution_count": 1,
      "outputs": [
        {
          "output_type": "stream",
          "name": "stdout",
          "text": [
            "Added 0, List: [0]\n",
            "Removed 0, List: []\n",
            "Added 1, List: [1]\n",
            "Added 2, List: [1, 2]\n",
            "Removed 1, List: [2]\n",
            "Added 3, List: [2, 3]\n",
            "Removed 2, List: [3]\n",
            "Removed 3, List: []\n",
            "Added 4, List: [4]\n",
            "Added 5, List: [4, 5]\n",
            "Removed 4, List: [5]\n",
            "Added 6, List: [5, 6]\n",
            "Added 7, List: [5, 6, 7]\n",
            "Removed 5, List: [6, 7]\n",
            "Added 8, List: [6, 7, 8]\n",
            "Added 9, List: [6, 7, 8, 9]\n",
            "Removed 6, List: [7, 8, 9]\n",
            "Removed 7, List: [8, 9]\n",
            "Removed 8, List: [9]\n",
            "Removed 9, List: []\n",
            "Final List: []\n"
          ]
        }
      ]
    },
    {
      "cell_type": "markdown",
      "source": [
        "#Explanation:\n",
        "\n",
        "1.threading.Lock() = ensures that only one thread can access the list at a time, preventing race conditions.\n",
        "\n",
        "2.with list_lock: = automatically acquires and releases the lock.\n",
        "\n",
        "3.time.sleep()= is used to simulate processing time and make thread switching visible.\n",
        "\n",
        "4.Both threads (adder_thread and remover_thread) run concurrently but safely."
      ],
      "metadata": {
        "id": "NIV9-EZ8Ayl8"
      }
    },
    {
      "cell_type": "code",
      "source": [
        "'''Q5.Describe the methods and tools available in Python for safely sharing data between threads and\n",
        "processes.'''"
      ],
      "metadata": {
        "id": "rbelb2TlBaOQ"
      },
      "execution_count": null,
      "outputs": []
    },
    {
      "cell_type": "markdown",
      "source": [
        "1. Sharing Data Between Threads:\n",
        "\n",
        "1.threading.Lock:\n",
        "\n",
        "A mutual exclusion lock used to ensure that only one thread accesses shared data at a time, preventing race conditions.\n",
        "\n",
        "2.threading.RLock (Reentrant Lock):\n",
        "\n",
        "A lock that can be acquired multiple times by the same thread, useful for complex synchronization.\n",
        "\n",
        "3.threading.Semaphore:\n",
        "\n",
        "Controls access to a shared resource with a fixed number of permits, useful when limited resources are available.\n",
        "\n",
        "4.threading.Event:\n",
        "\n",
        "Used to signal between threads, ensuring coordination and safe access.\n",
        "\n",
        "5.threading.Condition:\n",
        "\n",
        "Provides more advanced control, allowing threads to wait for specific conditions before proceeding.\n",
        "\n",
        " 2. Sharing Data Between Processes:\n",
        "\n",
        "1.multiprocessing.Queue:\n",
        "\n",
        "A thread-safe, process-safe queue for passing data between processes.\n",
        "\n",
        "2.multiprocessing.Pipe:\n",
        "\n",
        "Provides a direct connection between two processes to exchange data safely.\n",
        "\n",
        "3.multiprocessing.Value and multiprocessing.Array:\n",
        "\n",
        "Shared memory objects that allow processes to safely share simple data types (Value) or arrays (Array) with automatic locking.\n",
        "\n",
        "4.multiprocessing.Manager:\n",
        "\n",
        "Allows sharing of complex objects like lists and dictionaries between processes with built-in synchronization.\n",
        "\n"
      ],
      "metadata": {
        "id": "2-hb75puBtze"
      }
    },
    {
      "cell_type": "code",
      "source": [
        "'''Q6.Discuss why it’s crucial to handle exceptions in concurrent programs and the techniques available for\n",
        "doing so.'''"
      ],
      "metadata": {
        "id": "Qsmh-ocnCRlu"
      },
      "execution_count": null,
      "outputs": []
    },
    {
      "cell_type": "markdown",
      "source": [
        "#Importance of Exception Handling in Concurrent Programs\n",
        "\n",
        "1.Why Exception Handling is Crucial:\n",
        "\n",
        "1.Prevent Program Crashes:\n",
        "\n",
        "Unhandled exceptions in threads or processes can cause the entire program to terminate unexpectedly.\n",
        "\n",
        "2.Ensure Resource Cleanup:\n",
        "\n",
        "Proper handling ensures that locks, files, and other resources are safely released, avoiding deadlocks and memory leaks.\n",
        "\n",
        "3.Maintain Data Integrity:\n",
        "\n",
        "Exceptions can leave shared data in an inconsistent state if not properly handled.\n",
        "\n",
        "4.Enable Smooth Execution:\n",
        "\n",
        "Allows other threads or processes to continue working even if one fails, improving fault tolerance.\n",
        "\n",
        "#Techniques for Exception Handling in Concurrent Programs:\n",
        "\n",
        "1. In Multithreading:\n",
        "\n",
        "Try-Except Blocks:\n",
        "\n",
        "Surround thread code with try-except to catch and handle exceptions safely.\n",
        "\n",
        "Thread Join with Exception Tracking:\n",
        "\n",
        "Use custom thread classes to store exceptions for later handling after thread completion.\n",
        "\n",
        "\n",
        " 2. In Multiprocessing:\n",
        "\n",
        "Try-Except Inside Process:\n",
        "\n",
        "Wrap process code in try-except to handle errors within each process.\n",
        "\n",
        "Use multiprocessing.Pool with apply_async:\n",
        "\n",
        "The apply_async method can return results and exceptions using callbacks and error handlers.\n",
        "\n",
        " 3. Common Tools:\n",
        "\n",
        "Logging:\n",
        "\n",
        "Record exceptions and thread/process status for debugging and monitoring.\n",
        "\n",
        "Timeouts:\n",
        "\n",
        "Set timeouts to prevent deadlocks and long waits if a thread or process hangs."
      ],
      "metadata": {
        "id": "9sXA5FF7Cg9X"
      }
    },
    {
      "cell_type": "code",
      "source": [
        "'''Q7.Create a program that uses a thread pool to calculate the factorial of numbers from 1 to 10 concurrently.\n",
        "Use concurrent.futures.ThreadPoolExecutor to manage the threads.'''"
      ],
      "metadata": {
        "id": "o3lkM-NRDSBi"
      },
      "execution_count": null,
      "outputs": []
    },
    {
      "cell_type": "code",
      "source": [
        "import concurrent.futures\n",
        "import math\n",
        "\n",
        "# Function to calculate factorial\n",
        "def calculate_factorial(n):\n",
        "    result = math.factorial(n)\n",
        "    print(f\"Factorial of {n} is {result}\")\n",
        "    return result\n",
        "\n",
        "# Main program\n",
        "if __name__ == \"__main__\":\n",
        "    numbers = range(1, 11)  # Numbers from 1 to 10\n",
        "\n",
        "    # Create a thread pool\n",
        "    with concurrent.futures.ThreadPoolExecutor() as executor:\n",
        "        # Submit tasks to the thread pool\n",
        "        results = executor.map(calculate_factorial, numbers)\n",
        "\n",
        "    print(\"All factorials calculated.\")\n"
      ],
      "metadata": {
        "colab": {
          "base_uri": "https://localhost:8080/"
        },
        "id": "BuW1t3V-DhKt",
        "outputId": "f0ae90fa-862b-48a7-a380-71ee410a7fe0"
      },
      "execution_count": 2,
      "outputs": [
        {
          "output_type": "stream",
          "name": "stdout",
          "text": [
            "Factorial of 1 is 1\n",
            "Factorial of 2 is 2\n",
            "Factorial of 3 is 6\n",
            "Factorial of 4 is 24\n",
            "Factorial of 5 is 120\n",
            "Factorial of 6 is 720\n",
            "Factorial of 7 is 5040\n",
            "Factorial of 8 is 40320\n",
            "Factorial of 9 is 362880\n",
            "Factorial of 10 is 3628800\n",
            "All factorials calculated.\n"
          ]
        }
      ]
    },
    {
      "cell_type": "markdown",
      "source": [
        "#Explanation:\n",
        "\n",
        "ThreadPoolExecutor: Manages a pool of threads efficiently.\n",
        "\n",
        "executor.map(): Assigns each number to a separate thread automatically.\n",
        "\n",
        "math.factorial(): Calculates the factorial of each number."
      ],
      "metadata": {
        "id": "NUlXj7njDlff"
      }
    },
    {
      "cell_type": "code",
      "source": [
        "'''Q8.Create a Python program that uses multiprocessing.Pool to compute the square of numbers from 1 to 10 in\n",
        "parallel. Measure the time taken to perform this computation using a pool of different sizes (e.g., 2, 4, 8\n",
        "processes)'''"
      ],
      "metadata": {
        "id": "L2hEDA7eDvZb"
      },
      "execution_count": null,
      "outputs": []
    },
    {
      "cell_type": "code",
      "source": [
        "import multiprocessing\n",
        "import time\n",
        "\n",
        "# Function to compute square\n",
        "def compute_square(n):\n",
        "    return n * n\n",
        "\n",
        "# Function to run the multiprocessing pool with different sizes\n",
        "def run_with_pool_size(pool_size, numbers):\n",
        "    start_time = time.time()\n",
        "    with multiprocessing.Pool(processes=pool_size) as pool:\n",
        "        results = pool.map(compute_square, numbers)\n",
        "    end_time = time.time()\n",
        "    print(f\"\\nPool Size: {pool_size}\")\n",
        "    print(f\"Squares: {results}\")\n",
        "    print(f\"Time Taken: {end_time - start_time:.4f} seconds\")\n",
        "\n",
        "if __name__ == \"__main__\":\n",
        "    numbers = list(range(1, 11))  # Numbers from 1 to 10\n",
        "\n",
        "    # Test with different pool sizes\n",
        "    for pool_size in [2, 4, 8]:\n",
        "        run_with_pool_size(pool_size, numbers)\n"
      ],
      "metadata": {
        "colab": {
          "base_uri": "https://localhost:8080/"
        },
        "id": "Jsf6VJViD7SD",
        "outputId": "a4f377e6-ef4d-43d6-b70a-0ef7162cf1cb"
      },
      "execution_count": 3,
      "outputs": [
        {
          "output_type": "stream",
          "name": "stdout",
          "text": [
            "\n",
            "Pool Size: 2\n",
            "Squares: [1, 4, 9, 16, 25, 36, 49, 64, 81, 100]\n",
            "Time Taken: 0.0252 seconds\n",
            "\n",
            "Pool Size: 4\n",
            "Squares: [1, 4, 9, 16, 25, 36, 49, 64, 81, 100]\n",
            "Time Taken: 0.0441 seconds\n",
            "\n",
            "Pool Size: 8\n",
            "Squares: [1, 4, 9, 16, 25, 36, 49, 64, 81, 100]\n",
            "Time Taken: 0.0707 seconds\n"
          ]
        }
      ]
    },
    {
      "cell_type": "markdown",
      "source": [
        "Explanation:\n",
        "\n",
        "multiprocessing.Pool(processes=n): Creates a pool with n worker processes.\n",
        "\n",
        "pool.map(): Distributes the computation across the available processes.\n",
        "\n",
        "time.time(): Measures execution time.\n",
        "\n",
        "Loop for pool sizes: Runs the same task using different numbers of processes to compare performance.\n",
        "\n"
      ],
      "metadata": {
        "id": "sbAG-DBbEFa4"
      }
    }
  ]
}
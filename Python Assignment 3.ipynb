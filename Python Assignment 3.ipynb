{
  "nbformat": 4,
  "nbformat_minor": 0,
  "metadata": {
    "colab": {
      "provenance": []
    },
    "kernelspec": {
      "name": "python3",
      "display_name": "Python 3"
    },
    "language_info": {
      "name": "python"
    }
  },
  "cells": [
    {
      "cell_type": "code",
      "execution_count": null,
      "metadata": {
        "id": "9SBPW9zm91Pm"
      },
      "outputs": [],
      "source": [
        "#Theory Questions:"
      ]
    },
    {
      "cell_type": "code",
      "source": [
        "'''Q.1 What is the difference between a function and a method in Python?'''"
      ],
      "metadata": {
        "id": "9kKGeiTH-EnU"
      },
      "execution_count": null,
      "outputs": []
    },
    {
      "cell_type": "markdown",
      "source": [
        " 1. Function:\n",
        " - A function is a block of reusable code that is not associated with any object or class.\n",
        "\n",
        "- It can be called independently.\n",
        "\n",
        "- Functions can be built-in or user-defined.\n"
      ],
      "metadata": {
        "id": "duR_1Wck-coX"
      }
    },
    {
      "cell_type": "code",
      "source": [
        "#Example of a Function:\n",
        "def add(a, b):\n",
        "    return a + b\n",
        "\n",
        "result = add(10, 5)\n",
        "print(result)  # Output: 15\n"
      ],
      "metadata": {
        "colab": {
          "base_uri": "https://localhost:8080/"
        },
        "id": "6EZ9rMRs-qrl",
        "outputId": "63946ef4-056b-4a37-cb86-bc9ab2270afd"
      },
      "execution_count": 1,
      "outputs": [
        {
          "output_type": "stream",
          "name": "stdout",
          "text": [
            "15\n"
          ]
        }
      ]
    },
    {
      "cell_type": "markdown",
      "source": [
        " 2. Method:\n",
        "\n",
        "- A method is a function that is associated with an object.\n",
        "\n",
        "- Methods are defined inside a class.\n",
        "\n",
        "- They take self as the first parameter to refer to the object instance."
      ],
      "metadata": {
        "id": "4zrrG-au-udq"
      }
    },
    {
      "cell_type": "code",
      "source": [
        "# Example of a Method:\n",
        "class Calculator:\n",
        "    def add(self, a, b):\n",
        "        return a + b\n",
        "\n",
        "calc = Calculator()\n",
        "result = calc.add(10, 5)\n",
        "print(result)  # Output: 15\n"
      ],
      "metadata": {
        "colab": {
          "base_uri": "https://localhost:8080/"
        },
        "id": "uXbg0wHn-3OG",
        "outputId": "e913eaac-a596-4514-a7f8-4ccd2e48c316"
      },
      "execution_count": 2,
      "outputs": [
        {
          "output_type": "stream",
          "name": "stdout",
          "text": [
            "15\n"
          ]
        }
      ]
    },
    {
      "cell_type": "markdown",
      "source": [
        "| Aspect         | Function                  | Method                           |\n",
        "| -------------- | ------------------------- | -------------------------------- |\n",
        "| Definition     | Defined outside a class   | Defined inside a class           |\n",
        "| Called on      | Called directly           | Called on an object (instance)   |\n",
        "| First Argument | No special first argument | First argument is usually `self` |\n",
        "\n",
        "Conclusion:\n",
        "\n",
        "Use a function when the code is general-purpose and not tied to an object.\n",
        "\n",
        "Use a method when working with classes and objects in Object-Oriented Programming."
      ],
      "metadata": {
        "id": "NNjLpOoB-8fE"
      }
    },
    {
      "cell_type": "code",
      "source": [
        "'''Q.2 Explain the concept of function arguments and parameters in Python.'''"
      ],
      "metadata": {
        "id": "z0Xz-nGH_A69"
      },
      "execution_count": null,
      "outputs": []
    },
    {
      "cell_type": "markdown",
      "source": [
        " 1. Parameters:\n",
        "\n",
        "Parameters are placeholders or variables defined in the function definition.\n",
        "\n",
        "They define what kind of input the function expects."
      ],
      "metadata": {
        "id": "kFwtELte_QEB"
      }
    },
    {
      "cell_type": "code",
      "source": [
        "# Example:\n",
        "def greet(name):  # 'name' is a parameter\n",
        "    print(\"Hello,\", name)\n"
      ],
      "metadata": {
        "id": "y_Jgu8oM_Wom"
      },
      "execution_count": 5,
      "outputs": []
    },
    {
      "cell_type": "markdown",
      "source": [
        "2. Arguments:\n",
        "\n",
        "Arguments are the actual values passed to the function when it is called.\n",
        "\n",
        "These values are assigned to the parameters."
      ],
      "metadata": {
        "id": "v9PBJjyd_bCE"
      }
    },
    {
      "cell_type": "code",
      "source": [
        "greet(\"Kalyani\")  # \"Kalyani\" is an argument\n"
      ],
      "metadata": {
        "colab": {
          "base_uri": "https://localhost:8080/"
        },
        "id": "8e4ikyGr_wj-",
        "outputId": "08630af4-5c4e-4f98-b391-930ffe85ba84"
      },
      "execution_count": 6,
      "outputs": [
        {
          "output_type": "stream",
          "name": "stdout",
          "text": [
            "Hello, Kalyani\n"
          ]
        }
      ]
    },
    {
      "cell_type": "markdown",
      "source": [
        "| Type                | Description                                             | Example                         |\n",
        "| ------------------- | ------------------------------------------------------- | ------------------------------- |\n",
        "| **Positional**      | Passed in order; matched by position.                   | `def add(a, b):`<br>`add(2, 3)` |\n",
        "| **Keyword**         | Passed with parameter name, order doesn't matter.       | `add(a=2, b=3)`                 |\n",
        "| **Default**         | Uses default value if no argument is passed.            | `def greet(name=\"Guest\"):`      |\n",
        "| **Variable-length** | Accepts multiple arguments using `*args` or `**kwargs`. | `def total(*numbers):`          |\n"
      ],
      "metadata": {
        "id": "FVg4sF4J_zCl"
      }
    },
    {
      "cell_type": "code",
      "source": [
        "#Example of All Types Together:\n",
        "def student(name, age=18, *subjects, **marks):\n",
        "    print(name, age, subjects, marks)\n",
        "\n",
        "student(\"Amit\", 20, \"Math\", \"Science\", Math=90, Science=95)\n"
      ],
      "metadata": {
        "colab": {
          "base_uri": "https://localhost:8080/"
        },
        "id": "mLlIZhCD_2sY",
        "outputId": "01550153-7319-4842-934c-d20ba4bbce14"
      },
      "execution_count": 7,
      "outputs": [
        {
          "output_type": "stream",
          "name": "stdout",
          "text": [
            "Amit 20 ('Math', 'Science') {'Math': 90, 'Science': 95}\n"
          ]
        }
      ]
    },
    {
      "cell_type": "markdown",
      "source": [
        "Conclusion:\n",
        "\n",
        "Parameters are defined in function definitions.\n",
        "\n",
        "Arguments are passed during function calls.\n",
        "\n",
        "Python supports multiple types of arguments for flexible function design."
      ],
      "metadata": {
        "id": "ZO6bBNLM_8BB"
      }
    },
    {
      "cell_type": "code",
      "source": [
        "'''Q.3 What are the different ways to define and call a function in Python?'''"
      ],
      "metadata": {
        "id": "94wYRxqe_-_N"
      },
      "execution_count": null,
      "outputs": []
    },
    {
      "cell_type": "code",
      "source": [
        "# A. Defining a Function\n",
        "#1. Standard Function Definition (Using def keyword):\n",
        "def greet():\n",
        "    print(\"Hello!\")\n"
      ],
      "metadata": {
        "id": "oXgE_wqlAU2d"
      },
      "execution_count": 8,
      "outputs": []
    },
    {
      "cell_type": "code",
      "source": [
        "#2. Function with Parameters:\n",
        "def greet(name):\n",
        "    print(\"Hello,\", name)\n"
      ],
      "metadata": {
        "id": "u748dYc2Aaf1"
      },
      "execution_count": 9,
      "outputs": []
    },
    {
      "cell_type": "code",
      "source": [
        "#3. Function with Default Parameters:\n",
        "def greet(name=\"Guest\"):\n",
        "    print(\"Hello,\", name)\n"
      ],
      "metadata": {
        "id": "2047nOc4AfZU"
      },
      "execution_count": 10,
      "outputs": []
    },
    {
      "cell_type": "code",
      "source": [
        "#4. Function with Return Statement:\n",
        "def add(a, b):\n",
        "    return a + b\n"
      ],
      "metadata": {
        "id": "zEpOjyXCAlfm"
      },
      "execution_count": 11,
      "outputs": []
    },
    {
      "cell_type": "code",
      "source": [
        "#5. Lambda Function (Anonymous Function):\n",
        "square = lambda x: x * x\n",
        "print(square(5))  # Output: 25\n"
      ],
      "metadata": {
        "colab": {
          "base_uri": "https://localhost:8080/"
        },
        "id": "2gm6IfNvAr7e",
        "outputId": "4028cd39-a429-46b4-ff70-eb985846d82f"
      },
      "execution_count": 12,
      "outputs": [
        {
          "output_type": "stream",
          "name": "stdout",
          "text": [
            "25\n"
          ]
        }
      ]
    },
    {
      "cell_type": "code",
      "source": [
        "# B. Calling a Function\n",
        "#1. Without Arguments:\n",
        "def welcome():\n",
        "    print(\"Welcome!\")\n",
        "\n",
        "welcome()  # Calling the function\n"
      ],
      "metadata": {
        "colab": {
          "base_uri": "https://localhost:8080/"
        },
        "id": "TBYhw1ybAyFa",
        "outputId": "fffa5292-c50e-4981-8fb5-616101139019"
      },
      "execution_count": 13,
      "outputs": [
        {
          "output_type": "stream",
          "name": "stdout",
          "text": [
            "Welcome!\n"
          ]
        }
      ]
    },
    {
      "cell_type": "code",
      "source": [
        "#2. With Positional Arguments:\n",
        "def add(a, b):\n",
        "    print(a + b)\n",
        "\n",
        "add(2, 3)  # Output: 5\n"
      ],
      "metadata": {
        "colab": {
          "base_uri": "https://localhost:8080/"
        },
        "id": "flTkSUhNA5kW",
        "outputId": "a1612191-bfb1-4692-9ac0-da716fc63e24"
      },
      "execution_count": 14,
      "outputs": [
        {
          "output_type": "stream",
          "name": "stdout",
          "text": [
            "5\n"
          ]
        }
      ]
    },
    {
      "cell_type": "code",
      "source": [
        "#3. With Keyword Arguments:\n",
        "add(a=2, b=3)  # Output: 5\n"
      ],
      "metadata": {
        "colab": {
          "base_uri": "https://localhost:8080/"
        },
        "id": "Zg8OvbkVA_Cn",
        "outputId": "255807b1-da82-4f9f-8727-f9a8cebdd328"
      },
      "execution_count": 15,
      "outputs": [
        {
          "output_type": "stream",
          "name": "stdout",
          "text": [
            "5\n"
          ]
        }
      ]
    },
    {
      "cell_type": "code",
      "source": [
        "#4. With Default Parameters:\n",
        "def greet(name=\"Guest\"):\n",
        "    print(\"Hello,\", name)\n",
        "\n",
        "greet()           # Output: Hello, Guest\n",
        "greet(\"Kalyani\")  # Output: Hello, Kalyani\n"
      ],
      "metadata": {
        "colab": {
          "base_uri": "https://localhost:8080/"
        },
        "id": "h-OZpDokBFcv",
        "outputId": "68e6ebec-7788-4806-cc1b-d7e01a029356"
      },
      "execution_count": 16,
      "outputs": [
        {
          "output_type": "stream",
          "name": "stdout",
          "text": [
            "Hello, Guest\n",
            "Hello, Kalyani\n"
          ]
        }
      ]
    },
    {
      "cell_type": "code",
      "source": [
        "#5. With Variable-Length Arguments:\n",
        "def total(*nums):          #args\n",
        "    print(sum(nums))\n",
        "\n",
        "total(1, 2, 3, 4)  # Output: 10\n",
        "\n",
        "def show_marks(**marks):   #kwargs\n",
        "    print(marks)\n",
        "\n",
        "show_marks(Math=90, Science=85)\n",
        "# Output: {'Math': 90, 'Science': 85}\n",
        "\n"
      ],
      "metadata": {
        "colab": {
          "base_uri": "https://localhost:8080/"
        },
        "id": "CywnuGbfBKvw",
        "outputId": "e715b24e-2ec0-43f0-dca3-f24ad0ee9b79"
      },
      "execution_count": 18,
      "outputs": [
        {
          "output_type": "stream",
          "name": "stdout",
          "text": [
            "10\n",
            "{'Math': 90, 'Science': 85}\n"
          ]
        }
      ]
    },
    {
      "cell_type": "markdown",
      "source": [
        "| Definition Type | Keyword Used | Example         |\n",
        "| --------------- | ------------ | --------------- |\n",
        "| Normal function | `def`        | `def greet():`  |\n",
        "| Lambda function | `lambda`     | `lambda x: x+1` |\n",
        "\n",
        "\n",
        "| Call Type                  | Example                           |\n",
        "| -------------------------- | --------------------------------- |\n",
        "| Positional                 | `add(2, 3)`                       |\n",
        "| Keyword                    | `add(a=2, b=3)`                   |\n",
        "| Default                    | `greet()` or `greet(\"Kalyani\")`   |\n",
        "| Variable-Length `*args`    | `total(1, 2, 3)`                  |\n",
        "| Variable-Length `**kwargs` | `show_marks(Math=90, English=85)` |\n"
      ],
      "metadata": {
        "id": "7PW-qViUBkLR"
      }
    },
    {
      "cell_type": "code",
      "source": [
        "'''Q.4 What is the purpose of the `return` statement in a Python function?'''"
      ],
      "metadata": {
        "id": "pG2IGrymBqvM"
      },
      "execution_count": null,
      "outputs": []
    },
    {
      "cell_type": "markdown",
      "source": [
        "Purpose of return Statement:\n",
        "\n",
        "1. Sends Output from Function:\n",
        "\n",
        "Transfers the result of a function to the caller.\n",
        "\n",
        "2. Ends Function Execution:\n",
        "\n",
        "Terminates the function when return is encountered.\n",
        "\n",
        "3. Allows Value Storage:\n",
        "\n",
        "The returned value can be assigned to a variable for later use.\n",
        "\n",
        "Syntax:\n",
        "\n",
        "def function_name():\n",
        "\n",
        "    return value\n"
      ],
      "metadata": {
        "id": "C0ncfffpB6bb"
      }
    },
    {
      "cell_type": "code",
      "source": [
        "#Example 1: Return a Single Value\n",
        "def square(num):\n",
        "    return num * num\n",
        "\n",
        "result = square(4)\n",
        "print(result)  # Output: 16\n"
      ],
      "metadata": {
        "colab": {
          "base_uri": "https://localhost:8080/"
        },
        "id": "y4r2hlIeCSpx",
        "outputId": "abbb9057-4e27-46de-8c20-cab5ecc09dc3"
      },
      "execution_count": 19,
      "outputs": [
        {
          "output_type": "stream",
          "name": "stdout",
          "text": [
            "16\n"
          ]
        }
      ]
    },
    {
      "cell_type": "code",
      "source": [
        "# Example 2: Return Multiple Values\n",
        "def calculate(a, b):\n",
        "    return a + b, a * b\n",
        "\n",
        "sum_, product = calculate(3, 4)\n",
        "print(\"Sum:\", sum_)       # Output: Sum: 7\n",
        "print(\"Product:\", product)  # Output: Product: 12\n"
      ],
      "metadata": {
        "colab": {
          "base_uri": "https://localhost:8080/"
        },
        "id": "Swn5q1upCZj6",
        "outputId": "b673efd3-1211-4e2d-9b9a-15f3702d2a83"
      },
      "execution_count": 20,
      "outputs": [
        {
          "output_type": "stream",
          "name": "stdout",
          "text": [
            "Sum: 7\n",
            "Product: 12\n"
          ]
        }
      ]
    },
    {
      "cell_type": "code",
      "source": [
        "# Example 3: Without Return (No Output to Use Later)\n",
        "def greet(name):\n",
        "    print(\"Hello\", name)\n",
        "\n",
        "greet(\"Kalyani\")  # Only prints; can't store result\n"
      ],
      "metadata": {
        "colab": {
          "base_uri": "https://localhost:8080/"
        },
        "id": "UicpT0xGCe46",
        "outputId": "81319df1-0bb7-47f5-bc6a-9a93023774ce"
      },
      "execution_count": 21,
      "outputs": [
        {
          "output_type": "stream",
          "name": "stdout",
          "text": [
            "Hello Kalyani\n"
          ]
        }
      ]
    },
    {
      "cell_type": "markdown",
      "source": [
        "Conclusion:\n",
        "\n",
        "The return statement is essential when a function needs to send a result back to the calling code.\n",
        "\n",
        "Without return, the function will return None by default."
      ],
      "metadata": {
        "id": "HSW57vk5Cky7"
      }
    },
    {
      "cell_type": "code",
      "source": [
        "'''Q.5 What are iterators in Python and how do they differ from iterables?'''"
      ],
      "metadata": {
        "id": "H7SPQDz5Cmwo"
      },
      "execution_count": null,
      "outputs": []
    },
    {
      "cell_type": "markdown",
      "source": [
        "1. Iterable:\n",
        "\n",
        "- An iterable is any Python object that can be looped over (i.e., used in a for loop).\n",
        "\n",
        "- It implements the __ iter_ __() method.\n",
        "\n",
        "- Examples: list, tuple, string, set, dictionary, etc."
      ],
      "metadata": {
        "id": "EK8T3EbbC1ht"
      }
    },
    {
      "cell_type": "code",
      "source": [
        " #Example:\n",
        " my_list = [1, 2, 3]  # This is an iterable\n",
        "for item in my_list:\n",
        "    print(item)\n"
      ],
      "metadata": {
        "colab": {
          "base_uri": "https://localhost:8080/"
        },
        "id": "bMJoxvjpDPd6",
        "outputId": "21434adc-a3d2-4d77-d7a9-e0c512ba28a8"
      },
      "execution_count": 22,
      "outputs": [
        {
          "output_type": "stream",
          "name": "stdout",
          "text": [
            "1\n",
            "2\n",
            "3\n"
          ]
        }
      ]
    },
    {
      "cell_type": "markdown",
      "source": [
        "2. Iterator:\n",
        "\n",
        "- An iterator is an object that produces values one at a time using the next() function.\n",
        "\n",
        "- It implements both _ iter_ () and __ next__() methods.\n",
        "\n",
        "- You get an iterator from an iterable using iter()."
      ],
      "metadata": {
        "id": "ICU9PqQ7DWVo"
      }
    },
    {
      "cell_type": "code",
      "source": [
        "# Example:\n",
        "my_list = [1, 2, 3]\n",
        "my_iterator = iter(my_list)  # Converting iterable to iterator\n",
        "\n",
        "print(next(my_iterator))  # Output: 1\n",
        "print(next(my_iterator))  # Output: 2\n",
        "print(next(my_iterator))  # Output: 3\n"
      ],
      "metadata": {
        "colab": {
          "base_uri": "https://localhost:8080/"
        },
        "id": "TgEey__9DqvK",
        "outputId": "8f1dcef5-f55f-41b6-f970-a0684145c5a9"
      },
      "execution_count": 23,
      "outputs": [
        {
          "output_type": "stream",
          "name": "stdout",
          "text": [
            "1\n",
            "2\n",
            "3\n"
          ]
        }
      ]
    },
    {
      "cell_type": "markdown",
      "source": [
        "| Feature              | Iterable                            | Iterator                                  |\n",
        "| -------------------- | ----------------------------------- | ----------------------------------------- |\n",
        "| Purpose              | Can be looped over (has `__iter__`) | Used to get items one by one (`__next__`) |\n",
        "| Examples             | List, String, Tuple, Set, Dict      | Output of `iter(list)`, file objects      |\n",
        "| How to use           | Directly in `for` loop              | Use `next()` function to get elements     |\n",
        "| Converts to Iterator | Using `iter()`                      | Already an iterator                       |\n"
      ],
      "metadata": {
        "id": "wraXvZqCDv5q"
      }
    },
    {
      "cell_type": "code",
      "source": [
        "#Custom Iterator Example:\n",
        "class Counter:\n",
        "    def __init__(self, max):\n",
        "        self.num = 1\n",
        "        self.max = max\n",
        "\n",
        "    def __iter__(self):\n",
        "        return self\n",
        "\n",
        "    def __next__(self):\n",
        "        if self.num <= self.max:\n",
        "            val = self.num\n",
        "            self.num += 1\n",
        "            return val\n",
        "        else:\n",
        "            raise StopIteration\n",
        "\n",
        "c = Counter(3)\n",
        "for i in c:\n",
        "    print(i)\n"
      ],
      "metadata": {
        "colab": {
          "base_uri": "https://localhost:8080/"
        },
        "id": "C5iOO7R9D08v",
        "outputId": "54c3db29-9e02-4aaf-a1eb-932273616a09"
      },
      "execution_count": 24,
      "outputs": [
        {
          "output_type": "stream",
          "name": "stdout",
          "text": [
            "1\n",
            "2\n",
            "3\n"
          ]
        }
      ]
    },
    {
      "cell_type": "markdown",
      "source": [
        "Conclusion:\n",
        "\n",
        "An iterable is a collection you can loop through.\n",
        "\n",
        "An iterator gives you one item at a time from that collection using next()."
      ],
      "metadata": {
        "id": "IVKeJIcFEDZf"
      }
    },
    {
      "cell_type": "code",
      "source": [
        "'''Q.6 Explain the concept of generators in Python and how they are defined.'''"
      ],
      "metadata": {
        "id": "gGoSHSg1EFLY"
      },
      "execution_count": null,
      "outputs": []
    },
    {
      "cell_type": "markdown",
      "source": [
        "In Python, a generator is a special type of function that returns an iterator and allows you to generate values one at a time using the yield keyword.\n",
        "\n",
        "Generators are used to save memory and improve performance, especially when working with large datasets or infinite sequences.\n",
        "\n",
        " Key Characteristics of Generators:\n",
        "\n",
        "- Defined like normal functions but use yield instead of return.\n",
        "\n",
        "- Maintain the state of the function between calls.\n",
        "\n",
        "- Produce items lazily, i.e., on demand, one at a time."
      ],
      "metadata": {
        "id": "xXLR6TCMENDR"
      }
    },
    {
      "cell_type": "code",
      "source": [
        "# Syntax – Defining a Generator:\n",
        "def count_up_to(max):\n",
        "    num = 1\n",
        "    while num <= max:\n",
        "        yield num\n",
        "        num += 1\n"
      ],
      "metadata": {
        "id": "JAk9Ba4gEb_L"
      },
      "execution_count": 25,
      "outputs": []
    },
    {
      "cell_type": "code",
      "source": [
        "# Using a Generator:\n",
        "counter = count_up_to(3)\n",
        "\n",
        "print(next(counter))  # Output: 1\n",
        "print(next(counter))  # Output: 2\n",
        "print(next(counter))  # Output: 3\n"
      ],
      "metadata": {
        "colab": {
          "base_uri": "https://localhost:8080/"
        },
        "id": "9tQ9Em8qEnaW",
        "outputId": "aff4bfa8-46b3-494b-9eca-f3f820790675"
      },
      "execution_count": 26,
      "outputs": [
        {
          "output_type": "stream",
          "name": "stdout",
          "text": [
            "1\n",
            "2\n",
            "3\n"
          ]
        }
      ]
    },
    {
      "cell_type": "markdown",
      "source": [
        "| Feature           | Normal Function           | Generator Function                |\n",
        "| ----------------- | ------------------------- | --------------------------------- |\n",
        "| Keyword used      | `return`                  | `yield`                           |\n",
        "| Returns           | Final value               | Iterator (one value at a time)    |\n",
        "| Memory Efficiency | Stores all values at once | Produces values on the fly (lazy) |\n",
        "| Example           | `def func(): return 1`    | `def func(): yield 1`             |\n"
      ],
      "metadata": {
        "id": "kVZ0U1WrEs3l"
      }
    },
    {
      "cell_type": "code",
      "source": [
        "# Example: Fibonacci Generator\n",
        "def fibonacci(n):\n",
        "    a, b = 0, 1\n",
        "    for _ in range(n):\n",
        "        yield a\n",
        "        a, b = b, a + b\n",
        "\n",
        "for num in fibonacci(5):\n",
        "    print(num)\n"
      ],
      "metadata": {
        "colab": {
          "base_uri": "https://localhost:8080/"
        },
        "id": "2P06fbMRE4zz",
        "outputId": "57dba4a4-b391-48b3-bbe9-a06dbb5f109a"
      },
      "execution_count": 27,
      "outputs": [
        {
          "output_type": "stream",
          "name": "stdout",
          "text": [
            "0\n",
            "1\n",
            "1\n",
            "2\n",
            "3\n"
          ]
        }
      ]
    },
    {
      "cell_type": "markdown",
      "source": [
        "Conclusion:\n",
        "\n",
        "Generators are efficient and powerful tools for working with large or infinite sequences.\n",
        "\n",
        "Use yield to create a generator function that remembers its state and continues execution from where it left off."
      ],
      "metadata": {
        "id": "CZPYC7FYE_ND"
      }
    },
    {
      "cell_type": "code",
      "source": [
        "'''Q.7 What are the advantages of using generators over regular functions?'''"
      ],
      "metadata": {
        "id": "kq1qYKBCEuDY"
      },
      "execution_count": null,
      "outputs": []
    },
    {
      "cell_type": "markdown",
      "source": [
        "Generators offer several advantages over regular functions, especially when working with large datasets, streams of data, or infinite sequences. Below are the main benefits:\n",
        "\n",
        " 1. Memory Efficiency (Low Memory Usage)\n",
        "\n",
        "Generators yield one item at a time, rather than returning the entire sequence at once.\n",
        "\n",
        "This avoids loading the entire data into memory."
      ],
      "metadata": {
        "id": "kV7YPaA1FC1M"
      }
    },
    {
      "cell_type": "code",
      "source": [
        "#Example:\n",
        "def generate_numbers():\n",
        "    for i in range(1000000):\n",
        "        yield i\n",
        "#Efficient for processing big data or files."
      ],
      "metadata": {
        "id": "htAEkLoZFMMI"
      },
      "execution_count": 28,
      "outputs": []
    },
    {
      "cell_type": "markdown",
      "source": [
        "2. Lazy Evaluation\n",
        "\n",
        "Values are produced only when needed using next().\n",
        "\n",
        "Saves CPU and memory by not generating all values at once."
      ],
      "metadata": {
        "id": "aVov03Y7FU_N"
      }
    },
    {
      "cell_type": "code",
      "source": [
        "# Example:\n",
        "gen = generate_numbers()\n",
        "print(next(gen))  # Only this value is generated\n"
      ],
      "metadata": {
        "colab": {
          "base_uri": "https://localhost:8080/"
        },
        "id": "WHFMjFbpFZQq",
        "outputId": "4001b507-a1ee-41aa-e136-1cd9b5d736e1"
      },
      "execution_count": 29,
      "outputs": [
        {
          "output_type": "stream",
          "name": "stdout",
          "text": [
            "0\n"
          ]
        }
      ]
    },
    {
      "cell_type": "markdown",
      "source": [
        "3. Infinite Sequences Possible\n",
        "\n",
        "Generators can represent infinite series or continuous streams of data, which is not possible with regular lists."
      ],
      "metadata": {
        "id": "5CT3nv4qFeNH"
      }
    },
    {
      "cell_type": "code",
      "source": [
        "# Example:\n",
        "def infinite_counter():\n",
        "    num = 1\n",
        "    while True:\n",
        "        yield num\n",
        "        num += 1\n"
      ],
      "metadata": {
        "id": "NcYPgQJeFhwj"
      },
      "execution_count": 30,
      "outputs": []
    },
    {
      "cell_type": "markdown",
      "source": [
        "4. Cleaner and More Readable Code\n",
        "\n",
        "Generators help avoid temporary lists or complicated state-tracking logic."
      ],
      "metadata": {
        "id": "mTIcwnf9FwPk"
      }
    },
    {
      "cell_type": "code",
      "source": [
        "#Instead of:\n",
        "def even_numbers(n):\n",
        "    result = []\n",
        "    for i in range(n):\n",
        "        if i % 2 == 0:\n",
        "            result.append(i)\n",
        "    return result\n"
      ],
      "metadata": {
        "id": "AhTZNOFDFz5a"
      },
      "execution_count": 31,
      "outputs": []
    },
    {
      "cell_type": "code",
      "source": [
        "#Use generator:\n",
        "def even_numbers(n):\n",
        "    for i in range(n):\n",
        "        if i % 2 == 0:\n",
        "            yield i\n"
      ],
      "metadata": {
        "id": "eP784944F4pg"
      },
      "execution_count": 32,
      "outputs": []
    },
    {
      "cell_type": "markdown",
      "source": [
        " 5. Supports Iteration Automatically\n",
        "\n",
        "Generator functions automatically return iterators, making them easier to integrate into loops."
      ],
      "metadata": {
        "id": "Eu5pjo-sGAJ1"
      }
    },
    {
      "cell_type": "code",
      "source": [
        "for num in even_numbers(10):\n",
        "    print(num)\n"
      ],
      "metadata": {
        "colab": {
          "base_uri": "https://localhost:8080/"
        },
        "id": "TBZRygGwGCIC",
        "outputId": "9a813389-2735-44de-cdc8-eab41313ed3e"
      },
      "execution_count": 33,
      "outputs": [
        {
          "output_type": "stream",
          "name": "stdout",
          "text": [
            "0\n",
            "2\n",
            "4\n",
            "6\n",
            "8\n"
          ]
        }
      ]
    },
    {
      "cell_type": "markdown",
      "source": [
        "| Feature          | Regular Function      | Generator Function     |\n",
        "| ---------------- | --------------------- | ---------------------- |\n",
        "| Returns          | Entire result at once | One value at a time    |\n",
        "| Memory Use       | High                  | Low (memory-efficient) |\n",
        "| Suitable for     | Small data            | Large/Infinite data    |\n",
        "| Implements       | `return`              | `yield`                |\n",
        "| Iterator Support | Manual                | Automatic              |\n",
        "\n",
        "Conclusion:\n",
        "\n",
        "Generators are ideal when:\n",
        "\n",
        "- Working with large or infinite datasets,\n",
        "\n",
        "- Needing to optimize memory and performance,\n",
        "\n",
        "- You want clean and readable code that handles iteration automatically."
      ],
      "metadata": {
        "id": "IYJU9IMFGDiq"
      }
    },
    {
      "cell_type": "code",
      "source": [
        "'''Q.8 What is a lambda function in Python and when is it typically used?'''"
      ],
      "metadata": {
        "id": "W6dM8orVGNgP"
      },
      "execution_count": null,
      "outputs": []
    },
    {
      "cell_type": "markdown",
      "source": [
        "A lambda function in Python is a small anonymous function defined using the lambda keyword. It is used to write short, one-line functions without naming them using def.\n",
        "\n",
        "Syntax:\n",
        "\n",
        "lambda arguments: expression\n"
      ],
      "metadata": {
        "id": "VTRySLQvGYr-"
      }
    },
    {
      "cell_type": "code",
      "source": [
        "# Example:\n",
        "square = lambda x: x * x\n",
        "print(square(5))  # Output: 25\n",
        "#Here, lambda x: x * x is a lambda function that returns the square of x."
      ],
      "metadata": {
        "colab": {
          "base_uri": "https://localhost:8080/"
        },
        "id": "p8dIrjsVGiFB",
        "outputId": "74a1663c-ea25-47f6-e14c-ef40814f7cfc"
      },
      "execution_count": 34,
      "outputs": [
        {
          "output_type": "stream",
          "name": "stdout",
          "text": [
            "25\n"
          ]
        }
      ]
    },
    {
      "cell_type": "code",
      "source": [
        "# Typical Use Cases of Lambda Functions:\n",
        "#1. With map() (apply function to list)\n",
        "nums = [1, 2, 3]\n",
        "squares = list(map(lambda x: x*x, nums))\n",
        "print(squares)  # [1, 4, 9]\n"
      ],
      "metadata": {
        "colab": {
          "base_uri": "https://localhost:8080/"
        },
        "id": "qT0_OrRlGqVH",
        "outputId": "ade62ca0-52d2-4cb0-a224-be46731d7a2a"
      },
      "execution_count": 35,
      "outputs": [
        {
          "output_type": "stream",
          "name": "stdout",
          "text": [
            "[1, 4, 9]\n"
          ]
        }
      ]
    },
    {
      "cell_type": "code",
      "source": [
        "#2. With filter() (filter items based on condition)\n",
        "nums = [1, 2, 3, 4]\n",
        "evens = list(filter(lambda x: x % 2 == 0, nums))\n",
        "print(evens)  # [2, 4]\n"
      ],
      "metadata": {
        "colab": {
          "base_uri": "https://localhost:8080/"
        },
        "id": "h578DcZBG_sM",
        "outputId": "891d9505-644d-492a-a9ea-11b83109950e"
      },
      "execution_count": 36,
      "outputs": [
        {
          "output_type": "stream",
          "name": "stdout",
          "text": [
            "[2, 4]\n"
          ]
        }
      ]
    },
    {
      "cell_type": "code",
      "source": [
        "#3. With sorted() (custom sort)\n",
        "data = [(1, 'a'), (3, 'c'), (2, 'b')]\n",
        "sorted_data = sorted(data, key=lambda x: x[1])\n",
        "print(sorted_data)  # [(1, 'a'), (2, 'b'), (3, 'c')]\n"
      ],
      "metadata": {
        "colab": {
          "base_uri": "https://localhost:8080/"
        },
        "id": "a50txvmCHNl2",
        "outputId": "402155ea-bdc9-486b-9a2a-c54fb240c771"
      },
      "execution_count": 37,
      "outputs": [
        {
          "output_type": "stream",
          "name": "stdout",
          "text": [
            "[(1, 'a'), (2, 'b'), (3, 'c')]\n"
          ]
        }
      ]
    },
    {
      "cell_type": "markdown",
      "source": [
        "| Feature     | Lambda Function        | Regular Function (`def`)      |\n",
        "| ----------- | ---------------------- | ----------------------------- |\n",
        "| Name        | Anonymous (usually)    | Named                         |\n",
        "| Syntax      | One-liner (`lambda`)   | Multi-line possible           |\n",
        "| Use case    | Simple operations      | Complex logic                 |\n",
        "| Return type | Always returns a value | May or may not return a value |\n",
        "\n",
        " Conclusion:\n",
        "\n",
        "A lambda function is a concise way to write simple, one-time-use functions. It is most commonly used with functions like map(), filter(), and sorted() for quick operations.\n"
      ],
      "metadata": {
        "id": "flPk-cGtHaQi"
      }
    },
    {
      "cell_type": "code",
      "source": [
        "'''Q.9 Explain the purpose and usage of the `map()` function in Python.'''"
      ],
      "metadata": {
        "id": "m6VCxbCgHfSQ"
      },
      "execution_count": null,
      "outputs": []
    },
    {
      "cell_type": "markdown",
      "source": [
        "The map() function in Python is used to apply a function to every item in an iterable (like a list, tuple, etc.) and returns a map object (an iterator) of the results.\n",
        "\n",
        "- Purpose of map():\n",
        "\n",
        "To transform each element of a collection without writing a loop.\n",
        "\n",
        "It improves code readability and efficiency.\n",
        "\n",
        " - Syntax:\n",
        "\n",
        " map(function, iterable)\n",
        "\n",
        "function: A function to apply to each element (can be built-in, user-defined, or a lambda).\n",
        "\n",
        "iterable: A sequence like a list, tuple, etc."
      ],
      "metadata": {
        "id": "gDPFOfzUHqRR"
      }
    },
    {
      "cell_type": "code",
      "source": [
        "#Example 1: Using map() with a built-in function\n",
        "numbers = [\"1\", \"2\", \"3\"]\n",
        "result = map(int, numbers)\n",
        "print(list(result))  # Output: [1, 2, 3]\n"
      ],
      "metadata": {
        "colab": {
          "base_uri": "https://localhost:8080/"
        },
        "id": "tW0FBg_rH8tC",
        "outputId": "4d8de140-c18a-41fe-b7c8-3da19b5387f6"
      },
      "execution_count": 38,
      "outputs": [
        {
          "output_type": "stream",
          "name": "stdout",
          "text": [
            "[1, 2, 3]\n"
          ]
        }
      ]
    },
    {
      "cell_type": "code",
      "source": [
        "# Example 2: Using map() with a lambda function\n",
        "nums = [1, 2, 3, 4]\n",
        "squares = map(lambda x: x * x, nums)\n",
        "print(list(squares))  # Output: [1, 4, 9, 16]\n"
      ],
      "metadata": {
        "colab": {
          "base_uri": "https://localhost:8080/"
        },
        "id": "ck5yJ9FXIOE5",
        "outputId": "361bd917-421f-4736-9c4c-d456858645a9"
      },
      "execution_count": 39,
      "outputs": [
        {
          "output_type": "stream",
          "name": "stdout",
          "text": [
            "[1, 4, 9, 16]\n"
          ]
        }
      ]
    },
    {
      "cell_type": "code",
      "source": [
        "#Example 3: Using map() with a user-defined function\n",
        "def double(n):\n",
        "    return n * 2\n",
        "\n",
        "data = [5, 10, 15]\n",
        "result = map(double, data)\n",
        "print(list(result))  # Output: [10, 20, 30]\n"
      ],
      "metadata": {
        "colab": {
          "base_uri": "https://localhost:8080/"
        },
        "id": "mnHUbjIZISP-",
        "outputId": "05346055-ee34-461f-f441-65b0c3ef181c"
      },
      "execution_count": 40,
      "outputs": [
        {
          "output_type": "stream",
          "name": "stdout",
          "text": [
            "[10, 20, 30]\n"
          ]
        }
      ]
    },
    {
      "cell_type": "markdown",
      "source": [
        " Key Features of map() Function:\n",
        "\n",
        "| Feature  | Description                                  |\n",
        "| -------- | -------------------------------------------- |\n",
        "| Input    | Function + Iterable                          |\n",
        "| Output   | Map object (convert to list/tuple if needed) |\n",
        "| Returns  | Transformed elements using the function      |\n",
        "| Supports | Lists, Tuples, Strings, Sets, etc.           |\n",
        "\n",
        " Important Note:\n",
        "\n",
        "map() returns a lazy iterator. You need to convert it using list(), tuple(), or use in a loop.\n",
        "\n",
        "Conclusion:\n",
        "\n",
        "The map() function is useful when you want to apply the same operation to each element of an iterable in a clean and efficient way, without writing a for loop."
      ],
      "metadata": {
        "id": "0a1F_QblIXwh"
      }
    },
    {
      "cell_type": "code",
      "source": [
        "'''Q.10 What is the difference between `map()`, `reduce()`, and `filter()` functions in Python?'''"
      ],
      "metadata": {
        "id": "bykuFdYeIiUG"
      },
      "execution_count": null,
      "outputs": []
    },
    {
      "cell_type": "markdown",
      "source": [
        "In Python, map(), reduce(), and filter() are higher-order functions used for functional programming. They all take a function as input and operate on an iterable, but they serve different purposes.\n",
        "\n",
        "1. map() Function\n",
        "\n",
        "Purpose: Applies a function to each item in an iterable and returns the transformed results.\n",
        "\n",
        "Returns: A new iterable (map object)."
      ],
      "metadata": {
        "id": "xR9TEhQmIx_O"
      }
    },
    {
      "cell_type": "code",
      "source": [
        "#Example:\n",
        "nums = [1, 2, 3]\n",
        "squares = list(map(lambda x: x * x, nums))\n",
        "# Output: [1, 4, 9]\n"
      ],
      "metadata": {
        "id": "L9O7CoZAI4ni"
      },
      "execution_count": 41,
      "outputs": []
    },
    {
      "cell_type": "markdown",
      "source": [
        " 2. filter() Function\n",
        "\n",
        "Purpose: Filters elements in an iterable based on a condition (Boolean function).\n",
        "\n",
        "Returns: Only the elements for which the function returns True."
      ],
      "metadata": {
        "id": "oHbv75XiJExi"
      }
    },
    {
      "cell_type": "code",
      "source": [
        "#Example:\n",
        "nums = [1, 2, 3, 4]\n",
        "evens = list(filter(lambda x: x % 2 == 0, nums))\n",
        "# Output: [2, 4]\n"
      ],
      "metadata": {
        "id": "vTtlPdCAJIU0"
      },
      "execution_count": 42,
      "outputs": []
    },
    {
      "cell_type": "markdown",
      "source": [
        "3. reduce() Function\n",
        "\n",
        "Found in the functools module.\n",
        "\n",
        "Purpose: Applies a function cumulatively to reduce the iterable to a single value.\n",
        "\n",
        "Returns: One result after performing accumulation."
      ],
      "metadata": {
        "id": "CDE9uRW9JLtp"
      }
    },
    {
      "cell_type": "code",
      "source": [
        "# Example:\n",
        "from functools import reduce\n",
        "\n",
        "nums = [1, 2, 3, 4]\n",
        "product = reduce(lambda x, y: x * y, nums)\n",
        "# Output: 24 (1*2*3*4)\n"
      ],
      "metadata": {
        "id": "Tc6JZmdNJPnz"
      },
      "execution_count": 43,
      "outputs": []
    },
    {
      "cell_type": "markdown",
      "source": [
        "| Function   | Purpose                            | Returns      | Example Use          |\n",
        "| ---------- | ---------------------------------- | ------------ | -------------------- |\n",
        "| `map()`    | Transform each item                | Iterable     | Square each number   |\n",
        "| `filter()` | Select items that meet a condition | Iterable     | Get even numbers     |\n",
        "| `reduce()` | Combine all items into one value   | Single value | Multiply all numbers |\n",
        "\n",
        "Conclusion:\n",
        "\n",
        "Use map() when you need to transform all items.\n",
        "\n",
        "Use filter() when you need to select specific items.\n",
        "\n",
        "Use reduce() when you need to aggregate items into a single result.\n",
        "\n"
      ],
      "metadata": {
        "id": "1FXeMa3yJUUF"
      }
    },
    {
      "cell_type": "code",
      "source": [
        "'''Q.11 Using pen & Paper write the internal mechanism for sum operation using  reduce function on this given list:[47,11,42,13]'''"
      ],
      "metadata": {
        "id": "K0rRkhTvJYsk"
      },
      "execution_count": null,
      "outputs": []
    },
    {
      "cell_type": "code",
      "source": [
        "from functools import reduce\n",
        "\n",
        "nums = [47, 11, 42, 13]\n",
        "total = reduce(lambda x, y: x + y, nums)\n",
        "print(total)  # Output: 113\n"
      ],
      "metadata": {
        "colab": {
          "base_uri": "https://localhost:8080/"
        },
        "id": "kcOx8BpqKOx8",
        "outputId": "6f670c44-f555-41eb-8b36-bdc681cb111e"
      },
      "execution_count": 44,
      "outputs": [
        {
          "output_type": "stream",
          "name": "stdout",
          "text": [
            "113\n"
          ]
        }
      ]
    },
    {
      "cell_type": "markdown",
      "source": [
        "Step-by-Step Calculation (Manual/Handwritten Style):\n",
        "1. x = 47, y = 11 → 47 + 11 = 58\n",
        "\n",
        "2. x = 58, y = 42 → 58 + 42 = 100\n",
        "\n",
        "3. x = 100, y = 13 → 100 + 13 = 113\n",
        "\n",
        "Final Output: 113\n",
        "\n"
      ],
      "metadata": {
        "id": "2N6sZEVZKSRX"
      }
    },
    {
      "cell_type": "code",
      "source": [
        "#Practical Questions:"
      ],
      "metadata": {
        "id": "cXtM2XqMLKD1"
      },
      "execution_count": null,
      "outputs": []
    },
    {
      "cell_type": "code",
      "source": [
        "'''Q.1 Write a Python function that takes a list of numbers as input and returns the sum of all even numbers in the list.'''"
      ],
      "metadata": {
        "id": "ayJBqmUwLOBc"
      },
      "execution_count": null,
      "outputs": []
    },
    {
      "cell_type": "code",
      "source": [
        "def sum_of_even_numbers(numbers):\n",
        "    even_sum = 0\n",
        "    for num in numbers:\n",
        "        if num % 2 == 0:\n",
        "            even_sum += num\n",
        "    return even_sum\n",
        "\n",
        "# Example usage:\n",
        "my_list = [10, 15, 8, 23, 4]\n",
        "result = sum_of_even_numbers(my_list)\n",
        "print(\"Sum of even numbers:\", result)\n"
      ],
      "metadata": {
        "colab": {
          "base_uri": "https://localhost:8080/"
        },
        "id": "w43UtyGDLfss",
        "outputId": "0fde194a-145b-407c-d027-9d792bf722b9"
      },
      "execution_count": 45,
      "outputs": [
        {
          "output_type": "stream",
          "name": "stdout",
          "text": [
            "Sum of even numbers: 22\n"
          ]
        }
      ]
    },
    {
      "cell_type": "code",
      "source": [
        "'''Q.2 Create a Python function that accepts a string and returns the reverse of that string.'''"
      ],
      "metadata": {
        "id": "OIgkTJ9dLhwv"
      },
      "execution_count": null,
      "outputs": []
    },
    {
      "cell_type": "code",
      "source": [
        "def reverse_string(text):\n",
        "    return text[::-1]\n",
        "\n",
        "# Example usage:\n",
        "input_str = \"Python\"\n",
        "reversed_str = reverse_string(input_str)\n",
        "print(\"Reversed string:\", reversed_str)\n"
      ],
      "metadata": {
        "colab": {
          "base_uri": "https://localhost:8080/"
        },
        "id": "A6-BsBjdLpXQ",
        "outputId": "b5c209a0-2c64-4fab-d95d-29428e704b73"
      },
      "execution_count": 46,
      "outputs": [
        {
          "output_type": "stream",
          "name": "stdout",
          "text": [
            "Reversed string: nohtyP\n"
          ]
        }
      ]
    },
    {
      "cell_type": "code",
      "source": [
        "#Alternate Method (Using loop):\n",
        "def reverse_string(text):\n",
        "    reversed_text = \"\"\n",
        "    for char in text:\n",
        "        reversed_text = char + reversed_text\n",
        "    return reversed_text\n"
      ],
      "metadata": {
        "id": "xAUxSbMtL4WK"
      },
      "execution_count": 47,
      "outputs": []
    },
    {
      "cell_type": "code",
      "source": [
        "'''Q.3 Implement a Python function that takes a list of integers and returns a new list containing the squares of each number.'''"
      ],
      "metadata": {
        "id": "ltBcXK4hL_Cl"
      },
      "execution_count": null,
      "outputs": []
    },
    {
      "cell_type": "code",
      "source": [
        "def square_list(numbers):\n",
        "    squared = []\n",
        "    for num in numbers:\n",
        "        squared.append(num ** 2)\n",
        "    return squared\n",
        "\n",
        "# Example usage:\n",
        "input_list = [1, 2, 3, 4]\n",
        "result = square_list(input_list)\n",
        "print(\"Squared list:\", result)\n"
      ],
      "metadata": {
        "colab": {
          "base_uri": "https://localhost:8080/"
        },
        "id": "bvOxAZdmMF4u",
        "outputId": "2a9351d5-6302-4c79-ade7-03e59f5a7386"
      },
      "execution_count": 48,
      "outputs": [
        {
          "output_type": "stream",
          "name": "stdout",
          "text": [
            "Squared list: [1, 4, 9, 16]\n"
          ]
        }
      ]
    },
    {
      "cell_type": "code",
      "source": [
        "#Alternate Method (Using map() and lambda):\n",
        "def square_list(numbers):\n",
        "    return list(map(lambda x: x ** 2, numbers))\n"
      ],
      "metadata": {
        "id": "2rl6aY1XMLVO"
      },
      "execution_count": 49,
      "outputs": []
    },
    {
      "cell_type": "code",
      "source": [
        "'''Q.4 Write a Python function that checks if a given number is prime or not from 1 to 200'''"
      ],
      "metadata": {
        "id": "mxcmAzbHMQDm"
      },
      "execution_count": null,
      "outputs": []
    },
    {
      "cell_type": "code",
      "source": [
        "def is_prime(n):\n",
        "    if n <= 1:\n",
        "        return False\n",
        "    for i in range(2, int(n**0.5) + 1):\n",
        "        if n % i == 0:\n",
        "            return False\n",
        "    return True\n",
        "\n",
        "# Example usage:\n",
        "for num in range(1, 201):\n",
        "    if is_prime(num):\n",
        "        print(num, \"is a prime number\")\n"
      ],
      "metadata": {
        "colab": {
          "base_uri": "https://localhost:8080/"
        },
        "id": "cMMbOtdgMXsL",
        "outputId": "f8fe1fed-cda5-43ab-85af-6ad0cfbd4c97"
      },
      "execution_count": 50,
      "outputs": [
        {
          "output_type": "stream",
          "name": "stdout",
          "text": [
            "2 is a prime number\n",
            "3 is a prime number\n",
            "5 is a prime number\n",
            "7 is a prime number\n",
            "11 is a prime number\n",
            "13 is a prime number\n",
            "17 is a prime number\n",
            "19 is a prime number\n",
            "23 is a prime number\n",
            "29 is a prime number\n",
            "31 is a prime number\n",
            "37 is a prime number\n",
            "41 is a prime number\n",
            "43 is a prime number\n",
            "47 is a prime number\n",
            "53 is a prime number\n",
            "59 is a prime number\n",
            "61 is a prime number\n",
            "67 is a prime number\n",
            "71 is a prime number\n",
            "73 is a prime number\n",
            "79 is a prime number\n",
            "83 is a prime number\n",
            "89 is a prime number\n",
            "97 is a prime number\n",
            "101 is a prime number\n",
            "103 is a prime number\n",
            "107 is a prime number\n",
            "109 is a prime number\n",
            "113 is a prime number\n",
            "127 is a prime number\n",
            "131 is a prime number\n",
            "137 is a prime number\n",
            "139 is a prime number\n",
            "149 is a prime number\n",
            "151 is a prime number\n",
            "157 is a prime number\n",
            "163 is a prime number\n",
            "167 is a prime number\n",
            "173 is a prime number\n",
            "179 is a prime number\n",
            "181 is a prime number\n",
            "191 is a prime number\n",
            "193 is a prime number\n",
            "197 is a prime number\n",
            "199 is a prime number\n"
          ]
        }
      ]
    },
    {
      "cell_type": "code",
      "source": [
        "'''Q.5 Create an iterator class in Python that generates the Fibonacci sequence up to a specified number of terms.'''"
      ],
      "metadata": {
        "id": "WMdDU-Y1Mb2H"
      },
      "execution_count": null,
      "outputs": []
    },
    {
      "cell_type": "code",
      "source": [
        "class Fibonacci:\n",
        "    def __init__(self, max_terms):\n",
        "        self.max_terms = max_terms\n",
        "        self.n1, self.n2 = 0, 1\n",
        "        self.count = 0\n",
        "\n",
        "    def __iter__(self):\n",
        "        return self\n",
        "\n",
        "    def __next__(self):\n",
        "        if self.count >= self.max_terms:\n",
        "            raise StopIteration\n",
        "        if self.count == 0:\n",
        "            self.count += 1\n",
        "            return self.n1\n",
        "        elif self.count == 1:\n",
        "            self.count += 1\n",
        "            return self.n2\n",
        "        else:\n",
        "            next_value = self.n1 + self.n2\n",
        "            self.n1, self.n2 = self.n2, next_value\n",
        "            self.count += 1\n",
        "            return next_value\n",
        "\n",
        "# Example usage:\n",
        "fib = Fibonacci(10)\n",
        "for num in fib:\n",
        "    print(num, end=' ')\n"
      ],
      "metadata": {
        "colab": {
          "base_uri": "https://localhost:8080/"
        },
        "id": "d0KiCB9GMukw",
        "outputId": "e713ce34-2fdd-423a-dcfb-24b4107e2804"
      },
      "execution_count": 51,
      "outputs": [
        {
          "output_type": "stream",
          "name": "stdout",
          "text": [
            "0 1 1 2 3 5 8 13 21 34 "
          ]
        }
      ]
    },
    {
      "cell_type": "code",
      "source": [
        "'''Q.6 Write a generator function in Python that yields the powers of 2 up to a given exponent'''"
      ],
      "metadata": {
        "id": "wHh2FcidMzcj"
      },
      "execution_count": null,
      "outputs": []
    },
    {
      "cell_type": "code",
      "source": [
        "def powers_of_two(max_exp):\n",
        "    for i in range(max_exp + 1):\n",
        "        yield 2 ** i\n",
        "\n",
        "# Example usage:\n",
        "for value in powers_of_two(5):\n",
        "    print(value, end=' ')\n"
      ],
      "metadata": {
        "colab": {
          "base_uri": "https://localhost:8080/"
        },
        "id": "boZ0QTXpM5Ht",
        "outputId": "cdce9ef3-3ed9-46b7-f61f-1f8b038c3d44"
      },
      "execution_count": 52,
      "outputs": [
        {
          "output_type": "stream",
          "name": "stdout",
          "text": [
            "1 2 4 8 16 32 "
          ]
        }
      ]
    },
    {
      "cell_type": "code",
      "source": [
        "'''Q.7 Implement a generator function that reads a file line by line and yields each line as a string'''"
      ],
      "metadata": {
        "id": "QAUbhB3wM_6o"
      },
      "execution_count": null,
      "outputs": []
    },
    {
      "cell_type": "code",
      "source": [
        "# Create the file first\n",
        "# Create sample.txt with some content\n",
        "with open(\"sample.txt\", \"w\") as f:\n",
        "    f.write(\"Hello\\n\")\n",
        "    f.write(\"World\\n\")\n",
        "    f.write(\"Python\\n\")\n",
        "\n",
        "#Then call the generator function again:\n",
        "def read_file_line_by_line(file_path):\n",
        "    with open(file_path, 'r') as file:\n",
        "        for line in file:\n",
        "            yield line.strip()\n",
        "\n",
        "# Example usage\n",
        "for line in read_file_line_by_line(\"sample.txt\"):\n",
        "    print(line)\n"
      ],
      "metadata": {
        "colab": {
          "base_uri": "https://localhost:8080/"
        },
        "id": "ITOc6c11Nf2W",
        "outputId": "b6aab9fb-b118-4712-f2db-6ae5416b3311"
      },
      "execution_count": 54,
      "outputs": [
        {
          "output_type": "stream",
          "name": "stdout",
          "text": [
            "Hello\n",
            "World\n",
            "Python\n"
          ]
        }
      ]
    },
    {
      "cell_type": "code",
      "source": [
        "'''Q.8 Use a lambda function in Python to sort a list of tuples based on the second element of each tuple'''"
      ],
      "metadata": {
        "id": "cdqIi6syOE1N"
      },
      "execution_count": null,
      "outputs": []
    },
    {
      "cell_type": "code",
      "source": [
        "# List of tuples\n",
        "data = [(1, 3), (4, 1), (2, 5), (7, 2)]\n",
        "\n",
        "# Sorting using lambda based on second element\n",
        "sorted_data = sorted(data, key=lambda x: x[1])\n",
        "\n",
        "# Display result\n",
        "print(\"Sorted list:\", sorted_data)\n"
      ],
      "metadata": {
        "colab": {
          "base_uri": "https://localhost:8080/"
        },
        "id": "b3mAocg3OLxa",
        "outputId": "278b02b6-ff15-40e2-97b0-707dbd5d8ff3"
      },
      "execution_count": 55,
      "outputs": [
        {
          "output_type": "stream",
          "name": "stdout",
          "text": [
            "Sorted list: [(4, 1), (7, 2), (1, 3), (2, 5)]\n"
          ]
        }
      ]
    },
    {
      "cell_type": "code",
      "source": [
        "'''Q.9 Write a Python program that uses `map()` to convert a list of temperatures from Celsius to Fahrenheit'''"
      ],
      "metadata": {
        "id": "7l49cQ2xOQ08"
      },
      "execution_count": null,
      "outputs": []
    },
    {
      "cell_type": "code",
      "source": [
        "# List of temperatures in Celsius\n",
        "celsius = [0, 20, 37, 100]\n",
        "\n",
        "# Conversion formula using map and lambda\n",
        "fahrenheit = list(map(lambda c: (c * 9/5) + 32, celsius))\n",
        "\n",
        "# Display result\n",
        "print(\"Temperatures in Fahrenheit:\", fahrenheit)\n"
      ],
      "metadata": {
        "colab": {
          "base_uri": "https://localhost:8080/"
        },
        "id": "_rlmYFFhOY-N",
        "outputId": "80ac4a4e-c1bf-4118-91f5-c41b1e92b25c"
      },
      "execution_count": 56,
      "outputs": [
        {
          "output_type": "stream",
          "name": "stdout",
          "text": [
            "Temperatures in Fahrenheit: [32.0, 68.0, 98.6, 212.0]\n"
          ]
        }
      ]
    },
    {
      "cell_type": "code",
      "source": [
        "'''Q.10 Create a Python program that uses `filter()` to remove all the vowels from a given string.'''"
      ],
      "metadata": {
        "id": "5AjFGr2oOfpF"
      },
      "execution_count": null,
      "outputs": []
    },
    {
      "cell_type": "code",
      "source": [
        "def remove_vowels(text):\n",
        "    vowels = 'aeiouAEIOU'\n",
        "    result = ''.join(filter(lambda char: char not in vowels, text))\n",
        "    return result\n",
        "\n",
        "# Example usage:\n",
        "input_str = \"Data Analysis with Python\"\n",
        "output_str = remove_vowels(input_str)\n",
        "print(\"String without vowels:\", output_str)\n"
      ],
      "metadata": {
        "colab": {
          "base_uri": "https://localhost:8080/"
        },
        "id": "1HDBWsW_OoQq",
        "outputId": "7ac755d3-b528-47f9-dd7f-717acd610a6b"
      },
      "execution_count": 57,
      "outputs": [
        {
          "output_type": "stream",
          "name": "stdout",
          "text": [
            "String without vowels: Dt nlyss wth Pythn\n"
          ]
        }
      ]
    },
    {
      "cell_type": "code",
      "source": [
        "'''Q.11 Imagine an accounting routine used in a book shop. It works on a list with sublists, which look like this:\n",
        "\n",
        "Order Number   Book Title and Author                     Quantity    Price per Item\n",
        "\n",
        "34587          Learning Python, Mark Lutz                4           40.95\n",
        "98762          Programming Python, Mark Lutz             5           56.80\n",
        "77226          Head First Python, Paul Barry             3           32.95\n",
        "88112          Einführung in Python3, Bernd Klein        3           24.99\n",
        "\n",
        " Write a Python program, which returns a list with 2-tuples. Each tuple consists of the order number and the\n",
        "product of the price per item and the quantity. The product should be increased by 10,- € if the value of the\n",
        "order is smaller than 100,00 €.\n",
        " Write a Python program using lambda and map'''"
      ],
      "metadata": {
        "id": "xsdMbex_PXcs"
      },
      "execution_count": null,
      "outputs": []
    },
    {
      "cell_type": "code",
      "source": [
        "# Book order data\n",
        "orders = [\n",
        "    [34587, \"Learning Python, Mark Lutz\", 4, 40.95],\n",
        "    [98762, \"Programming Python, Mark Lutz\", 5, 56.80],\n",
        "    [77226, \"Head First Python, Paul Barry\", 3, 32.95],\n",
        "    [88112, \"Einführung in Python3, Bernd Klein\", 3, 24.99]\n",
        "]\n",
        "\n",
        "# Using map() and lambda to calculate total with +10 if less than 100\n",
        "result = list(map(\n",
        "    lambda order: (\n",
        "        order[0],\n",
        "        round(order[2] * order[3] + (10 if order[2] * order[3] < 100 else 0), 2)\n",
        "    ),\n",
        "    orders\n",
        "))\n",
        "\n",
        "# Print result\n",
        "print(result)\n"
      ],
      "metadata": {
        "colab": {
          "base_uri": "https://localhost:8080/"
        },
        "id": "Wk9o3daBSXLl",
        "outputId": "b25a3862-c7a4-4e88-f673-5200291bc9eb"
      },
      "execution_count": 58,
      "outputs": [
        {
          "output_type": "stream",
          "name": "stdout",
          "text": [
            "[(34587, 163.8), (98762, 284.0), (77226, 108.85), (88112, 84.97)]\n"
          ]
        }
      ]
    }
  ]
}
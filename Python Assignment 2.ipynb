{
  "nbformat": 4,
  "nbformat_minor": 0,
  "metadata": {
    "colab": {
      "provenance": []
    },
    "kernelspec": {
      "name": "python3",
      "display_name": "Python 3"
    },
    "language_info": {
      "name": "python"
    }
  },
  "cells": [
    {
      "cell_type": "code",
      "execution_count": null,
      "metadata": {
        "id": "svd8_ax_WFST"
      },
      "outputs": [],
      "source": [
        "#THEORY QUESTIONS"
      ]
    },
    {
      "cell_type": "code",
      "source": [
        "'''Q.1  What are data structures, and why are they important?'''"
      ],
      "metadata": {
        "id": "-qk1MsuJWiCJ"
      },
      "execution_count": null,
      "outputs": []
    },
    {
      "cell_type": "markdown",
      "source": [
        "Data structures are organized ways to store, manage, and retrieve data efficiently in a computer. They define the layout of data and the operations that can be performed on it.\n",
        "\n",
        "Types of Data Structures:\n",
        "1. Linear Data Structures – Elements arranged in sequence\n",
        "\n",
        "Examples: Array, Linked List, Stack, Queue\n",
        "\n",
        "2. Non-Linear Data Structures – Hierarchical or networked structure\n",
        "\n",
        "Examples: Tree, Graph, Heap\n",
        "\n",
        "3. Hash-based Structures – Use key-value pairs\n",
        "\n",
        "Example: Hash Table\n",
        "\n",
        "Importance of Data Structures:\n",
        "\n",
        "- Efficient Data Access – Speeds up operations like search, insert, delete.\n",
        "\n",
        "- Optimal Use of Memory and Time – Reduces resource usage.\n",
        "\n",
        "- Foundation for Algorithms – Enables implementation of efficient algorithms.\n",
        "\n",
        "- Improves Code Quality – Enhances modularity, readability, and reusability.\n",
        "\n",
        "Conclusion:\n",
        "\n",
        "Choosing the right data structure is crucial for writing efficient programs and solving problems effectively."
      ],
      "metadata": {
        "id": "z6y-5HVHW3La"
      }
    },
    {
      "cell_type": "code",
      "source": [
        "'''Q.2 Explain the difference between mutable and immutable data types with examples'''"
      ],
      "metadata": {
        "id": "P5-opqsPXLnB"
      },
      "execution_count": null,
      "outputs": []
    },
    {
      "cell_type": "markdown",
      "source": [
        "In Python, mutable and immutable refer to the ability of an object to be changed after it is created.\n",
        "\n",
        "Mutable Data Types:\n",
        "\n",
        "Definition: Data types that can be modified after creation.\n",
        "\n",
        "Examples:\n",
        "\n",
        "- list\n",
        "\n",
        "- dict (dictionary)\n",
        "\n",
        "- set"
      ],
      "metadata": {
        "id": "XkZNNOGEXbm2"
      }
    },
    {
      "cell_type": "code",
      "source": [
        "#Example:\n",
        "my_list = [1, 2, 3]\n",
        "my_list[0] = 10\n",
        "print(my_list)  # Output: [10, 2, 3]\n"
      ],
      "metadata": {
        "colab": {
          "base_uri": "https://localhost:8080/"
        },
        "id": "9M2dWfXWXkR4",
        "outputId": "13c382a1-38dd-40ef-e43e-54cd59af4927"
      },
      "execution_count": 1,
      "outputs": [
        {
          "output_type": "stream",
          "name": "stdout",
          "text": [
            "[10, 2, 3]\n"
          ]
        }
      ]
    },
    {
      "cell_type": "markdown",
      "source": [
        "Immutable Data Types:\n",
        "\n",
        "Definition: Data types that cannot be changed once created.\n",
        "\n",
        "Examples:\n",
        "\n",
        "- int\n",
        "\n",
        "- float\n",
        "\n",
        "- str (string)\n",
        "\n",
        "- tuple\n",
        "\n",
        "- bool"
      ],
      "metadata": {
        "id": "yyQBarLlXqAN"
      }
    },
    {
      "cell_type": "code",
      "source": [
        "#Example:\n",
        "my_str = \"hello\"\n",
        "my_str[0] = 'H'  # This will raise an error\n"
      ],
      "metadata": {
        "id": "fObVCjkrXze5"
      },
      "execution_count": null,
      "outputs": []
    },
    {
      "cell_type": "markdown",
      "source": [
        "| Aspect         | Mutable                   | Immutable                    |\n",
        "| -------------- | ------------------------- | ---------------------------- |\n",
        "| Can modify     | Yes                       | No                           |\n",
        "| Examples       | list, dict, set           | int, float, str, tuple, bool |\n",
        "| Memory Address | Remains same after change | New object created on change |\n",
        "\n",
        "Conclusion:\n",
        "\n",
        "Use mutable types when data needs to change.\n",
        "\n",
        "Use immutable types when data should remain constant for safety and reliability."
      ],
      "metadata": {
        "id": "d6taHy9jX5Mr"
      }
    },
    {
      "cell_type": "code",
      "source": [
        "'''Q.3 What are the main differences between lists and tuples in Python?'''"
      ],
      "metadata": {
        "id": "3mqAR3VzX7Ts"
      },
      "execution_count": null,
      "outputs": []
    },
    {
      "cell_type": "markdown",
      "source": [
        "| Feature               | **List**                              | **Tuple**                       |\n",
        "| --------------------- | ------------------------------------- | ------------------------------- |\n",
        "| **Mutability**        | Mutable (can be changed)              | Immutable (cannot be changed)   |\n",
        "| **Syntax**            | Defined using square brackets `[ ]`   | Defined using parentheses `( )` |\n",
        "| **Performance**       | Slower (due to mutability)            | Faster (more memory efficient)  |\n",
        "| **Methods Available** | More built-in methods like `append()` | Fewer built-in methods          |\n",
        "| **Use Case**          | Suitable for dynamic data             | Suitable for fixed data         |\n"
      ],
      "metadata": {
        "id": "Tq5ETe3xYJHp"
      }
    },
    {
      "cell_type": "code",
      "source": [
        "# List\n",
        "my_list = [1, 2, 3]\n",
        "my_list[0] = 10  #  Allowed\n",
        "\n",
        "# Tuple\n",
        "my_tuple = (1, 2, 3)\n",
        "my_tuple[0] = 10  # Error (Tuples are immutable)\n"
      ],
      "metadata": {
        "colab": {
          "base_uri": "https://localhost:8080/",
          "height": 176
        },
        "id": "Jl2B88sMYMi2",
        "outputId": "cb763d2b-d9d0-4ad2-ddce-f24debce2644"
      },
      "execution_count": 2,
      "outputs": [
        {
          "output_type": "error",
          "ename": "TypeError",
          "evalue": "'tuple' object does not support item assignment",
          "traceback": [
            "\u001b[0;31m---------------------------------------------------------------------------\u001b[0m",
            "\u001b[0;31mTypeError\u001b[0m                                 Traceback (most recent call last)",
            "\u001b[0;32m/tmp/ipython-input-2-2609272845.py\u001b[0m in \u001b[0;36m<cell line: 0>\u001b[0;34m()\u001b[0m\n\u001b[1;32m      5\u001b[0m \u001b[0;31m# Tuple\u001b[0m\u001b[0;34m\u001b[0m\u001b[0;34m\u001b[0m\u001b[0m\n\u001b[1;32m      6\u001b[0m \u001b[0mmy_tuple\u001b[0m \u001b[0;34m=\u001b[0m \u001b[0;34m(\u001b[0m\u001b[0;36m1\u001b[0m\u001b[0;34m,\u001b[0m \u001b[0;36m2\u001b[0m\u001b[0;34m,\u001b[0m \u001b[0;36m3\u001b[0m\u001b[0;34m)\u001b[0m\u001b[0;34m\u001b[0m\u001b[0;34m\u001b[0m\u001b[0m\n\u001b[0;32m----> 7\u001b[0;31m \u001b[0mmy_tuple\u001b[0m\u001b[0;34m[\u001b[0m\u001b[0;36m0\u001b[0m\u001b[0;34m]\u001b[0m \u001b[0;34m=\u001b[0m \u001b[0;36m10\u001b[0m  \u001b[0;31m# ❌ Error (Tuples are immutable)\u001b[0m\u001b[0;34m\u001b[0m\u001b[0;34m\u001b[0m\u001b[0m\n\u001b[0m",
            "\u001b[0;31mTypeError\u001b[0m: 'tuple' object does not support item assignment"
          ]
        }
      ]
    },
    {
      "cell_type": "markdown",
      "source": [
        "Conclusion:\n",
        "\n",
        "Use lists when data needs to change.\n",
        "\n",
        "Use tuples for fixed, read-only collections."
      ],
      "metadata": {
        "id": "Lr-quRq8YQGT"
      }
    },
    {
      "cell_type": "code",
      "source": [
        "'''Q.4 Describe how dictionaries store data'''"
      ],
      "metadata": {
        "id": "OHD8Tk69YY2j"
      },
      "execution_count": null,
      "outputs": []
    },
    {
      "cell_type": "markdown",
      "source": [
        "A dictionary in Python stores data in the form of key-value pairs. Each key is unique and maps to a value, allowing fast access to data based on the key.\n",
        "\n",
        "Key Characteristics:\n",
        "\n",
        "1. Syntax:\n",
        "\n",
        "my_dict = {\"name\": \"Alice\", \"age\": 25}\n",
        "\n",
        "2. Storage Mechanism:\n",
        "\n",
        "- Internally uses a hash table.\n",
        "\n",
        "- Keys are hashed to generate a unique index.\n",
        "\n",
        "- This allows for O(1) average time complexity for lookup, insert, and delete operations.\n",
        "\n",
        "3. Keys must be immutable (e.g., int, str, tuple), while values can be any data type."
      ],
      "metadata": {
        "id": "6JyX5YLrYjms"
      }
    },
    {
      "cell_type": "code",
      "source": [
        "student = {\"id\": 101, \"name\": \"Ravi\", \"marks\": 85}\n",
        "print(student[\"name\"])  # Output: Ravi\n"
      ],
      "metadata": {
        "colab": {
          "base_uri": "https://localhost:8080/"
        },
        "id": "0BRs12E6Y3mQ",
        "outputId": "d2459a9b-f90d-4e78-cfb1-33e13739c93f"
      },
      "execution_count": 3,
      "outputs": [
        {
          "output_type": "stream",
          "name": "stdout",
          "text": [
            "Ravi\n"
          ]
        }
      ]
    },
    {
      "cell_type": "markdown",
      "source": [
        "Conclusion:\n",
        "\n",
        "Dictionaries store data using unique keys mapped to values, enabling efficient data retrieval and management."
      ],
      "metadata": {
        "id": "Y0M-hF9zY6Lm"
      }
    },
    {
      "cell_type": "code",
      "source": [
        "'''Q.5 Why might you use a set instead of a list in Python?'''"
      ],
      "metadata": {
        "id": "3vr3t0GJY8zG"
      },
      "execution_count": null,
      "outputs": []
    },
    {
      "cell_type": "markdown",
      "source": [
        "A set is used instead of a list when you need to store unique items and perform fast membership testing (i.e., checking if an item exists).\n",
        "\n",
        "| Reason                 | Set                                     | List                                  |\n",
        "| ---------------------- | --------------------------------------- | ------------------------------------- |\n",
        "| **Uniqueness**         | Stores **only unique elements**         | Allows **duplicates**                 |\n",
        "| **Membership Testing** | Fast (average time complexity **O(1)**) | Slower (average time **O(n)**)        |\n",
        "| **Ordering**           | **Unordered**                           | **Ordered**                           |\n",
        "| **Use Cases**          | Removing duplicates, set operations     | Maintaining order, duplicates allowed |\n"
      ],
      "metadata": {
        "id": "rszvwUjOZKlU"
      }
    },
    {
      "cell_type": "code",
      "source": [
        "# Using list\n",
        "my_list = [1, 2, 2, 3]\n",
        "\n",
        "# Using set to remove duplicates\n",
        "my_set = set(my_list)\n",
        "print(my_set)  # Output: {1, 2, 3}\n"
      ],
      "metadata": {
        "colab": {
          "base_uri": "https://localhost:8080/"
        },
        "id": "64hCsFuVZSEo",
        "outputId": "07715cbc-2986-418c-dd13-1b4b9f5e6e53"
      },
      "execution_count": 4,
      "outputs": [
        {
          "output_type": "stream",
          "name": "stdout",
          "text": [
            "{1, 2, 3}\n"
          ]
        }
      ]
    },
    {
      "cell_type": "markdown",
      "source": [
        "Conclusion:\n",
        "\n",
        "Use a set when:\n",
        "\n",
        "- You want to eliminate duplicates.\n",
        "\n",
        "- You need fast lookups.\n",
        "\n",
        "- The order of elements is not important."
      ],
      "metadata": {
        "id": "55s1WSxOZU25"
      }
    },
    {
      "cell_type": "code",
      "source": [
        "'''Q.6 What is a string in Python, and how is it different from a list?'''"
      ],
      "metadata": {
        "id": "ZZT4tSJ_ZZiw"
      },
      "execution_count": null,
      "outputs": []
    },
    {
      "cell_type": "markdown",
      "source": [
        "A string in Python is a sequence of characters enclosed in single (') or double (\") quotes."
      ],
      "metadata": {
        "id": "R8VMBhvhZj2P"
      }
    },
    {
      "cell_type": "code",
      "source": [
        "#Example\n",
        "text = \"Hello, World\"\n"
      ],
      "metadata": {
        "id": "fqkBRPpcZk37"
      },
      "execution_count": 5,
      "outputs": []
    },
    {
      "cell_type": "markdown",
      "source": [
        "| Feature        | **String**                        | **List**                         |\n",
        "| -------------- | --------------------------------- | -------------------------------- |\n",
        "| **Content**    | Stores **characters only**        | Stores **any data type**         |\n",
        "| **Mutability** | **Immutable** (cannot be changed) | **Mutable** (can be changed)     |\n",
        "| **Syntax**     | Enclosed in quotes (`\" \"`, `' '`) | Enclosed in brackets (`[ ]`)     |\n",
        "| **Use Case**   | Text processing                   | Collection of items              |\n",
        "| **Example**    | `\"Python\"`                        | `[\"P\", \"y\", \"t\", \"h\", \"o\", \"n\"]` |\n"
      ],
      "metadata": {
        "id": "RyfjI0aMZndu"
      }
    },
    {
      "cell_type": "code",
      "source": [
        "# String (Immutable)\n",
        "s = \"hello\"\n",
        "# s[0] = 'H'   Error: Strings are immutable\n",
        "\n",
        "# List (Mutable)\n",
        "l = ['h', 'e', 'l', 'l', 'o']\n",
        "l[0] = 'H'  #  Allowed\n",
        "print(l)  # Output: ['H', 'e', 'l', 'l', 'o']\n"
      ],
      "metadata": {
        "colab": {
          "base_uri": "https://localhost:8080/"
        },
        "id": "Q2gWo49xZp50",
        "outputId": "21457913-01ee-4992-bc37-5f73af5d5a51"
      },
      "execution_count": 6,
      "outputs": [
        {
          "output_type": "stream",
          "name": "stdout",
          "text": [
            "['H', 'e', 'l', 'l', 'o']\n"
          ]
        }
      ]
    },
    {
      "cell_type": "markdown",
      "source": [
        " Conclusion:\n",
        "\n",
        "Use strings for text.\n",
        "\n",
        "Use lists for ordered collections that can change."
      ],
      "metadata": {
        "id": "DtTsNsbDZ4P0"
      }
    },
    {
      "cell_type": "code",
      "source": [
        "'''Q.7  How do tuples ensure data integrity in Python?'''"
      ],
      "metadata": {
        "id": "hlaOSfmTZ9Ly"
      },
      "execution_count": null,
      "outputs": []
    },
    {
      "cell_type": "markdown",
      "source": [
        "Tuples in Python are immutable, meaning their elements cannot be changed, added, or removed after creation. This immutability ensures data integrity by protecting the data from accidental modification.\n",
        "\n",
        "Key Points:\n",
        "\n",
        "- Immutability: Once a tuple is created, its contents stay the same.\n",
        "\n",
        "- Safe from Changes: Prevents unintended changes in critical or constant data.\n",
        "\n",
        "- Reliable as Dictionary Keys: Tuples can be used as keys in dictionaries, unlike lists.\n",
        "\n",
        "- Predictable Behavior: Since values don’t change, the data remains consistent"
      ],
      "metadata": {
        "id": "Aq1ibsh5aCfb"
      }
    },
    {
      "cell_type": "code",
      "source": [
        "config = (\"localhost\", 8080)\n",
        "# config[0] = \"127.0.0.1\"   Error: Tuples are immutable\n"
      ],
      "metadata": {
        "id": "oqAAk9juaOUf"
      },
      "execution_count": 7,
      "outputs": []
    },
    {
      "cell_type": "markdown",
      "source": [
        "Conclusion:\n",
        "\n",
        "Tuples ensure data integrity by being immutable, making them ideal for storing fixed, secure, and unchangeable data."
      ],
      "metadata": {
        "id": "bUGIgsSnaSnC"
      }
    },
    {
      "cell_type": "code",
      "source": [
        "'''Q.8 What is a hash table, and how does it relate to dictionaries in Python?'''"
      ],
      "metadata": {
        "id": "6h8ZbToZaVEy"
      },
      "execution_count": null,
      "outputs": []
    },
    {
      "cell_type": "markdown",
      "source": [
        "A hash table is a data structure that stores data in key-value pairs using a hash function to compute an index (or hash code) into an array of buckets or slots. This allows for fast data access in average-case O(1) time.\n",
        "\n",
        "Relation to Dictionaries in Python:\n",
        "\n",
        "- In Python, a dictionary (dict) is an implementation of a hash table.\n",
        "\n",
        "- Keys in a dictionary are passed through a hashing function to determine where their corresponding values are stored in memory.\n",
        "\n",
        "- Keys must be immutable (like strings, numbers, or tuples).\n",
        "\n",
        "- Dictionaries provide constant-time performance for insert, delete, and lookup operations on average."
      ],
      "metadata": {
        "id": "zTY-JZMSacOr"
      }
    },
    {
      "cell_type": "code",
      "source": [
        "# Example:\n",
        "my_dict = {\"name\": \"Alice\", \"age\": 25}\n",
        "print(my_dict[\"name\"])  # Output: Alice\n"
      ],
      "metadata": {
        "colab": {
          "base_uri": "https://localhost:8080/"
        },
        "id": "CYZxKBrDalG6",
        "outputId": "d7e53f6a-a647-42b8-b930-5b021de30844"
      },
      "execution_count": 8,
      "outputs": [
        {
          "output_type": "stream",
          "name": "stdout",
          "text": [
            "Alice\n"
          ]
        }
      ]
    },
    {
      "cell_type": "markdown",
      "source": [
        "Conclusion:\n",
        "\n",
        "A hash table is the underlying mechanism used by dictionaries in Python to store and retrieve data efficiently using keys."
      ],
      "metadata": {
        "id": "cH4LUEFyapsV"
      }
    },
    {
      "cell_type": "code",
      "source": [
        "'''Q.9 Can lists contain different data types in Python?'''"
      ],
      "metadata": {
        "id": "Tvo3lxo8atpX"
      },
      "execution_count": null,
      "outputs": []
    },
    {
      "cell_type": "markdown",
      "source": [
        "Yes, lists in Python can contain elements of different data types. Python lists are heterogeneous, meaning they can store a mix of data types such as integers, strings, floats, booleans, and even other lists or objects."
      ],
      "metadata": {
        "id": "rEfqN5nFaz72"
      }
    },
    {
      "cell_type": "code",
      "source": [
        "# Example:\n",
        "my_list = [10, \"hello\", 3.14, True, [1, 2, 3]]\n",
        "print(my_list)\n",
        "# Output: [10, 'hello', 3.14, True, [1, 2, 3]]\n"
      ],
      "metadata": {
        "id": "p6WC3zIqa2as"
      },
      "execution_count": null,
      "outputs": []
    },
    {
      "cell_type": "markdown",
      "source": [
        "Here, the list contains:\n",
        "\n",
        "- An integer 10\n",
        "\n",
        "- A string \"hello\"\n",
        "\n",
        "- A float 3.14\n",
        "\n",
        "- A boolean True\n",
        "\n",
        "- A nested list [1, 2, 3]\n",
        "\n",
        "Conclusion:\n",
        "\n",
        "Python lists are flexible and can store multiple types of data in a single list, making them powerful for general-purpose programming."
      ],
      "metadata": {
        "id": "xzgQ6ScTbD4-"
      }
    },
    {
      "cell_type": "code",
      "source": [
        "'''Q.10  Explain why strings are immutable in Python?'''"
      ],
      "metadata": {
        "id": "9t8D3RzfbOMN"
      },
      "execution_count": null,
      "outputs": []
    },
    {
      "cell_type": "markdown",
      "source": [
        "In Python, strings are immutable, meaning their contents cannot be changed after they are created.\n",
        "\n",
        "Reasons Why Strings Are Immutable:\n",
        "\n",
        "1. Memory Efficiency:\n",
        "\n",
        "Immutable strings can be shared in memory, reducing memory usage.\n",
        "\n",
        "2. Hashability:\n",
        "\n",
        "Strings can be used as dictionary keys or in sets only because they are immutable.\n",
        "\n",
        "3. Security and Integrity:\n",
        "\n",
        "Prevents accidental or malicious changes to string values in critical parts of the code.\n",
        "\n",
        "4. Simplicity and Predictability:\n",
        "\n",
        "Immutable behavior makes strings easier to debug and reason about."
      ],
      "metadata": {
        "id": "iMLLIpUHbUjU"
      }
    },
    {
      "cell_type": "code",
      "source": [
        "text = \"hello\"\n",
        "text[0] = \"H\"  # ❌ Error: 'str' object does not support item assignment\n"
      ],
      "metadata": {
        "colab": {
          "base_uri": "https://localhost:8080/",
          "height": 158
        },
        "id": "XRebvNH2bm4i",
        "outputId": "2724d32e-3a9a-4170-cfa0-868e0faef629"
      },
      "execution_count": 9,
      "outputs": [
        {
          "output_type": "error",
          "ename": "TypeError",
          "evalue": "'str' object does not support item assignment",
          "traceback": [
            "\u001b[0;31m---------------------------------------------------------------------------\u001b[0m",
            "\u001b[0;31mTypeError\u001b[0m                                 Traceback (most recent call last)",
            "\u001b[0;32m/tmp/ipython-input-9-918109655.py\u001b[0m in \u001b[0;36m<cell line: 0>\u001b[0;34m()\u001b[0m\n\u001b[1;32m      1\u001b[0m \u001b[0mtext\u001b[0m \u001b[0;34m=\u001b[0m \u001b[0;34m\"hello\"\u001b[0m\u001b[0;34m\u001b[0m\u001b[0;34m\u001b[0m\u001b[0m\n\u001b[0;32m----> 2\u001b[0;31m \u001b[0mtext\u001b[0m\u001b[0;34m[\u001b[0m\u001b[0;36m0\u001b[0m\u001b[0;34m]\u001b[0m \u001b[0;34m=\u001b[0m \u001b[0;34m\"H\"\u001b[0m  \u001b[0;31m# ❌ Error: 'str' object does not support item assignment\u001b[0m\u001b[0;34m\u001b[0m\u001b[0;34m\u001b[0m\u001b[0m\n\u001b[0m",
            "\u001b[0;31mTypeError\u001b[0m: 'str' object does not support item assignment"
          ]
        }
      ]
    },
    {
      "cell_type": "code",
      "source": [
        "#To modify a string, you must create a new one:\n",
        "text = \"hello\"\n",
        "new_text = \"H\" + text[1:]\n",
        "print(new_text)  # Output: Hello\n"
      ],
      "metadata": {
        "colab": {
          "base_uri": "https://localhost:8080/"
        },
        "id": "BSFQ-NWwbrOk",
        "outputId": "66dcbf42-54de-4440-8fac-f4973ff70134"
      },
      "execution_count": 10,
      "outputs": [
        {
          "output_type": "stream",
          "name": "stdout",
          "text": [
            "Hello\n"
          ]
        }
      ]
    },
    {
      "cell_type": "markdown",
      "source": [
        "Conclusion:\n",
        "\n",
        "Strings are immutable in Python to ensure reliability, performance, and safe usage in key operations like hashing and data sharing.\n",
        "\n"
      ],
      "metadata": {
        "id": "SERwYIIYbzmU"
      }
    },
    {
      "cell_type": "code",
      "source": [
        "'''Q.11  What advantages do dictionaries offer over lists for certain tasks?'''"
      ],
      "metadata": {
        "id": "469vJeIcb33G"
      },
      "execution_count": null,
      "outputs": []
    },
    {
      "cell_type": "markdown",
      "source": [
        "Dictionaries offer several advantages over lists when dealing with key-based data access, faster lookups, and meaningful data mapping.\n",
        "\n",
        "| Feature                      | **Dictionary (`dict`)**                                   | **List (`list`)**                                |\n",
        "| ---------------------------- | --------------------------------------------------------- | ------------------------------------------------ |\n",
        "| **Fast Lookup**              | Average **O(1)** time using keys                          | Slower **O(n)** lookup by index or value         |\n",
        "| **Key-Based Access**         | Access data using **meaningful keys**                     | Access data by numeric **index only**            |\n",
        "| **Clear Data Mapping**       | Ideal for **storing structured or labeled data**          | Suited for **ordered collections**               |\n",
        "| **No Fixed Order (Pre-3.7)** | No strict order of elements                               | Maintains insertion order                        |\n",
        "| **Flexible Data Structure**  | Allows mixed data types in values and keys (if immutable) | Stores mixed values but only indexed by position |\n"
      ],
      "metadata": {
        "id": "r7Dg-A9Db8oG"
      }
    },
    {
      "cell_type": "code",
      "source": [
        "# Using list\n",
        "employee = [\"Alice\", 25, \"HR\"]\n",
        "\n",
        "# Using dictionary\n",
        "employee = {\"name\": \"Alice\", \"age\": 25, \"department\": \"HR\"}\n",
        "print(employee[\"department\"])  # Output: HR\n"
      ],
      "metadata": {
        "colab": {
          "base_uri": "https://localhost:8080/"
        },
        "id": "DzcvoU3dcBr9",
        "outputId": "9a683be5-5167-45ae-b030-248d3035dc6b"
      },
      "execution_count": 11,
      "outputs": [
        {
          "output_type": "stream",
          "name": "stdout",
          "text": [
            "HR\n"
          ]
        }
      ]
    },
    {
      "cell_type": "markdown",
      "source": [
        "Conclusion:\n",
        "\n",
        "Use dictionaries when you need to:\n",
        "\n",
        "- Map data with labels (like names, IDs)\n",
        "\n",
        "- Perform fast lookups\n",
        "\n",
        "- Write more readable and maintainable code"
      ],
      "metadata": {
        "id": "xMnlYgwfcEmz"
      }
    },
    {
      "cell_type": "code",
      "source": [
        "'''Q.12 Describe a scenario where using a tuple would be preferable over a list'''"
      ],
      "metadata": {
        "id": "HxoidAHFcLdw"
      },
      "execution_count": null,
      "outputs": []
    },
    {
      "cell_type": "markdown",
      "source": [
        "A tuple is preferable over a list when you need to store fixed, unchangeable data that should not be modified during program execution.\n",
        "\n",
        "Scenario: Storing Coordinates\n",
        "\n",
        "Suppose you are building a map application and need to store GPS coordinates (latitude, longitude):"
      ],
      "metadata": {
        "id": "euD5dypPcQsE"
      }
    },
    {
      "cell_type": "code",
      "source": [
        "location = (18.5204, 73.8567)  # Pune coordinates\n"
      ],
      "metadata": {
        "id": "HS5yOi4UcW1f"
      },
      "execution_count": 12,
      "outputs": []
    },
    {
      "cell_type": "markdown",
      "source": [
        "- These coordinates represent a fixed point and should not change, so using a tuple ensures data integrity.\n",
        "\n",
        "- Also, since tuples are immutable, they are faster and can be used as keys in dictionaries (unlike lists)."
      ],
      "metadata": {
        "id": "OUmRgfORcZCa"
      }
    },
    {
      "cell_type": "code",
      "source": [
        "#1. Returning multiple values from a function:\n",
        "def get_name_and_age():\n",
        "    return (\"Alice\", 25)\n"
      ],
      "metadata": {
        "id": "-x4Wzy4QceXX"
      },
      "execution_count": 13,
      "outputs": []
    },
    {
      "cell_type": "code",
      "source": [
        "#2. Using constant configuration data:\n",
        "config = (\"localhost\", 8080)\n"
      ],
      "metadata": {
        "id": "fEeWZfD3ci5p"
      },
      "execution_count": 14,
      "outputs": []
    },
    {
      "cell_type": "code",
      "source": [
        "#3. As dictionary keys or set elements:\n",
        "coords = {(0, 0): \"Origin\", (1, 2): \"Point A\"}\n"
      ],
      "metadata": {
        "id": "zAglydlKcoKG"
      },
      "execution_count": 15,
      "outputs": []
    },
    {
      "cell_type": "markdown",
      "source": [
        "Conclusion:\n",
        "\n",
        "Use a tuple instead of a list when:\n",
        "\n",
        "- The data should be read-only\n",
        "\n",
        "- You need performance and safety\n",
        "\n",
        "- The data needs to be used as a dictionary key"
      ],
      "metadata": {
        "id": "Gd9p7EDZcrWl"
      }
    },
    {
      "cell_type": "code",
      "source": [
        "'''Q.13 How do sets handle duplicate values in Python?'''"
      ],
      "metadata": {
        "id": "o4D5xvULcxrk"
      },
      "execution_count": null,
      "outputs": []
    },
    {
      "cell_type": "markdown",
      "source": [
        "In Python, sets automatically remove duplicate values. A set is a collection of unique elements, so if you try to add duplicates, only one copy is kept.\n",
        "\n",
        " Key Points:\n",
        "\n",
        "- Sets do not allow duplicates.\n",
        "\n",
        "- When duplicate values are added, only one instance is stored.\n",
        "\n",
        "- Sets are unordered, so the order of elements may not be preserved.\n",
        "\n"
      ],
      "metadata": {
        "id": "UCRhYGtkdE_l"
      }
    },
    {
      "cell_type": "code",
      "source": [
        "my_set = {1, 2, 2, 3, 3, 3}\n",
        "print(my_set)\n",
        "# Output: {1, 2, 3}\n"
      ],
      "metadata": {
        "colab": {
          "base_uri": "https://localhost:8080/"
        },
        "id": "fMTJgVAadKm7",
        "outputId": "7e7eee62-9a56-4289-ac48-6d109edff60b"
      },
      "execution_count": 16,
      "outputs": [
        {
          "output_type": "stream",
          "name": "stdout",
          "text": [
            "{1, 2, 3}\n"
          ]
        }
      ]
    },
    {
      "cell_type": "markdown",
      "source": [
        "Conclusion:\n",
        "\n",
        "Sets automatically discard duplicate values, making them useful for tasks like removing duplicates from a list or checking for unique items."
      ],
      "metadata": {
        "id": "Q1Ykf5PudPyk"
      }
    },
    {
      "cell_type": "code",
      "source": [
        "'''Q.14 How does the “in” keyword work differently for lists and dictionaries?'''"
      ],
      "metadata": {
        "id": "yay7Cis-dV87"
      },
      "execution_count": null,
      "outputs": []
    },
    {
      "cell_type": "markdown",
      "source": [
        "The in keyword is used to check membership, but it behaves differently for lists and dictionaries:\n",
        "\n",
        "For Lists:\n",
        "\n",
        "- Checks if a value exists in the list.\n",
        "\n",
        "- Searches all elements in sequence."
      ],
      "metadata": {
        "id": "nAZsllvcdjhw"
      }
    },
    {
      "cell_type": "code",
      "source": [
        "fruits = ['apple', 'banana', 'cherry']\n",
        "print('banana' in fruits)  # ✅ True\n",
        "print('grape' in fruits)   # ❌ False\n"
      ],
      "metadata": {
        "colab": {
          "base_uri": "https://localhost:8080/"
        },
        "id": "0JrTI49AdnnZ",
        "outputId": "41a98260-0e84-4085-ffbc-1576e54156c8"
      },
      "execution_count": 17,
      "outputs": [
        {
          "output_type": "stream",
          "name": "stdout",
          "text": [
            "True\n",
            "False\n"
          ]
        }
      ]
    },
    {
      "cell_type": "markdown",
      "source": [
        " For Dictionaries:\n",
        "\n",
        "- Checks if a key exists in the dictionary, not the value.\n",
        "\n",
        "- Values are ignored unless specifically checked."
      ],
      "metadata": {
        "id": "NdzGf4kZdpvS"
      }
    },
    {
      "cell_type": "code",
      "source": [
        "person = {'name': 'Alice', 'age': 25}\n",
        "print('name' in person)   # ✅ True (key check)\n",
        "print('Alice' in person)  # ❌ False (not a key)\n"
      ],
      "metadata": {
        "colab": {
          "base_uri": "https://localhost:8080/"
        },
        "id": "lkMtSIVWdvWO",
        "outputId": "f3fed7c3-47cd-443f-ea4d-f5f395e59357"
      },
      "execution_count": 18,
      "outputs": [
        {
          "output_type": "stream",
          "name": "stdout",
          "text": [
            "True\n",
            "False\n"
          ]
        }
      ]
    },
    {
      "cell_type": "code",
      "source": [
        "#To check a value:\n",
        "print('Alice' in person.values())  # ✅ True\n"
      ],
      "metadata": {
        "colab": {
          "base_uri": "https://localhost:8080/"
        },
        "id": "wRauDQk7dx0i",
        "outputId": "a4bddeca-2077-4cf3-f35c-d6951bd5882b"
      },
      "execution_count": 19,
      "outputs": [
        {
          "output_type": "stream",
          "name": "stdout",
          "text": [
            "True\n"
          ]
        }
      ]
    },
    {
      "cell_type": "markdown",
      "source": [
        "Conclusion:\n",
        "\n",
        "| Structure      | `in` Checks for       |\n",
        "| -------------- | --------------------- |\n",
        "| **List**       | Value (element)       |\n",
        "| **Dictionary** | Key only (by default) |\n"
      ],
      "metadata": {
        "id": "MMijij2Yd13e"
      }
    },
    {
      "cell_type": "code",
      "source": [
        "'''Q.15 Can you modify the elements of a tuple? Explain why or why not'''"
      ],
      "metadata": {
        "id": "GOos2iMid48s"
      },
      "execution_count": null,
      "outputs": []
    },
    {
      "cell_type": "markdown",
      "source": [
        "No, you cannot modify the elements of a tuple in Python.\n",
        "\n",
        "Reason:\n",
        "\n",
        "- Tuples are immutable, meaning their contents cannot be changed after creation.\n",
        "\n",
        "- You cannot add, remove, or change elements in a tuple.\n",
        "\n"
      ],
      "metadata": {
        "id": "tLHtz1K-eAtJ"
      }
    },
    {
      "cell_type": "code",
      "source": [
        "my_tuple = (10, 20, 30)\n",
        "my_tuple[0] = 100  # ❌ Error: 'tuple' object does not support item assignment\n"
      ],
      "metadata": {
        "colab": {
          "base_uri": "https://localhost:8080/",
          "height": 158
        },
        "id": "Sg1Pl7IteHeC",
        "outputId": "7651f3ac-aa3a-4e14-ebe0-cea6117105f4"
      },
      "execution_count": 20,
      "outputs": [
        {
          "output_type": "error",
          "ename": "TypeError",
          "evalue": "'tuple' object does not support item assignment",
          "traceback": [
            "\u001b[0;31m---------------------------------------------------------------------------\u001b[0m",
            "\u001b[0;31mTypeError\u001b[0m                                 Traceback (most recent call last)",
            "\u001b[0;32m/tmp/ipython-input-20-715494760.py\u001b[0m in \u001b[0;36m<cell line: 0>\u001b[0;34m()\u001b[0m\n\u001b[1;32m      1\u001b[0m \u001b[0mmy_tuple\u001b[0m \u001b[0;34m=\u001b[0m \u001b[0;34m(\u001b[0m\u001b[0;36m10\u001b[0m\u001b[0;34m,\u001b[0m \u001b[0;36m20\u001b[0m\u001b[0;34m,\u001b[0m \u001b[0;36m30\u001b[0m\u001b[0;34m)\u001b[0m\u001b[0;34m\u001b[0m\u001b[0;34m\u001b[0m\u001b[0m\n\u001b[0;32m----> 2\u001b[0;31m \u001b[0mmy_tuple\u001b[0m\u001b[0;34m[\u001b[0m\u001b[0;36m0\u001b[0m\u001b[0;34m]\u001b[0m \u001b[0;34m=\u001b[0m \u001b[0;36m100\u001b[0m  \u001b[0;31m# ❌ Error: 'tuple' object does not support item assignment\u001b[0m\u001b[0;34m\u001b[0m\u001b[0;34m\u001b[0m\u001b[0m\n\u001b[0m",
            "\u001b[0;31mTypeError\u001b[0m: 'tuple' object does not support item assignment"
          ]
        }
      ]
    },
    {
      "cell_type": "markdown",
      "source": [
        "Why Tuples Are Immutable:\n",
        "\n",
        "- Ensures data integrity – data stays unchanged.\n",
        "\n",
        "- Safe to use as dictionary keys.\n",
        "\n",
        "- Improves performance and memory usage.\n",
        "\n",
        "- Useful for fixed data like coordinates, configurations, etc.\n",
        "\n",
        "Conclusion:\n",
        "\n",
        "Tuples cannot be modified because they are designed to be immutable, which helps ensure safety, reliability, and efficient use in programs."
      ],
      "metadata": {
        "id": "mVzvFf7OeQeP"
      }
    },
    {
      "cell_type": "code",
      "source": [
        "'''Q.16 What is a nested dictionary, and give an example of its use case?'''"
      ],
      "metadata": {
        "id": "XFCWdGo8eY2L"
      },
      "execution_count": null,
      "outputs": []
    },
    {
      "cell_type": "markdown",
      "source": [
        "A nested dictionary is a dictionary inside another dictionary. It allows you to store structured, hierarchical data in key-value format.\n",
        "\n",
        "Definition:\n",
        "\n",
        "A nested dictionary is used when each key maps to another dictionary, allowing multiple levels of data grouping."
      ],
      "metadata": {
        "id": "mUHeMXAOeffJ"
      }
    },
    {
      "cell_type": "code",
      "source": [
        "students = {\n",
        "    \"101\": {\"name\": \"Alice\", \"age\": 20, \"marks\": 85},\n",
        "    \"102\": {\"name\": \"Bob\", \"age\": 21, \"marks\": 90}\n",
        "}\n"
      ],
      "metadata": {
        "id": "he7I0sCQekq4"
      },
      "execution_count": 21,
      "outputs": []
    },
    {
      "cell_type": "code",
      "source": [
        "#You can access nested data like this:\n",
        "print(students[\"101\"][\"name\"])  # Output: Alice\n"
      ],
      "metadata": {
        "colab": {
          "base_uri": "https://localhost:8080/"
        },
        "id": "xNglD42OenWN",
        "outputId": "e080c483-698f-45b4-ede6-28585726e7cd"
      },
      "execution_count": 22,
      "outputs": [
        {
          "output_type": "stream",
          "name": "stdout",
          "text": [
            "Alice\n"
          ]
        }
      ]
    },
    {
      "cell_type": "markdown",
      "source": [
        "Use Case Example:\n",
        "\n",
        "Student Database\n",
        "\n",
        "- Main Key: Student ID\n",
        "\n",
        "- Nested Keys: Name, Age, Marks\n",
        "\n",
        "This structure is ideal for:\n",
        "\n",
        "- Storing JSON-like data\n",
        "\n",
        "- Handling user profiles\n",
        "\n",
        "- Managing configurations or settings\n",
        "\n",
        "Conclusion:\n",
        "\n",
        "A nested dictionary is useful for organizing complex data in a clear and structured way, especially when dealing with hierarchical relationships."
      ],
      "metadata": {
        "id": "iCOsRTMRepU_"
      }
    },
    {
      "cell_type": "code",
      "source": [
        "'''Q.17 Describe the time complexity of accessing elements in a dictionary'''"
      ],
      "metadata": {
        "id": "iW5aAatie5P_"
      },
      "execution_count": null,
      "outputs": []
    },
    {
      "cell_type": "markdown",
      "source": [
        "In Python, accessing elements in a dictionary has an average-case time complexity of O(1) (constant time).\n",
        "\n",
        "Explanation:\n",
        "\n",
        "- Python dictionaries use a hash table under the hood.\n",
        "\n",
        "- When you access a value using a key (my_dict[key]), Python:\n",
        "\n",
        " 1. Hashes the key to compute an index.\n",
        "\n",
        " 2. Directly retrieves the value from that index.\n",
        "\n",
        "- This makes lookup very fast and efficient, regardless of the dictionary size.\n",
        "\n",
        "Worst-Case Time Complexity: O(n)\n",
        "\n",
        "- In rare cases, if there are many hash collisions, dictionary lookup may degrade to O(n).\n",
        "\n",
        "- However, Python's internal hashing and collision handling minimize this risk."
      ],
      "metadata": {
        "id": "cBJ4u6kAfBoJ"
      }
    },
    {
      "cell_type": "code",
      "source": [
        "my_dict = {\"name\": \"Alice\", \"age\": 25}\n",
        "print(my_dict[\"age\"])  # Output: 25\n"
      ],
      "metadata": {
        "colab": {
          "base_uri": "https://localhost:8080/"
        },
        "id": "6hFrmAGifcdz",
        "outputId": "c05e8cd2-c70f-4419-c875-3d129f62d13f"
      },
      "execution_count": 23,
      "outputs": [
        {
          "output_type": "stream",
          "name": "stdout",
          "text": [
            "25\n"
          ]
        }
      ]
    },
    {
      "cell_type": "markdown",
      "source": [
        " Conclusion:\n",
        "\n",
        "Average case: O(1)\n",
        "\n",
        "Worst case: O(n) (rare)\n",
        "\n",
        "Dictionary lookups are generally fast and efficient due to hashing."
      ],
      "metadata": {
        "id": "gocEF2cFfg-z"
      }
    },
    {
      "cell_type": "code",
      "source": [
        "'''Q.18 In what situations are lists preferred over dictionaries?'''"
      ],
      "metadata": {
        "id": "Eh6MI_O-fk3Q"
      },
      "execution_count": null,
      "outputs": []
    },
    {
      "cell_type": "markdown",
      "source": [
        "Lists are preferred over dictionaries when:\n",
        "\n",
        "1. Order Matters\n",
        "Lists maintain the order of elements, so they're ideal when the sequence or position is important.\n",
        "\n",
        "Example: Displaying items in a specific order:"
      ],
      "metadata": {
        "id": "lqk59zkBfrxT"
      }
    },
    {
      "cell_type": "code",
      "source": [
        "#Example: Displaying items in a specific order:\n",
        "tasks = [\"wake up\", \"eat\", \"study\"]\n"
      ],
      "metadata": {
        "id": "NJVtuJMVfzdM"
      },
      "execution_count": null,
      "outputs": []
    },
    {
      "cell_type": "markdown",
      "source": [
        " 2. Data Doesn’t Need Labels\n",
        "Use lists when you're working with unnamed, simple collections of data."
      ],
      "metadata": {
        "id": "q7FSPe6Ff2HM"
      }
    },
    {
      "cell_type": "code",
      "source": [
        "#Example:\n",
        "marks = [80, 85, 90]\n"
      ],
      "metadata": {
        "id": "oMEQEvFgf8nU"
      },
      "execution_count": null,
      "outputs": []
    },
    {
      "cell_type": "markdown",
      "source": [
        " 3. Iterating Over Data\n",
        "\n",
        "Lists are better when you need to loop through items in a specific order.\n",
        "\n",
        " 4. Data is Indexed by Position\n",
        "\n",
        "When you want to access elements using indices, not keys."
      ],
      "metadata": {
        "id": "LGszXytjgGxS"
      }
    },
    {
      "cell_type": "code",
      "source": [
        "#Example:\n",
        "fruits = [\"apple\", \"banana\", \"cherry\"]\n",
        "print(fruits[1])  # Output: banana\n"
      ],
      "metadata": {
        "id": "Lsuci9sJgLvC"
      },
      "execution_count": null,
      "outputs": []
    },
    {
      "cell_type": "markdown",
      "source": [
        "5. Storing Duplicates\n",
        "\n",
        "Lists allow duplicate values, which is useful when repetition is meaningful.\n",
        "\n",
        "Conclusion:\n",
        "\n",
        "Use lists when:\n",
        "\n",
        "- The data is ordered and indexed\n",
        "\n",
        "- Labels are not needed\n",
        "\n",
        "- Duplicates are allowed\n",
        "\n",
        "\n",
        " - You want to perform position-based operations"
      ],
      "metadata": {
        "id": "TukbDv6lgRkR"
      }
    },
    {
      "cell_type": "code",
      "source": [
        "'''Q.19  Why are dictionaries considered unordered, and how does that affect data retrieval?'''"
      ],
      "metadata": {
        "id": "uobdXP_dgZjc"
      },
      "execution_count": null,
      "outputs": []
    },
    {
      "cell_type": "markdown",
      "source": [
        "Historically, dictionaries in Python were considered unordered because they did not maintain the order of key-value pairs. This meant that the insertion order was not preserved, and iterating over a dictionary could return items in any order.\n",
        "\n",
        "Current Behavior (Python 3.7+):\n",
        "\n",
        "- Starting from Python 3.7, dictionaries preserve insertion order, but they are still considered unordered collections conceptually because:\n",
        "\n",
        " - The order is not guaranteed as a part of the dictionary's core functionality.\n",
        "\n",
        " - It is not meant for position-based access, unlike lists.\n",
        "\n",
        "Effect on Data Retrieval:\n",
        "\n",
        "- Access by Key is Fast (O(1)), regardless of order.\n",
        "\n",
        "- Access by Position is Not Supported (you can't do my_dict[0]).\n",
        "\n",
        "- Order should not be relied on unless explicitly documented."
      ],
      "metadata": {
        "id": "3oMb1NnJgtRx"
      }
    },
    {
      "cell_type": "code",
      "source": [
        "data = {\"b\": 2, \"a\": 1, \"c\": 3}\n",
        "for key in data:\n",
        "    print(key)\n"
      ],
      "metadata": {
        "colab": {
          "base_uri": "https://localhost:8080/"
        },
        "id": "1knb0O3khM-J",
        "outputId": "83f03b6f-a276-4cf3-d864-10abbf95decf"
      },
      "execution_count": 24,
      "outputs": [
        {
          "output_type": "stream",
          "name": "stdout",
          "text": [
            "b\n",
            "a\n",
            "c\n"
          ]
        }
      ]
    },
    {
      "cell_type": "markdown",
      "source": [
        "Conclusion:\n",
        "\n",
        "Dictionaries are considered unordered because they are designed for key-based access, not for maintaining or accessing elements by order or position. This does not affect key lookup, but it means you should not depend on the order unless using Python 3.7+ and order matters for your use case.\n",
        "\n"
      ],
      "metadata": {
        "id": "XgNb530ohTbQ"
      }
    },
    {
      "cell_type": "code",
      "source": [
        "'''Q.20 Explain the difference between a list and a dictionary in terms of data retrieval.'''"
      ],
      "metadata": {
        "id": "AipZc4_ShVZL"
      },
      "execution_count": null,
      "outputs": []
    },
    {
      "cell_type": "markdown",
      "source": [
        "The key difference between a list and a dictionary in terms of data retrieval lies in how elements are accessed:\n",
        "\n",
        " List: Index-Based Retrieval\n",
        "\n",
        "- Elements are retrieved using integer indices (position).\n",
        "\n",
        "- Access time is O(1) if index is known.\n"
      ],
      "metadata": {
        "id": "bdwmR6A0hby4"
      }
    },
    {
      "cell_type": "code",
      "source": [
        "my_list = ['apple', 'banana', 'cherry']\n",
        "print(my_list[1])  # Output: banana\n"
      ],
      "metadata": {
        "colab": {
          "base_uri": "https://localhost:8080/"
        },
        "id": "MNmz2bh7hk40",
        "outputId": "aaf00913-b3af-4381-a3f5-0495e03a53d1"
      },
      "execution_count": 25,
      "outputs": [
        {
          "output_type": "stream",
          "name": "stdout",
          "text": [
            "banana\n"
          ]
        }
      ]
    },
    {
      "cell_type": "markdown",
      "source": [
        " Dictionary: Key-Based Retrieval\n",
        "\n",
        "- Elements are retrieved using unique keys (not position).\n",
        "\n",
        "- Lookup is done using a hash function, with average O(1) time."
      ],
      "metadata": {
        "id": "xIeLIiZkhn7C"
      }
    },
    {
      "cell_type": "code",
      "source": [
        "my_dict = {'name': 'Alice', 'age': 25}\n",
        "print(my_dict['name'])  # Output: Alice\n"
      ],
      "metadata": {
        "colab": {
          "base_uri": "https://localhost:8080/"
        },
        "id": "o0qJaJGNhsAC",
        "outputId": "0734cc33-d24a-49a7-ac17-d68a95017e7a"
      },
      "execution_count": 26,
      "outputs": [
        {
          "output_type": "stream",
          "name": "stdout",
          "text": [
            "Alice\n"
          ]
        }
      ]
    },
    {
      "cell_type": "markdown",
      "source": [
        "| Feature              | **List**                   | **Dictionary**                  |\n",
        "| -------------------- | -------------------------- | ------------------------------- |\n",
        "| **Access Method**    | By index (e.g., `list[0]`) | By key (e.g., `dict['key']`)    |\n",
        "| **Key Type**         | Integer indices only       | Custom keys (must be immutable) |\n",
        "| **Use Case**         | Ordered data collections   | Key-value mappings              |\n",
        "| **Order Maintained** | Yes                        | Yes (from Python 3.7+)          |\n",
        "\n",
        "Conclusion:\n",
        "\n",
        "Use lists when position matters and data is ordered.\n",
        "\n",
        "Use dictionaries when you need to quickly look up data by a meaningful key"
      ],
      "metadata": {
        "id": "3RFTtpd5htwA"
      }
    },
    {
      "cell_type": "code",
      "source": [
        "#PRACTICAL QUESTIONS"
      ],
      "metadata": {
        "id": "h2kOPZH7h31B"
      },
      "execution_count": null,
      "outputs": []
    },
    {
      "cell_type": "code",
      "source": [
        "'''Q.1  Write a code to create a string with your name and print it'''"
      ],
      "metadata": {
        "id": "TCnwhbRkh8UC"
      },
      "execution_count": null,
      "outputs": []
    },
    {
      "cell_type": "code",
      "source": [
        "# Creating a string with my name\n",
        "my_name = \"Kalyani Khapale\"\n",
        "\n",
        "# Printing the string\n",
        "print(\"My name is:\", my_name)\n"
      ],
      "metadata": {
        "colab": {
          "base_uri": "https://localhost:8080/"
        },
        "id": "ZisoJWTuiKey",
        "outputId": "fb0e3c9c-4a94-48a2-b3d3-0edc2da1c965"
      },
      "execution_count": 27,
      "outputs": [
        {
          "output_type": "stream",
          "name": "stdout",
          "text": [
            "My name is: Kalyani Khapale\n"
          ]
        }
      ]
    },
    {
      "cell_type": "code",
      "source": [
        "'''Q.2 Write a code to find the length of the string \"Hello World\"'''"
      ],
      "metadata": {
        "id": "SZu7k1P8iMg0"
      },
      "execution_count": null,
      "outputs": []
    },
    {
      "cell_type": "code",
      "source": [
        "# Define the string\n",
        "text = \"Hello World\"\n",
        "\n",
        "# Find the length using len() function\n",
        "length = len(text)\n",
        "\n",
        "# Print the result\n",
        "print(\"Length of the string is:\", length)\n"
      ],
      "metadata": {
        "colab": {
          "base_uri": "https://localhost:8080/"
        },
        "id": "DkwSyEWJihnE",
        "outputId": "246fa9b6-b343-4ab3-8ba5-4dc0f4b83001"
      },
      "execution_count": 28,
      "outputs": [
        {
          "output_type": "stream",
          "name": "stdout",
          "text": [
            "Length of the string is: 11\n"
          ]
        }
      ]
    },
    {
      "cell_type": "code",
      "source": [
        "'''Q.3 Write a code to slice the first 3 characters from the string \"Python Programming'''"
      ],
      "metadata": {
        "id": "O1uEnOurimYS"
      },
      "execution_count": null,
      "outputs": []
    },
    {
      "cell_type": "code",
      "source": [
        "# Define the string\n",
        "text = \"Python Programming\"\n",
        "\n",
        "# Slice the first 3 characters\n",
        "sliced_text = text[:3]\n",
        "\n",
        "# Print the result\n",
        "print(\"First 3 characters:\", sliced_text)\n"
      ],
      "metadata": {
        "colab": {
          "base_uri": "https://localhost:8080/"
        },
        "id": "s2hX2M27iqPy",
        "outputId": "23cf48cb-c3c5-42f3-c38e-290b1457a60b"
      },
      "execution_count": 29,
      "outputs": [
        {
          "output_type": "stream",
          "name": "stdout",
          "text": [
            "First 3 characters: Pyt\n"
          ]
        }
      ]
    },
    {
      "cell_type": "code",
      "source": [
        "'''Q.4  Write a code to convert the string \"hello\" to uppercase'''"
      ],
      "metadata": {
        "id": "nXI16LbFjI16"
      },
      "execution_count": null,
      "outputs": []
    },
    {
      "cell_type": "code",
      "source": [
        "# Define the string\n",
        "text = \"hello\"\n",
        "\n",
        "# Convert to uppercase using upper() method\n",
        "uppercase_text = text.upper()\n",
        "\n",
        "# Print the result\n",
        "print(\"Uppercase:\", uppercase_text)\n"
      ],
      "metadata": {
        "colab": {
          "base_uri": "https://localhost:8080/"
        },
        "id": "-cdu27b_jPIT",
        "outputId": "c25f6593-397a-49b7-b21a-09aac4f5921d"
      },
      "execution_count": 30,
      "outputs": [
        {
          "output_type": "stream",
          "name": "stdout",
          "text": [
            "Uppercase: HELLO\n"
          ]
        }
      ]
    },
    {
      "cell_type": "code",
      "source": [
        "'''Q.5  Write a code to replace the word \"apple\" with \"orange\" in the string \"I like apple'''"
      ],
      "metadata": {
        "id": "cnLLIi1ejQdw"
      },
      "execution_count": null,
      "outputs": []
    },
    {
      "cell_type": "code",
      "source": [
        "# Define the original string\n",
        "text = \"I like apple\"\n",
        "\n",
        "# Replace 'apple' with 'orange'\n",
        "new_text = text.replace(\"apple\", \"orange\")\n",
        "\n",
        "# Print the result\n",
        "print(\"Updated string:\", new_text)\n"
      ],
      "metadata": {
        "colab": {
          "base_uri": "https://localhost:8080/"
        },
        "id": "NJiWHSFVjWw2",
        "outputId": "648d7303-cd0e-4669-a81c-d7ff9b6c9fca"
      },
      "execution_count": 31,
      "outputs": [
        {
          "output_type": "stream",
          "name": "stdout",
          "text": [
            "Updated string: I like orange\n"
          ]
        }
      ]
    },
    {
      "cell_type": "code",
      "source": [
        "'''Q.6 Write a code to create a list with numbers 1 to 5 and print it'''"
      ],
      "metadata": {
        "id": "I9X80g9-jeXr"
      },
      "execution_count": null,
      "outputs": []
    },
    {
      "cell_type": "code",
      "source": [
        "# Create a list with numbers 1 to 5\n",
        "numbers = [1, 2, 3, 4, 5]\n",
        "\n",
        "# Print the list\n",
        "print(\"List of numbers:\", numbers)\n"
      ],
      "metadata": {
        "colab": {
          "base_uri": "https://localhost:8080/"
        },
        "id": "LXrOTL9YjieJ",
        "outputId": "e9a86e1e-404b-4dbb-a477-1518ccafe284"
      },
      "execution_count": 32,
      "outputs": [
        {
          "output_type": "stream",
          "name": "stdout",
          "text": [
            "List of numbers: [1, 2, 3, 4, 5]\n"
          ]
        }
      ]
    },
    {
      "cell_type": "code",
      "source": [
        "'''Q.7 Write a code to append the number 10 to the list [1, 2, 3, 4]'''"
      ],
      "metadata": {
        "id": "nz0agruxjmiS"
      },
      "execution_count": null,
      "outputs": []
    },
    {
      "cell_type": "code",
      "source": [
        "# Define the original list\n",
        "numbers = [1, 2, 3, 4]\n",
        "\n",
        "# Append 10 to the list\n",
        "numbers.append(10)\n",
        "\n",
        "# Print the updated list\n",
        "print(\"Updated list:\", numbers)\n"
      ],
      "metadata": {
        "colab": {
          "base_uri": "https://localhost:8080/"
        },
        "id": "4tweslUcjtPo",
        "outputId": "5057ec89-6ff8-4c7e-bd46-d1e5f3b4fbf3"
      },
      "execution_count": 33,
      "outputs": [
        {
          "output_type": "stream",
          "name": "stdout",
          "text": [
            "Updated list: [1, 2, 3, 4, 10]\n"
          ]
        }
      ]
    },
    {
      "cell_type": "code",
      "source": [
        "'''Q.8 Write a code to remove the number 3 from the list [1, 2, 3, 4, 5]'''"
      ],
      "metadata": {
        "id": "nj1RfQQ2judO"
      },
      "execution_count": null,
      "outputs": []
    },
    {
      "cell_type": "code",
      "source": [
        "# Define the original list\n",
        "numbers = [1, 2, 3, 4, 5]\n",
        "\n",
        "# Remove the number 3\n",
        "numbers.remove(3)\n",
        "\n",
        "# Print the updated list\n",
        "print(\"Updated list:\", numbers)\n"
      ],
      "metadata": {
        "colab": {
          "base_uri": "https://localhost:8080/"
        },
        "id": "ZSv2UG_Fj0xf",
        "outputId": "e7508208-1411-46e9-aa5b-7c405e2e1132"
      },
      "execution_count": 34,
      "outputs": [
        {
          "output_type": "stream",
          "name": "stdout",
          "text": [
            "Updated list: [1, 2, 4, 5]\n"
          ]
        }
      ]
    },
    {
      "cell_type": "code",
      "source": [
        "'''Q.9  Write a code to access the second element in the list ['a', 'b', 'c', 'd']'''"
      ],
      "metadata": {
        "id": "NRvoB1f0j4cg"
      },
      "execution_count": null,
      "outputs": []
    },
    {
      "cell_type": "code",
      "source": [
        "# Define the list\n",
        "letters = ['a', 'b', 'c', 'd']\n",
        "\n",
        "# Access the second element (index 1)\n",
        "second_element = letters[1]\n",
        "\n",
        "# Print the result\n",
        "print(\"Second element:\", second_element)\n"
      ],
      "metadata": {
        "colab": {
          "base_uri": "https://localhost:8080/"
        },
        "id": "YFsSjVEfj81X",
        "outputId": "6e85cad0-5b58-451d-e8aa-9d9b8ecbc16e"
      },
      "execution_count": 35,
      "outputs": [
        {
          "output_type": "stream",
          "name": "stdout",
          "text": [
            "Second element: b\n"
          ]
        }
      ]
    },
    {
      "cell_type": "code",
      "source": [
        "'''Q.10  Write a code to reverse the list [10, 20, 30, 40, 50]'''"
      ],
      "metadata": {
        "id": "hFHUEAk_kAoI"
      },
      "execution_count": null,
      "outputs": []
    },
    {
      "cell_type": "code",
      "source": [
        "#Method 1: Using reverse() method\n",
        "numbers = [10, 20, 30, 40, 50]\n",
        "numbers.reverse()\n",
        "print(\"Reversed list:\", numbers)\n"
      ],
      "metadata": {
        "colab": {
          "base_uri": "https://localhost:8080/"
        },
        "id": "bh0im-CykHyv",
        "outputId": "a5682fc6-18da-4db8-e582-5b8713bb2bf0"
      },
      "execution_count": 36,
      "outputs": [
        {
          "output_type": "stream",
          "name": "stdout",
          "text": [
            "Reversed list: [50, 40, 30, 20, 10]\n"
          ]
        }
      ]
    },
    {
      "cell_type": "code",
      "source": [
        "#Method 2: Using slicing\n",
        "numbers = [10, 20, 30, 40, 50]\n",
        "reversed_numbers = numbers[::-1]\n",
        "print(\"Reversed list:\", reversed_numbers)\n"
      ],
      "metadata": {
        "colab": {
          "base_uri": "https://localhost:8080/"
        },
        "id": "mECls801kLpI",
        "outputId": "c9e672d6-01b9-4699-ca15-335bdb72acca"
      },
      "execution_count": 37,
      "outputs": [
        {
          "output_type": "stream",
          "name": "stdout",
          "text": [
            "Reversed list: [50, 40, 30, 20, 10]\n"
          ]
        }
      ]
    },
    {
      "cell_type": "code",
      "source": [
        "'''Q.11 Write a code to create a tuple with the elements 100, 200, 300 and print it'''"
      ],
      "metadata": {
        "id": "mnLMa27WkPvX"
      },
      "execution_count": null,
      "outputs": []
    },
    {
      "cell_type": "code",
      "source": [
        "# Create a tuple\n",
        "my_tuple = (100, 200, 300)\n",
        "\n",
        "# Print the tuple\n",
        "print(\"Tuple:\", my_tuple)\n"
      ],
      "metadata": {
        "colab": {
          "base_uri": "https://localhost:8080/"
        },
        "id": "q7vlfDYekebI",
        "outputId": "0b49dee6-7f29-4eae-edb7-4f448037c9d4"
      },
      "execution_count": 38,
      "outputs": [
        {
          "output_type": "stream",
          "name": "stdout",
          "text": [
            "Tuple: (100, 200, 300)\n"
          ]
        }
      ]
    },
    {
      "cell_type": "code",
      "source": [
        "'''Q.12  Write a code to access the second-to-last element of the tuple ('red', 'green', 'blue', 'yellow')'''"
      ],
      "metadata": {
        "id": "9c4NXQcmki9x"
      },
      "execution_count": null,
      "outputs": []
    },
    {
      "cell_type": "code",
      "source": [
        "# Define the tuple\n",
        "colors = ('red', 'green', 'blue', 'yellow')\n",
        "\n",
        "# Access the second-to-last element using negative indexing\n",
        "second_last = colors[-2]\n",
        "\n",
        "# Print the result\n",
        "print(\"Second-to-last element:\", second_last)\n"
      ],
      "metadata": {
        "colab": {
          "base_uri": "https://localhost:8080/"
        },
        "id": "Pw8BuRtGkp7V",
        "outputId": "979232e8-0eaa-43ea-ba4c-4c3e1505307a"
      },
      "execution_count": 39,
      "outputs": [
        {
          "output_type": "stream",
          "name": "stdout",
          "text": [
            "Second-to-last element: blue\n"
          ]
        }
      ]
    },
    {
      "cell_type": "code",
      "source": [
        "'''Q.13 Write a code to find the minimum number in the tuple (10, 20, 5, 15)'''"
      ],
      "metadata": {
        "id": "dLbcXNJPktId"
      },
      "execution_count": null,
      "outputs": []
    },
    {
      "cell_type": "code",
      "source": [
        "# Define the tuple\n",
        "numbers = (10, 20, 5, 15)\n",
        "\n",
        "# Find the minimum number using min()\n",
        "min_number = min(numbers)\n",
        "\n",
        "# Print the result\n",
        "print(\"Minimum number:\", min_number)\n"
      ],
      "metadata": {
        "colab": {
          "base_uri": "https://localhost:8080/"
        },
        "id": "w4MTlu5Bkwy1",
        "outputId": "9ebd78a6-16cb-4eed-c243-a06c49b93127"
      },
      "execution_count": 40,
      "outputs": [
        {
          "output_type": "stream",
          "name": "stdout",
          "text": [
            "Minimum number: 5\n"
          ]
        }
      ]
    },
    {
      "cell_type": "code",
      "source": [
        "'''Q.14 Write a code to find the index of the element \"cat\" in the tuple ('dog', 'cat', 'rabbit')'''"
      ],
      "metadata": {
        "id": "1lI36yJIkz3-"
      },
      "execution_count": null,
      "outputs": []
    },
    {
      "cell_type": "code",
      "source": [
        "# Define the tuple\n",
        "animals = ('dog', 'cat', 'rabbit')\n",
        "\n",
        "# Find the index of 'cat'\n",
        "cat_index = animals.index('cat')\n",
        "\n",
        "# Print the result\n",
        "print(\"Index of 'cat':\", cat_index)\n"
      ],
      "metadata": {
        "colab": {
          "base_uri": "https://localhost:8080/"
        },
        "id": "0A99jcG5k5ng",
        "outputId": "fddff932-6f10-4fe6-9eaa-d8433da62097"
      },
      "execution_count": 41,
      "outputs": [
        {
          "output_type": "stream",
          "name": "stdout",
          "text": [
            "Index of 'cat': 1\n"
          ]
        }
      ]
    },
    {
      "cell_type": "code",
      "source": [
        "'''Q.15 Write a code to create a tuple containing three different fruits and check if \"kiwi\" is in it.'''"
      ],
      "metadata": {
        "id": "p3VLToPhk742"
      },
      "execution_count": null,
      "outputs": []
    },
    {
      "cell_type": "code",
      "source": [
        "# Create a tuple with three fruits\n",
        "fruits = (\"apple\", \"banana\", \"mango\")\n",
        "\n",
        "# Check if 'kiwi' is in the tuple\n",
        "if \"kiwi\" in fruits:\n",
        "    print(\"Kiwi is in the tuple.\")\n",
        "else:\n",
        "    print(\"Kiwi is not in the tuple.\")\n"
      ],
      "metadata": {
        "colab": {
          "base_uri": "https://localhost:8080/"
        },
        "id": "UUzkT0wUlAHG",
        "outputId": "1919659a-28ef-4eb9-dcb8-4978431a162c"
      },
      "execution_count": 42,
      "outputs": [
        {
          "output_type": "stream",
          "name": "stdout",
          "text": [
            "Kiwi is not in the tuple.\n"
          ]
        }
      ]
    },
    {
      "cell_type": "code",
      "source": [
        "'''Q.16  Write a code to create a set with the elements 'a', 'b', 'c' and print it.'''"
      ],
      "metadata": {
        "id": "aLjlWQh-lFBw"
      },
      "execution_count": null,
      "outputs": []
    },
    {
      "cell_type": "code",
      "source": [
        "# Create a set\n",
        "my_set = {'a', 'b', 'c'}\n",
        "\n",
        "# Print the set\n",
        "print(\"Set:\", my_set)\n"
      ],
      "metadata": {
        "colab": {
          "base_uri": "https://localhost:8080/"
        },
        "id": "RNQJsxVjlJDV",
        "outputId": "2418d606-876a-4b2f-9755-b10c1963f802"
      },
      "execution_count": 43,
      "outputs": [
        {
          "output_type": "stream",
          "name": "stdout",
          "text": [
            "Set: {'c', 'a', 'b'}\n"
          ]
        }
      ]
    },
    {
      "cell_type": "code",
      "source": [
        "'''Q.17  Write a code to clear all elements from the set {1, 2, 3, 4, 5}'''"
      ],
      "metadata": {
        "id": "rYWJkT-ElO1h"
      },
      "execution_count": null,
      "outputs": []
    },
    {
      "cell_type": "code",
      "source": [
        "# Define the set\n",
        "my_set = {1, 2, 3, 4, 5}\n",
        "\n",
        "# Clear all elements from the set\n",
        "my_set.clear()\n",
        "\n",
        "# Print the empty set\n",
        "print(\"Set after clearing:\", my_set)\n"
      ],
      "metadata": {
        "colab": {
          "base_uri": "https://localhost:8080/"
        },
        "id": "03z9CUOLlRc7",
        "outputId": "86d203fd-bece-4ef0-d85b-bd630d017457"
      },
      "execution_count": 44,
      "outputs": [
        {
          "output_type": "stream",
          "name": "stdout",
          "text": [
            "Set after clearing: set()\n"
          ]
        }
      ]
    },
    {
      "cell_type": "code",
      "source": [
        "'''Q.18 . Write a code to remove the element 4 from the set {1, 2, 3, 4}'''"
      ],
      "metadata": {
        "id": "8NUDH6ielVvc"
      },
      "execution_count": null,
      "outputs": []
    },
    {
      "cell_type": "code",
      "source": [
        "# Define the set\n",
        "my_set = {1, 2, 3, 4}\n",
        "\n",
        "# Remove the element 4\n",
        "my_set.remove(4)\n",
        "\n",
        "# Print the updated set\n",
        "print(\"Set after removing 4:\", my_set)\n"
      ],
      "metadata": {
        "colab": {
          "base_uri": "https://localhost:8080/"
        },
        "id": "qJ1r5k2PlbMS",
        "outputId": "fb923993-0347-4841-ee94-90437aff7efb"
      },
      "execution_count": 45,
      "outputs": [
        {
          "output_type": "stream",
          "name": "stdout",
          "text": [
            "Set after removing 4: {1, 2, 3}\n"
          ]
        }
      ]
    },
    {
      "cell_type": "code",
      "source": [
        "'''Q.19 Write a code to find the union of two sets {1, 2, 3} and {3, 4, 5}.'''"
      ],
      "metadata": {
        "id": "MNqEI7PVlekY"
      },
      "execution_count": null,
      "outputs": []
    },
    {
      "cell_type": "code",
      "source": [
        "# Define the sets\n",
        "set1 = {1, 2, 3}\n",
        "set2 = {3, 4, 5}\n",
        "\n",
        "# Find the union of the two sets\n",
        "union_set = set1.union(set2)\n",
        "\n",
        "# Print the result\n",
        "print(\"Union of sets:\", union_set)\n"
      ],
      "metadata": {
        "colab": {
          "base_uri": "https://localhost:8080/"
        },
        "id": "RHbJ0stHlib4",
        "outputId": "0d8d4694-9cb0-4363-d9af-16cc687b97e1"
      },
      "execution_count": 46,
      "outputs": [
        {
          "output_type": "stream",
          "name": "stdout",
          "text": [
            "Union of sets: {1, 2, 3, 4, 5}\n"
          ]
        }
      ]
    },
    {
      "cell_type": "code",
      "source": [
        "'''Q.20 Write a code to find the intersection of two sets {1, 2, 3} and {2, 3, 4}'''"
      ],
      "metadata": {
        "id": "dwzlki6sloPy"
      },
      "execution_count": null,
      "outputs": []
    },
    {
      "cell_type": "code",
      "source": [
        "# Define the sets\n",
        "set1 = {1, 2, 3}\n",
        "set2 = {2, 3, 4}\n",
        "\n",
        "# Find the intersection of the two sets\n",
        "intersection_set = set1.intersection(set2)\n",
        "\n",
        "# Print the result\n",
        "print(\"Intersection of sets:\", intersection_set)\n"
      ],
      "metadata": {
        "colab": {
          "base_uri": "https://localhost:8080/"
        },
        "id": "TkCbJTDtlsJy",
        "outputId": "eb30b3de-4c7b-4ed8-9393-b2b5222a3ae4"
      },
      "execution_count": 47,
      "outputs": [
        {
          "output_type": "stream",
          "name": "stdout",
          "text": [
            "Intersection of sets: {2, 3}\n"
          ]
        }
      ]
    },
    {
      "cell_type": "code",
      "source": [
        "'''Q.21  Write a code to create a dictionary with the keys \"name\", \"age\", and \"city\", and print it.'''"
      ],
      "metadata": {
        "id": "vkIVSnu1lwEy"
      },
      "execution_count": null,
      "outputs": []
    },
    {
      "cell_type": "code",
      "source": [
        "# Create the dictionary\n",
        "person = {\n",
        "    \"name\": \"Alice\",\n",
        "    \"age\": 25,\n",
        "    \"city\": \"Pune\"\n",
        "}\n",
        "\n",
        "# Print the dictionary\n",
        "print(\"Dictionary:\", person)\n"
      ],
      "metadata": {
        "colab": {
          "base_uri": "https://localhost:8080/"
        },
        "id": "NO_n95GKlylJ",
        "outputId": "d374cbb3-712c-4565-dcad-a1028d808bfb"
      },
      "execution_count": 48,
      "outputs": [
        {
          "output_type": "stream",
          "name": "stdout",
          "text": [
            "Dictionary: {'name': 'Alice', 'age': 25, 'city': 'Pune'}\n"
          ]
        }
      ]
    },
    {
      "cell_type": "code",
      "source": [
        "'''Q.22 Write a code to add a new key-value pair \"country\": \"USA\" to the dictionary {'name': 'John', 'age': 25}.'''"
      ],
      "metadata": {
        "id": "gViYMW60l50_"
      },
      "execution_count": null,
      "outputs": []
    },
    {
      "cell_type": "code",
      "source": [
        "# Define the original dictionary\n",
        "person = {'name': 'John', 'age': 25}\n",
        "\n",
        "# Add the new key-value pair\n",
        "person['country'] = 'USA'\n",
        "\n",
        "# Print the updated dictionary\n",
        "print(\"Updated dictionary:\", person)\n"
      ],
      "metadata": {
        "colab": {
          "base_uri": "https://localhost:8080/"
        },
        "id": "GzDHlDGdl8Jk",
        "outputId": "902c2f69-e28a-410f-ad44-a9536f2a7df7"
      },
      "execution_count": 49,
      "outputs": [
        {
          "output_type": "stream",
          "name": "stdout",
          "text": [
            "Updated dictionary: {'name': 'John', 'age': 25, 'country': 'USA'}\n"
          ]
        }
      ]
    },
    {
      "cell_type": "code",
      "source": [
        "'''Q.23  Write a code to access the value associated with the key \"name\" in the dictionary {'name': 'Alice', 'age': 30}.'''"
      ],
      "metadata": {
        "id": "_aYvUk2hmCL2"
      },
      "execution_count": null,
      "outputs": []
    },
    {
      "cell_type": "code",
      "source": [
        "# Define the dictionary\n",
        "person = {'name': 'Alice', 'age': 30}\n",
        "\n",
        "# Access the value associated with the key \"name\"\n",
        "name_value = person['name']\n",
        "\n",
        "# Print the result\n",
        "print(\"Name:\", name_value)\n"
      ],
      "metadata": {
        "colab": {
          "base_uri": "https://localhost:8080/"
        },
        "id": "XU0ouWEnmGH7",
        "outputId": "7053672c-ff42-49d2-a0d6-0c83e9a413f3"
      },
      "execution_count": 50,
      "outputs": [
        {
          "output_type": "stream",
          "name": "stdout",
          "text": [
            "Name: Alice\n"
          ]
        }
      ]
    },
    {
      "cell_type": "code",
      "source": [
        "'''Q.24 Write a code to remove the key \"age\" from the dictionary {'name': 'Bob', 'age': 22, 'city': 'New York'}.'''"
      ],
      "metadata": {
        "id": "eOWldhTdmKnQ"
      },
      "execution_count": null,
      "outputs": []
    },
    {
      "cell_type": "code",
      "source": [
        "# Define the dictionary\n",
        "person = {'name': 'Bob', 'age': 22, 'city': 'New York'}\n",
        "\n",
        "# Remove the key \"age\"\n",
        "person.pop('age')\n",
        "\n",
        "# Print the updated dictionary\n",
        "print(\"Updated dictionary:\", person)\n"
      ],
      "metadata": {
        "colab": {
          "base_uri": "https://localhost:8080/"
        },
        "id": "_kvY8dbBmOwu",
        "outputId": "3a880afb-2e3b-4b68-d9ce-2cd06e0d1924"
      },
      "execution_count": 51,
      "outputs": [
        {
          "output_type": "stream",
          "name": "stdout",
          "text": [
            "Updated dictionary: {'name': 'Bob', 'city': 'New York'}\n"
          ]
        }
      ]
    },
    {
      "cell_type": "code",
      "source": [
        "'''Q.25  Write a code to check if the key \"city\" exists in the dictionary {'name': 'Alice', 'city': 'Paris'}'''"
      ],
      "metadata": {
        "id": "2EPoKT8HmSQi"
      },
      "execution_count": null,
      "outputs": []
    },
    {
      "cell_type": "code",
      "source": [
        "# Define the dictionary\n",
        "person = {'name': 'Alice', 'city': 'Paris'}\n",
        "\n",
        "# Check if \"city\" key exists\n",
        "if 'city' in person:\n",
        "    print(\"Key 'city' exists in the dictionary.\")\n",
        "else:\n",
        "    print(\"Key 'city' does not exist in the dictionary.\")\n"
      ],
      "metadata": {
        "colab": {
          "base_uri": "https://localhost:8080/"
        },
        "id": "BJ_B0gwOmWvX",
        "outputId": "2a9c8c49-22db-450e-b0d9-d958aba2f752"
      },
      "execution_count": 52,
      "outputs": [
        {
          "output_type": "stream",
          "name": "stdout",
          "text": [
            "Key 'city' exists in the dictionary.\n"
          ]
        }
      ]
    },
    {
      "cell_type": "code",
      "source": [
        "'''Q.26 Write a code to create a list, a tuple, and a dictionary, and print them all.'''"
      ],
      "metadata": {
        "id": "c6HvyWFYmsAv"
      },
      "execution_count": null,
      "outputs": []
    },
    {
      "cell_type": "code",
      "source": [
        "# Create a list\n",
        "my_list = [1, 2, 3, 4, 5]\n",
        "\n",
        "# Create a tuple\n",
        "my_tuple = ('apple', 'banana', 'cherry')\n",
        "\n",
        "# Create a dictionary\n",
        "my_dict = {'name': 'Alice', 'age': 25, 'city': 'Paris'}\n",
        "\n",
        "# Print all data structures\n",
        "print(\"List:\", my_list)\n",
        "print(\"Tuple:\", my_tuple)\n",
        "print(\"Dictionary:\", my_dict)\n"
      ],
      "metadata": {
        "colab": {
          "base_uri": "https://localhost:8080/"
        },
        "id": "wQsh5_GCmwER",
        "outputId": "c4186127-6e2b-4be2-d74e-10b9afbfa194"
      },
      "execution_count": 53,
      "outputs": [
        {
          "output_type": "stream",
          "name": "stdout",
          "text": [
            "List: [1, 2, 3, 4, 5]\n",
            "Tuple: ('apple', 'banana', 'cherry')\n",
            "Dictionary: {'name': 'Alice', 'age': 25, 'city': 'Paris'}\n"
          ]
        }
      ]
    },
    {
      "cell_type": "code",
      "source": [
        "'''Q.27 Write a code to create a list of 5 random numbers between 1 and 100, sort it in ascending order, and print the  result.(replaced)'''"
      ],
      "metadata": {
        "id": "4MSMUmD8m57n"
      },
      "execution_count": null,
      "outputs": []
    },
    {
      "cell_type": "code",
      "source": [
        "import random\n",
        "\n",
        "# Create a list of 5 random numbers between 1 and 100\n",
        "random_numbers = random.sample(range(1, 101), 5)\n",
        "\n",
        "# Sort the list in ascending order\n",
        "random_numbers.sort()\n",
        "\n",
        "# Print the sorted list\n",
        "print(\"Sorted random numbers:\", random_numbers)\n"
      ],
      "metadata": {
        "colab": {
          "base_uri": "https://localhost:8080/"
        },
        "id": "cGNeZTUynBtI",
        "outputId": "c5323d0a-da3c-4821-d321-ffdee639a71a"
      },
      "execution_count": 54,
      "outputs": [
        {
          "output_type": "stream",
          "name": "stdout",
          "text": [
            "Sorted random numbers: [5, 31, 52, 67, 86]\n"
          ]
        }
      ]
    },
    {
      "cell_type": "code",
      "source": [
        "'''Q.28  Write a code to create a list with strings and print the element at the third index.'''"
      ],
      "metadata": {
        "id": "lGGxkcsAnHF8"
      },
      "execution_count": null,
      "outputs": []
    },
    {
      "cell_type": "code",
      "source": [
        "# Create a list with string elements\n",
        "words = [\"apple\", \"banana\", \"cherry\", \"date\", \"elderberry\"]\n",
        "\n",
        "# Access the element at the third index (index 3)\n",
        "third_index_element = words[3]\n",
        "\n",
        "# Print the result\n",
        "print(\"Element at third index:\", third_index_element)\n"
      ],
      "metadata": {
        "colab": {
          "base_uri": "https://localhost:8080/"
        },
        "id": "IKahXmOPnJLJ",
        "outputId": "4c446112-7159-4c7d-f82f-d7fdaddddf0d"
      },
      "execution_count": 55,
      "outputs": [
        {
          "output_type": "stream",
          "name": "stdout",
          "text": [
            "Element at third index: date\n"
          ]
        }
      ]
    },
    {
      "cell_type": "code",
      "source": [
        "'''Q.29  Write a code to combine two dictionaries into one and print the result.'''"
      ],
      "metadata": {
        "id": "995cozx9nPhr"
      },
      "execution_count": null,
      "outputs": []
    },
    {
      "cell_type": "code",
      "source": [
        "# Define two dictionaries\n",
        "dict1 = {'name': 'Alice', 'age': 25}\n",
        "dict2 = {'city': 'Paris', 'country': 'France'}\n",
        "\n",
        "# Combine the dictionaries using the update() method\n",
        "combined_dict = dict1.copy()  # Make a copy to avoid modifying dict1\n",
        "combined_dict.update(dict2)\n",
        "\n",
        "# Print the combined dictionary\n",
        "print(\"Combined dictionary:\", combined_dict)\n"
      ],
      "metadata": {
        "colab": {
          "base_uri": "https://localhost:8080/"
        },
        "id": "mDt5fSmbnTXa",
        "outputId": "74d91ed5-e323-4137-f5e8-3f6b8da52bcb"
      },
      "execution_count": 56,
      "outputs": [
        {
          "output_type": "stream",
          "name": "stdout",
          "text": [
            "Combined dictionary: {'name': 'Alice', 'age': 25, 'city': 'Paris', 'country': 'France'}\n"
          ]
        }
      ]
    },
    {
      "cell_type": "code",
      "source": [
        "'''Q.30 Write a code to convert a list of strings into a set'''"
      ],
      "metadata": {
        "id": "-_jxk3yOnYX0"
      },
      "execution_count": null,
      "outputs": []
    },
    {
      "cell_type": "code",
      "source": [
        "# Define a list of strings\n",
        "string_list = [\"apple\", \"banana\", \"cherry\", \"apple\", \"banana\"]\n",
        "\n",
        "# Convert the list to a set\n",
        "string_set = set(string_list)\n",
        "\n",
        "# Print the set\n",
        "print(\"Set:\", string_set)\n"
      ],
      "metadata": {
        "colab": {
          "base_uri": "https://localhost:8080/"
        },
        "id": "sMqHxLMDnwgL",
        "outputId": "39fcbe14-bd1f-47f8-d2f8-138d99e7e0b4"
      },
      "execution_count": 57,
      "outputs": [
        {
          "output_type": "stream",
          "name": "stdout",
          "text": [
            "Set: {'cherry', 'banana', 'apple'}\n"
          ]
        }
      ]
    }
  ]
}
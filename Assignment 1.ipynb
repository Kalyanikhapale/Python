{
  "nbformat": 4,
  "nbformat_minor": 0,
  "metadata": {
    "colab": {
      "provenance": []
    },
    "kernelspec": {
      "name": "python3",
      "display_name": "Python 3"
    },
    "language_info": {
      "name": "python"
    }
  },
  "cells": [
    {
      "cell_type": "code",
      "execution_count": null,
      "metadata": {
        "id": "Qk2ReFWQ7PYg"
      },
      "outputs": [],
      "source": [
        "''' Python Basics Assignment'''"
      ]
    },
    {
      "cell_type": "code",
      "source": [
        "'''Q.1. Explain the key features of Python that make it a popular choice for programming'''"
      ],
      "metadata": {
        "id": "4JyWBI3RBLcB"
      },
      "execution_count": null,
      "outputs": []
    },
    {
      "cell_type": "markdown",
      "source": [
        "\n",
        "- 1. Simple and Easy to Learn\n",
        "Python has a clear and readable syntax, which makes it easy for beginners to understand and write code.\n",
        "\n",
        "2. Interpreted Language\n",
        "Python code is executed line by line, making debugging and testing easier.\n",
        "\n",
        "3. Dynamically Typed\n",
        "There is no need to declare variable types; Python automatically detects the type at runtime.\n",
        "\n",
        "4. Cross-Platform Compatibility\n",
        "Python works on various operating systems like Windows, Linux, and macOS without changing the code.\n",
        "\n",
        "5. Large Standard Library\n",
        "Python provides many built-in modules and functions to perform common tasks like file handling, math operations, and web access.\n",
        "\n",
        "6. Object-Oriented and Functional\n",
        "Python supports both object-oriented programming (OOP) and functional programming styles.\n",
        "\n",
        "7. Extensive Libraries and Frameworks\n",
        "Python has powerful libraries for web development (Django, Flask), data science (NumPy, Pandas), automation (Selenium), etc.\n",
        "\n",
        "8. Strong Community Support\n",
        "A large global community contributes to Python’s development, offers help, and shares resources.\n",
        "\n",
        "9. Rapid Application Development\n",
        "Python enables faster development due to its simplicity and availability of reusable code."
      ],
      "metadata": {
        "id": "NckpubJR74yQ"
      }
    },
    {
      "cell_type": "code",
      "source": [
        "'''Q.2 Describe the role of predefined keywords in Python and provide examples of how they are used in a program'''"
      ],
      "metadata": {
        "colab": {
          "base_uri": "https://localhost:8080/",
          "height": 36
        },
        "id": "1G8pE0dm88Tq",
        "outputId": "d0a95958-ec69-41dc-adb0-c5b69915bedd"
      },
      "execution_count": 5,
      "outputs": [
        {
          "output_type": "execute_result",
          "data": {
            "text/plain": [
              "'Q.2 Describe the role of predefined keywords in Python and provide examples of how they are used in a program'"
            ],
            "application/vnd.google.colaboratory.intrinsic+json": {
              "type": "string"
            }
          },
          "metadata": {},
          "execution_count": 5
        }
      ]
    },
    {
      "cell_type": "markdown",
      "source": [
        "\n",
        "- Predefined keywords are reserved words in Python that have special meaning and are used to define the syntax and structure of Python programs.\n",
        "\n",
        "Role:\n",
        "\n",
        "Define control flow (e.g., if, else, while)\n",
        "\n",
        "Used in function definition (def, return)\n",
        "\n",
        "Control looping (for, break, continue)\n",
        "\n",
        "Cannot be used as variable names\n",
        "\n",
        "Examples:\n",
        "\n",
        "1.if\n",
        "\n",
        "Syntax- if x > 0:\n",
        "\n",
        "2.else        \n",
        "Syntax- else:\n",
        "\n",
        "3.for        \n",
        "Syntax- for i in range(5):\n",
        "\n",
        "4.def         \n",
        "Syntax- def add(a, b):\n",
        "\n",
        "5.return    \n",
        "syntax- return a + b\n",
        "\n",
        "6.import      \n",
        "Syntax- import math\n",
        "\n",
        "Example Program:"
      ],
      "metadata": {
        "id": "KSbDDrY48_0D"
      }
    },
    {
      "cell_type": "code",
      "source": [
        "def check_even(num):\n",
        "    if num % 2 == 0:\n",
        "        return \"Even\"\n",
        "    else:\n",
        "        return \"Odd\""
      ],
      "metadata": {
        "id": "QGOTh6xR-ckk"
      },
      "execution_count": 2,
      "outputs": []
    },
    {
      "cell_type": "code",
      "source": [
        "'''Q.3 Compare and contrast mutable and immutable objects in Python with examples'''"
      ],
      "metadata": {
        "id": "L-eykOfnA2jr"
      },
      "execution_count": null,
      "outputs": []
    },
    {
      "cell_type": "markdown",
      "source": [
        "\n",
        "- Mutable vs Immutable Objects in Python\n",
        "\n",
        "In Python, mutable objects are those whose values can be changed after creation. Examples include lists, dictionaries, and sets. For example, a list a = [1, 2, 3] can be modified like a[0] = 10.\n",
        "\n",
        "On the other hand, immutable objects cannot be changed once created. Examples are integers, floats, strings, and tuples. For instance, if x = \"hello\", doing x = x + \" world\" creates a new string instead of modifying the original one."
      ],
      "metadata": {
        "id": "aauXJjzy-sq5"
      }
    },
    {
      "cell_type": "code",
      "source": [
        "'''Q.4 Discuss the different types of operators in Python and provide examples of how they are used'''\n"
      ],
      "metadata": {
        "colab": {
          "base_uri": "https://localhost:8080/",
          "height": 36
        },
        "id": "6BpPae0A_xF4",
        "outputId": "3f11b96f-4231-4b02-8163-b80b8e71cfda"
      },
      "execution_count": 3,
      "outputs": [
        {
          "output_type": "execute_result",
          "data": {
            "text/plain": [
              "'Discuss the different types of operators in Python and provide examples of how they are used'"
            ],
            "application/vnd.google.colaboratory.intrinsic+json": {
              "type": "string"
            }
          },
          "metadata": {},
          "execution_count": 3
        }
      ]
    },
    {
      "cell_type": "markdown",
      "source": [
        "- Types of Operators in Python\n",
        "\n",
        "Python supports several types of operators used to perform operations on variables and values.\n",
        "\n",
        "1. Arithmetic Operators:\n",
        "\n",
        "Used for mathematical operations.\n",
        "Examples: +, -, *, /, %, //, **\n",
        "\n",
        "a = 10 + 5  # Addition\n",
        "b = 4 ** 2  # Exponentiation\n",
        "\n",
        "2. Comparison (Relational) Operators:\n",
        "\n",
        "Used to compare values.\n",
        "Examples: ==, !=, >, <, >=, <=\n",
        "\n",
        "3. Assignment Operators:\n",
        "\n",
        "Used to assign values.\n",
        "Examples: =, +=, -=, *=, /=, %=, **=, //=\n",
        "\n",
        "4. Logical Operators:\n",
        "\n",
        "Used to combine conditional statements.\n",
        "Examples: and, or, not\n",
        "\n",
        "5. Bitwise Operators:\n",
        "\n",
        "Operate on binary values.\n",
        "Examples: &, |, ^, ~, <<, >>\n",
        "\n",
        "6. Membership Operators:\n",
        "\n",
        "Check for membership in a sequence.\n",
        "Examples: in, not in\n",
        "\n",
        "7. Identity Operators:\n",
        "\n",
        "Check if two variables refer to the same object.\n",
        "Examples: is, is not\n"
      ],
      "metadata": {
        "id": "l5knfHdV_yGB"
      }
    },
    {
      "cell_type": "code",
      "source": [
        "#1. Arithmetic operation\n",
        "a = 10 + 5  # Addition\n",
        "b = 4 ** 2  # Exponentiation\n",
        "\n",
        "#2. Comparison operation\n",
        "a = 10 > 5  # True\n",
        "\n",
        "#3. Assignment operation\n",
        "x = 5\n",
        "x += 3\n",
        "\n",
        "#4. logical opetation\n",
        "a = True and False\n",
        "\n",
        "#5. bitwise operatin\n",
        "a = 5 & 3\n",
        "\n",
        "#6. membership opertion\n",
        "'a' in 'apple'\n",
        "\n",
        "#7. identity opertion\n",
        "a = b\n",
        "a is b"
      ],
      "metadata": {
        "colab": {
          "base_uri": "https://localhost:8080/"
        },
        "id": "SmGijARaGR8U",
        "outputId": "7b9e77db-db6f-48fe-c845-3b1e507b8008"
      },
      "execution_count": 11,
      "outputs": [
        {
          "output_type": "execute_result",
          "data": {
            "text/plain": [
              "True"
            ]
          },
          "metadata": {},
          "execution_count": 11
        }
      ]
    },
    {
      "cell_type": "code",
      "source": [
        "'''Q.5 Explain the concept of type casting in Python with examples'''"
      ],
      "metadata": {
        "id": "rW5aZCwIBc4-"
      },
      "execution_count": null,
      "outputs": []
    },
    {
      "cell_type": "markdown",
      "source": [
        "- Definition:\n",
        "Type casting means converting the data type of a value from one type to another.\n",
        "Types of Type Casting:\n",
        "\n",
        "1. Implicit Type Casting:\n",
        "Done automatically by Python.\n",
        "\n",
        "2. Explicit Type Casting:\n",
        "Done manually by the programmer using functions.\n",
        "Common functions: int(), float(), str(), bool()"
      ],
      "metadata": {
        "id": "kR-IcFrvBrRz"
      }
    },
    {
      "cell_type": "code",
      "source": [
        "#Implicit type\n",
        "a = 5 # int\n",
        "b = 2.0 # float\n",
        "c = a + b # c becomes float"
      ],
      "metadata": {
        "id": "1ZtFcDAcDLit"
      },
      "execution_count": 6,
      "outputs": []
    },
    {
      "cell_type": "code",
      "source": [
        "#Explicit type\n",
        "x = \"100\"\n",
        "y = int(x) # Converts string to integer\n",
        "print(y + 10) # Output: 110"
      ],
      "metadata": {
        "colab": {
          "base_uri": "https://localhost:8080/"
        },
        "id": "Vhd2OqPHDpHk",
        "outputId": "091f48ca-1e87-4d9f-b371-5fbc40dfa721"
      },
      "execution_count": 13,
      "outputs": [
        {
          "output_type": "stream",
          "name": "stdout",
          "text": [
            "110\n"
          ]
        }
      ]
    },
    {
      "cell_type": "code",
      "source": [
        "'''Q.6 How do conditional statements work in Python? Illustrate with examples'''"
      ],
      "metadata": {
        "id": "JlY6i96XECVZ"
      },
      "execution_count": null,
      "outputs": []
    },
    {
      "cell_type": "markdown",
      "source": [
        "- Conditional Statements in Python\n",
        "\n",
        "Definition:\n",
        "Conditional statements are used to perform different actions based on different conditions.\n",
        "\n",
        "Types of Conditional Statements:\n",
        "\n",
        "1. if statement – checks a condition\n",
        "\n",
        "2. if-else – provides an alternative if condition is false\n",
        "\n",
        "3. if-elif-else – checks multiple conditions\n",
        "\n",
        "Example:"
      ],
      "metadata": {
        "id": "ZJ_jJqk1ETTR"
      }
    },
    {
      "cell_type": "code",
      "source": [
        "x = 10\n",
        "if x > 0:\n",
        "  print(\"Positive\")\n",
        "elif x == 0:\n",
        "  print(\"Zero\")\n",
        "else:\n",
        "  print(\"Negative\")"
      ],
      "metadata": {
        "colab": {
          "base_uri": "https://localhost:8080/"
        },
        "id": "kT8mGciMEigM",
        "outputId": "20ca4ad9-27af-4697-e3b4-b3c311f664cd"
      },
      "execution_count": 8,
      "outputs": [
        {
          "output_type": "stream",
          "name": "stdout",
          "text": [
            "Positive\n"
          ]
        }
      ]
    },
    {
      "cell_type": "code",
      "source": [
        "'''Q.7 Describe the different types of loops in Python and their use cases with examples'''"
      ],
      "metadata": {
        "id": "jtL8c1EHE6Uo"
      },
      "execution_count": null,
      "outputs": []
    },
    {
      "cell_type": "markdown",
      "source": [
        "- Types of Loops in Python\n",
        "\n",
        "Python has two main types of loops used for repeating a block of code.\n",
        "\n",
        "1. for loop:\n",
        "\n",
        "Used to iterate over a sequence (like list, string, range).\n",
        "Example:\n",
        "Use Case: When number of iterations is known.\n",
        "\n",
        "2. while loop:\n",
        "\n",
        "Repeats as long as the condition is True.\n",
        "Example:\n",
        "Use Case: When the number of iterations is not fixed.\n",
        "\n"
      ],
      "metadata": {
        "id": "SGicNPNOFEjv"
      }
    },
    {
      "cell_type": "code",
      "source": [
        "#for loops\n",
        "for i in range(3):\n",
        "  print(i)"
      ],
      "metadata": {
        "colab": {
          "base_uri": "https://localhost:8080/"
        },
        "id": "NhCQmSV4Flef",
        "outputId": "9bcad99f-1f9f-4317-f858-983fde66d9e1"
      },
      "execution_count": 9,
      "outputs": [
        {
          "output_type": "stream",
          "name": "stdout",
          "text": [
            "0\n",
            "1\n",
            "2\n"
          ]
        }
      ]
    },
    {
      "cell_type": "code",
      "source": [
        "#while loops\n",
        "x = 0\n",
        "while x < 3:\n",
        "    print(x)\n",
        "    x += 1"
      ],
      "metadata": {
        "id": "i3IukXNJF8RD"
      },
      "execution_count": null,
      "outputs": []
    }
  ]
}
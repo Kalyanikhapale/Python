{
  "cells": [
    {
      "cell_type": "code",
      "execution_count": null,
      "metadata": {
        "id": "Okx_NirdgoLx"
      },
      "outputs": [],
      "source": [
        "'''Q.1 Explain the purpose and advantages of NumPy in scientific computing and data analysis. How does it enhance Python's capabilities for numerical operations?'''"
      ]
    },
    {
      "cell_type": "markdown",
      "metadata": {
        "id": "5wxfBzejg9lV"
      },
      "source": [
        "**NumPy (Numerical Python**) is a core library for scientific computing and data analysis in Python. It provides support for working with large, multi-dimensional arrays and includes a collection of mathematical functions to perform efficient operations on these arrays.\n",
        "\n",
        "Purpose of NumPy:\n",
        "\n",
        "1.Efficient numerical computation using array-based operations.\n",
        "\n",
        "2.Foundation for other libraries like pandas, SciPy, and scikit-learn.\n",
        "\n",
        "3.Supports complex operations such as linear algebra, Fourier transforms, and random number generation.\n",
        "\n",
        "4.Improves performance and memory usage for large datasets.\n",
        "\n",
        "Advantages of NumPy:\n",
        "\n",
        "1.Speed and Performance:\n",
        "\n",
        "Operations are implemented in C, making them faster than Python lists.\n",
        "\n",
        "Supports vectorized operations (no explicit loops).\n",
        "\n",
        "2.Memory Efficiency:\n",
        "\n",
        "Arrays use less memory compared to lists.\n",
        "\n",
        "Stores data in contiguous memory blocks.\n",
        "\n",
        "3.Broadcasting:\n",
        "\n",
        "Allows arithmetic operations on arrays of different shapes without writing loops.\n",
        "\n",
        "4.Rich Functionality:\n",
        "\n",
        "Built-in functions for mathematical, statistical, and linear algebra operations.\n",
        "\n",
        "5.Interoperability:\n",
        "\n",
        "Easily integrates with other scientific libraries and tools.\n",
        "\n",
        "Enhancement over Python:\n",
        "\n",
        "1. Python Lists:\n",
        "\n",
        "Speed: Slower\n",
        "\n",
        "Memory: Efficiency\tLess efficient\n",
        "\n",
        "Operations:\tManual looping\n",
        "\n",
        "Functionality: Limited math support\n",
        "\n",
        "2. NumPy Arrays:\n",
        "\n",
        "Speed:\tFaster (C-based backend)\n",
        "\n",
        "Memory Efficiency:\tMore efficient\n",
        "\n",
        "Operations:\tVectorized operations\n",
        "\n",
        "Functionality:\tExtensive math functions\n",
        "\n",
        "Conclusion:\n",
        "\n",
        "NumPy enhances Python by providing high-speed, memory-efficient tools for numerical and scientific computing, making it essential for data analysis and research applications"
      ]
    },
    {
      "cell_type": "code",
      "execution_count": 1,
      "metadata": {
        "id": "6msgaDOwhHSr"
      },
      "outputs": [],
      "source": [
        "# Python list\n",
        "a = [1, 2, 3]\n",
        "b = [4, 5, 6]\n",
        "c = [a[i] + b[i] for i in range(len(a))]\n",
        "\n",
        "# NumPy array\n",
        "import numpy as np\n",
        "a = np.array([1, 2, 3])\n",
        "b = np.array([4, 5, 6])\n",
        "c = a + b"
      ]
    },
    {
      "cell_type": "code",
      "execution_count": null,
      "metadata": {
        "id": "4XIiExdmi6Og"
      },
      "outputs": [],
      "source": [
        "'''Q.2 Compare and contrast np.mean() and np.average() functions in NumPy. When would you use one over the other?'''"
      ]
    },
    {
      "cell_type": "markdown",
      "metadata": {
        "id": "dI88ICnbjU4H"
      },
      "source": [
        "In NumPy, both np.mean() and np.average() are used to calculate the mean (average) of array elements, but there are key differences in their functionality and use cases.\n",
        "\n",
        "**np.mean()**\n",
        "\n",
        "Purpose:\n",
        "\n",
        "Computes the arithmetic mean (unweighted) of array elements along a specified axis.\n",
        "\n",
        "Syntax:\n",
        "\n",
        "np.mean(a, axis=None, dtype=None, out=None, keepdims=False)\n",
        "\n",
        "Key Features:\n",
        "\n",
        "1.Always computes the simple (unweighted) mean.\n",
        "\n",
        "2.Commonly used for general-purpose average calculations."
      ]
    },
    {
      "cell_type": "code",
      "execution_count": 2,
      "metadata": {
        "colab": {
          "base_uri": "https://localhost:8080/"
        },
        "id": "nrdCIQpgkD_b",
        "outputId": "432d7701-cc71-491d-90c7-cd2ac56085f5"
      },
      "outputs": [
        {
          "data": {
            "text/plain": [
              "np.float64(2.5)"
            ]
          },
          "execution_count": 2,
          "metadata": {},
          "output_type": "execute_result"
        }
      ],
      "source": [
        "import numpy as np\n",
        "a = np.array([1, 2, 3, 4])\n",
        "np.mean(a)  # Output: 2.5"
      ]
    },
    {
      "cell_type": "markdown",
      "metadata": {
        "id": "pFP3JWg7kIf3"
      },
      "source": [
        "**np.average()**\n",
        "\n",
        "Purpose:\n",
        "\n",
        "Computes the weighted average of array elements. If no weights are given, behaves like np.mean().\n",
        "\n",
        "Syntax:\n",
        "\n",
        "np.average(a, axis=None, weights=None, returned=False)\n",
        "\n",
        "Key Features:\n",
        "\n",
        "1.Can compute weighted mean using the weights parameter.\n",
        "\n",
        "2.returned=True will return a tuple of the average and the sum of weights."
      ]
    },
    {
      "cell_type": "code",
      "execution_count": 3,
      "metadata": {
        "colab": {
          "base_uri": "https://localhost:8080/"
        },
        "id": "lXrNx6gekgmr",
        "outputId": "601f20dc-3281-4bd4-e72a-1d185fda43f3"
      },
      "outputs": [
        {
          "data": {
            "text/plain": [
              "np.float64(1.5)"
            ]
          },
          "execution_count": 3,
          "metadata": {},
          "output_type": "execute_result"
        }
      ],
      "source": [
        "a = np.array([1, 2, 3, 4])\n",
        "weights = np.array([1, 1, 0, 0])\n",
        "np.average(a, weights=weights)  # Output: 1.5\n"
      ]
    },
    {
      "cell_type": "markdown",
      "metadata": {
        "id": "MvRHxSwskl6G"
      },
      "source": [
        "When to Use Each\n",
        "\n",
        "1.Use np.mean() when:\n",
        "\n",
        "You need a simple, unweighted average.\n",
        "\n",
        "You want cleaner, more readable code for standard use.\n",
        "\n",
        "2.Use np.average() when:\n",
        "\n",
        "You need a weighted average.\n",
        "\n",
        "You want to give more importance to certain values in the array.\n",
        "\n",
        "You want the sum of weights returned (with returned=True).\n",
        "\n",
        "Conclusion:\n",
        "\n",
        "1.np.mean() is simpler and more common for general use.\n",
        "\n",
        "2.np.average() is more flexible when dealing with weights or importance of elements."
      ]
    },
    {
      "cell_type": "code",
      "execution_count": null,
      "metadata": {
        "id": "QDDQMktClOkA"
      },
      "outputs": [],
      "source": [
        "'''Q.3 Describe the methods for reversing a NumPy array along different axes. Provide examples for 1D and 2D arrays.'''"
      ]
    },
    {
      "cell_type": "markdown",
      "metadata": {
        "id": "f4-elb4-lxPT"
      },
      "source": [
        "1D Array Reversal:\n",
        "\n",
        "A 1D array is reversed simply by slicing with a step of -1."
      ]
    },
    {
      "cell_type": "code",
      "execution_count": 4,
      "metadata": {
        "colab": {
          "base_uri": "https://localhost:8080/"
        },
        "id": "BVXjyVIyllmI",
        "outputId": "d77fbfcd-e00c-4411-f9fb-7b143a7f833a"
      },
      "outputs": [
        {
          "name": "stdout",
          "output_type": "stream",
          "text": [
            "[5 4 3 2 1]\n"
          ]
        }
      ],
      "source": [
        "#Method: Slicing\n",
        "import numpy as np\n",
        "\n",
        "arr_1d = np.array([1, 2, 3, 4, 5])\n",
        "reversed_1d = arr_1d[::-1]\n",
        "print(reversed_1d)  # Output: [5 4 3 2 1]"
      ]
    },
    {
      "cell_type": "markdown",
      "metadata": {
        "id": "FG_l7EcHl3NK"
      },
      "source": [
        "2D Array Reversal:\n",
        "\n",
        "For 2D arrays, you can reverse:\n",
        "\n",
        "1.Rows (axis=0)\n",
        "\n",
        "2.Columns (axis=1)\n",
        "\n",
        "3.Entire array (both axes)"
      ]
    },
    {
      "cell_type": "code",
      "execution_count": 5,
      "metadata": {
        "id": "yxjb98dAmG5x"
      },
      "outputs": [],
      "source": [
        "arr_2d = np.array([\n",
        "    [1, 2, 3],\n",
        "    [4, 5, 6],\n",
        "    [7, 8, 9]\n",
        "])"
      ]
    },
    {
      "cell_type": "code",
      "execution_count": 6,
      "metadata": {
        "colab": {
          "base_uri": "https://localhost:8080/"
        },
        "id": "4QAoO2ggmSSw",
        "outputId": "4ae4b7e6-4406-4f76-ae1e-4fccb5e8be17"
      },
      "outputs": [
        {
          "name": "stdout",
          "output_type": "stream",
          "text": [
            "[[7 8 9]\n",
            " [4 5 6]\n",
            " [1 2 3]]\n"
          ]
        }
      ],
      "source": [
        "# Method 1: Reverse Rows (axis=0)\n",
        "reversed_rows = arr_2d[::-1, :]\n",
        "print(reversed_rows)\n"
      ]
    },
    {
      "cell_type": "code",
      "execution_count": 7,
      "metadata": {
        "colab": {
          "base_uri": "https://localhost:8080/"
        },
        "id": "Act6cvXXmfK5",
        "outputId": "e3407005-55fe-4949-b644-d8d90175e32e"
      },
      "outputs": [
        {
          "name": "stdout",
          "output_type": "stream",
          "text": [
            "[[3 2 1]\n",
            " [6 5 4]\n",
            " [9 8 7]]\n"
          ]
        }
      ],
      "source": [
        "#Method 2: Reverse Columns (axis=1)\n",
        "reversed_cols = arr_2d[:, ::-1]\n",
        "print(reversed_cols)\n"
      ]
    },
    {
      "cell_type": "code",
      "execution_count": 8,
      "metadata": {
        "colab": {
          "base_uri": "https://localhost:8080/"
        },
        "id": "Lghqt6a1ml7J",
        "outputId": "02cc8f56-29b4-4b9d-b2c8-2123b4aa4710"
      },
      "outputs": [
        {
          "name": "stdout",
          "output_type": "stream",
          "text": [
            "[[9 8 7]\n",
            " [6 5 4]\n",
            " [3 2 1]]\n"
          ]
        }
      ],
      "source": [
        "#Method 3: Reverse Both Axes (complete flip)\n",
        "reversed_both = arr_2d[::-1, ::-1]\n",
        "print(reversed_both)"
      ]
    },
    {
      "cell_type": "code",
      "execution_count": 9,
      "metadata": {
        "colab": {
          "base_uri": "https://localhost:8080/"
        },
        "id": "6LKu_3kHm6hu",
        "outputId": "ded12a8e-94ef-440f-b53d-0a1f79d52295"
      },
      "outputs": [
        {
          "data": {
            "text/plain": [
              "array([[3, 2, 1],\n",
              "       [6, 5, 4],\n",
              "       [9, 8, 7]])"
            ]
          },
          "execution_count": 9,
          "metadata": {},
          "output_type": "execute_result"
        }
      ],
      "source": [
        "#Method 4: Using np.flip()\n",
        "# Flip entire array (all axes)\n",
        "np.flip(arr_2d)\n",
        "\n",
        "# Flip along axis=0 (rows)\n",
        "np.flip(arr_2d, axis=0)\n",
        "\n",
        "# Flip along axis=1 (columns)\n",
        "np.flip(arr_2d, axis=1)"
      ]
    },
    {
      "cell_type": "markdown",
      "metadata": {
        "id": "9YPbMyePnIIt"
      },
      "source": [
        "Summary:\n",
        "\n",
        "1. Task: Reverse 1D\n",
        "\n",
        "Method: array\tarr[::-1]\n",
        "\n",
        "2. Task:Reverse 2D rows\n",
        "\n",
        "Method: arr[::-1, :] or np.flip(arr, axis=0)\n",
        "\n",
        "3. Task:Reverse 2D columns\n",
        "\n",
        "Method: arr[:, ::-1] or np.flip(arr, axis=1)\n",
        "\n",
        "4. Task:Reverse both axes\n",
        "\n",
        "Method: arr[::-1, ::-1] or np.flip(arr)"
      ]
    },
    {
      "cell_type": "code",
      "execution_count": null,
      "metadata": {
        "id": "Ar0DnWRcnyYG"
      },
      "outputs": [],
      "source": [
        "'''Q.4  How can you determine the data type of elements in a NumPy array? Discuss the importance of data types in memory management and performance.'''"
      ]
    },
    {
      "cell_type": "markdown",
      "metadata": {
        "id": "XAIbFBjooL9v"
      },
      "source": [
        "You can use the .dtype attribute to find out the data type of elements in a NumPy array."
      ]
    },
    {
      "cell_type": "code",
      "execution_count": 10,
      "metadata": {
        "colab": {
          "base_uri": "https://localhost:8080/"
        },
        "id": "Ov-ndANzoR0-",
        "outputId": "dd167cc3-a50f-4e31-abad-8c9d35c7196a"
      },
      "outputs": [
        {
          "name": "stdout",
          "output_type": "stream",
          "text": [
            "int64\n"
          ]
        }
      ],
      "source": [
        "import numpy as np\n",
        "\n",
        "arr = np.array([1, 2, 3])\n",
        "print(arr.dtype)  # Output: int64 (or int32, depending on the system)\n"
      ]
    },
    {
      "cell_type": "markdown",
      "metadata": {
        "id": "6ZqBIy7doaGC"
      },
      "source": [
        "Other Useful Functions:\n",
        "\n",
        "1. arr.astype(dtype) → Converts the array to a new data type.\n",
        "\n",
        "2. np.result_type(obj1, obj2) → Determines the result type from operations on two arrays.\n",
        "\n",
        "3. np.can_cast(from_dtype, to_dtype) → Checks if safe casting is possible.\n",
        "\n",
        "Importance of Data Types:\n",
        "\n",
        "1. Memory Management:\n",
        "\n",
        "Each data type occupies a fixed number of bytes.\n",
        "\n",
        "Choosing the correct type reduces memory usage, especially for large datasets.\n",
        "\n",
        "Example: int8 uses 1 byte, while int64 uses 8 bytes.\n",
        "\n",
        "2. Performance:\n",
        "\n",
        "Simpler or smaller data types (like int32, float32) are faster to process.\n",
        "\n",
        "They improve computation speed and make better use of CPU cache.\n",
        "\n",
        "Reduces data loading and processing time.\n",
        "\n",
        "3. Accuracy and Precision:\n",
        "\n",
        "Using appropriate data types (e.g., float64 for precision) ensures accurate results in scientific or financial calculations.\n",
        "\n",
        "4. Compatibility:\n",
        "\n",
        "Consistent data types prevent unexpected behavior during mathematical operations.\n",
        "\n",
        "Conclusion:\n",
        "\n",
        "Understanding and selecting the correct data type in NumPy is crucial for efficient memory usage, faster performance, and accurate computation."
      ]
    },
    {
      "cell_type": "code",
      "execution_count": null,
      "metadata": {
        "id": "wP_DKU9jpXEe"
      },
      "outputs": [],
      "source": [
        "'''Q.5 Define ndarrays in NumPy and explain their key features. How do they differ from standard Python lists?'''"
      ]
    },
    {
      "cell_type": "markdown",
      "metadata": {
        "id": "ZG5TQGZZputd"
      },
      "source": [
        "Definition:\n",
        "\n",
        "In NumPy, an ndarray (n-dimensional array) is a powerful object used to store elements of the same data type in a multi-dimensional, fixed-size grid.\n",
        "\n",
        "Key Features of ndarrays:\n",
        "\n",
        "1. Homogeneous Elements:\n",
        "All elements have the same data type (e.g., int, float).\n",
        "\n",
        "2. Multi-dimensional Support:\n",
        "Can create 1D, 2D, 3D, or higher-dimensional arrays.\n",
        "\n",
        "3. Efficient Memory Usage:\n",
        "Uses less memory than Python lists due to fixed-type storage.\n",
        "\n",
        "4. Vectorized Operations:\n",
        "Supports fast element-wise operations without using loops.\n",
        "\n",
        "5. Built-in Mathematical Functions:\n",
        "Offers optimized functions like sum(), mean(), reshape(), etc.\n",
        "\n",
        "Differences from Python Lists:\n",
        "\n",
        "**ndarray**\n",
        "\n",
        "Data Type: Homogeneous (same type)\n",
        "\n",
        "Performance\tFaster: (C-based operations)\n",
        "\n",
        "Memory Efficiency: More efficient (fixed type)\n",
        "\n",
        "Functionality:\tSupports broadcasting, slicing\n",
        "\n",
        "Dimensions:\tMulti-dimensional supported\n",
        "\n",
        "**Python List**\n",
        "\n",
        "Data Type: Heterogeneous (mixed types)\n",
        "\n",
        "Performance: Slower (Python loops)\n",
        "\n",
        "Memory Efficiency: Less efficient (dynamic types)\n",
        "\n",
        "Functionality: Limited math functionality\n",
        "\n",
        "Dimensions: Typically 1D or nested\n",
        "\n",
        "Conclusion:\n",
        "\n",
        "NumPy ndarrays are more efficient, faster, and feature-rich compared to standard Python lists, making them ideal for numerical and scientific computing."
      ]
    },
    {
      "cell_type": "code",
      "execution_count": null,
      "metadata": {
        "id": "ewaj_j1hrcEu"
      },
      "outputs": [],
      "source": [
        "'''Q.6 Analyze the performance benefits of NumPy arrays over Python lists for large-scale numerical operations.'''"
      ]
    },
    {
      "cell_type": "markdown",
      "metadata": {
        "id": "5MSxdV4Ern0M"
      },
      "source": [
        "NumPy arrays offer several performance advantages over Python lists in large-scale numerical operations:\n",
        "\n",
        "1. Faster Computation:\n",
        "\n",
        "NumPy is implemented in C, enabling fast, low-level operations.\n",
        "\n",
        "Supports vectorized operations, eliminating the need for slow Python loops.\n",
        "\n",
        "2. Lower Memory Usage:\n",
        "\n",
        "NumPy arrays store elements of fixed data types, reducing memory consumption.\n",
        "\n",
        "Python lists store references to objects, which uses more memory.\n",
        "\n",
        "3. Efficient Broadcasting:\n",
        "\n",
        "NumPy supports broadcasting, allowing operations on arrays of different shapes without explicit looping.\n",
        "\n",
        "4. Built-in Optimized Functions:\n",
        "\n",
        "NumPy provides optimized mathematical and statistical functions (e.g., mean(), sum(), dot()) that are much faster than writing custom code with lists."
      ]
    },
    {
      "cell_type": "code",
      "execution_count": 11,
      "metadata": {
        "colab": {
          "base_uri": "https://localhost:8080/"
        },
        "id": "6vipZHZzr4fz",
        "outputId": "0985907f-ac09-4e7f-a119-e84390d69117"
      },
      "outputs": [
        {
          "name": "stdout",
          "output_type": "stream",
          "text": [
            "List time: 0.05088233947753906\n",
            "NumPy time: 0.0033597946166992188\n"
          ]
        }
      ],
      "source": [
        "#Example (Speed Comparison):\n",
        "import numpy as np\n",
        "import time\n",
        "\n",
        "a = list(range(1000000))\n",
        "b = np.array(a)\n",
        "\n",
        "# Using Python list\n",
        "start = time.time()\n",
        "c = [x * 2 for x in a]\n",
        "print(\"List time:\", time.time() - start)\n",
        "\n",
        "# Using NumPy array\n",
        "start = time.time()\n",
        "d = b * 2\n",
        "print(\"NumPy time:\", time.time() - start)\n"
      ]
    },
    {
      "cell_type": "markdown",
      "metadata": {
        "id": "zYbIs4HdsAbf"
      },
      "source": [
        "Conclusion:\n",
        "\n",
        "For large-scale numerical tasks, NumPy arrays are preferred due to their speed, memory efficiency, and optimized operations, making them ideal for data science and scientific computing."
      ]
    },
    {
      "cell_type": "code",
      "execution_count": null,
      "metadata": {
        "id": "1tXoXoK0sB2H"
      },
      "outputs": [],
      "source": [
        "'''Q.7 Compare vstack() and hstack() functions in NumPy. Provide examples demonstrating their usage and output.'''"
      ]
    },
    {
      "cell_type": "markdown",
      "metadata": {
        "id": "L3MVwdu3sYxR"
      },
      "source": [
        "In NumPy, vstack() and hstack() are used to stack arrays vertically or horizontally.\n",
        "\n",
        "1. np.vstack() – Vertical Stack:\n",
        "\n",
        "Stacks arrays row-wise (one on top of another).\n",
        "\n",
        "Arrays must have the same number of columns."
      ]
    },
    {
      "cell_type": "code",
      "execution_count": 12,
      "metadata": {
        "colab": {
          "base_uri": "https://localhost:8080/"
        },
        "id": "FOMKeVPOsfed",
        "outputId": "48238c9a-e5f8-45cd-b177-b7e19d41cfb2"
      },
      "outputs": [
        {
          "name": "stdout",
          "output_type": "stream",
          "text": [
            "[[1 2]\n",
            " [3 4]]\n"
          ]
        }
      ],
      "source": [
        "import numpy as np\n",
        "a = np.array([1, 2])\n",
        "b = np.array([3, 4])\n",
        "result = np.vstack((a, b))\n",
        "print(result)\n"
      ]
    },
    {
      "cell_type": "markdown",
      "metadata": {
        "id": "sQ99NdD3sjDH"
      },
      "source": [
        "2. np.hstack() – Horizontal Stack:\n",
        "\n",
        "Stacks arrays column-wise (side by side).\n",
        "\n",
        "Arrays must have the same number of rows."
      ]
    },
    {
      "cell_type": "code",
      "execution_count": 13,
      "metadata": {
        "colab": {
          "base_uri": "https://localhost:8080/"
        },
        "id": "AEEGM_6wsl0-",
        "outputId": "73d7c12d-ccb5-43ad-ad22-bddddae7497a"
      },
      "outputs": [
        {
          "name": "stdout",
          "output_type": "stream",
          "text": [
            "[1 2 3 4]\n"
          ]
        }
      ],
      "source": [
        "a = np.array([1, 2])\n",
        "b = np.array([3, 4])\n",
        "result = np.hstack((a, b))\n",
        "print(result)\n"
      ]
    },
    {
      "cell_type": "markdown",
      "metadata": {
        "id": "_dOCz3L_spO9"
      },
      "source": [
        "| Function   | Direction         | Condition                  | Example Output Shape |\n",
        "| ---------- | ----------------- | -------------------------- | -------------------- |\n",
        "| `vstack()` | Vertical (rows)   | Same number of columns | (2, N)               |\n",
        "| `hstack()` | Horizontal (cols) | Same number of rows    | (N,) or (1, N+M)     |\n",
        "\n",
        "Conclusion:\n",
        "\n",
        "1.Use vstack() to stack arrays vertically (row-wise).\n",
        "\n",
        "2.Use hstack() to stack arrays horizontally (column-wise).\n",
        "\n",
        "These functions are useful in data combination and reshaping operations."
      ]
    },
    {
      "cell_type": "code",
      "execution_count": null,
      "metadata": {
        "id": "KoRPA3xGtLpt"
      },
      "outputs": [],
      "source": [
        "'''Q.8 Explain the differences between fliplr() and flipud() methods in NumPy, including their effects on various array dimensions.'''"
      ]
    },
    {
      "cell_type": "markdown",
      "metadata": {
        "id": "NCPxLNIutcTS"
      },
      "source": [
        "In NumPy, fliplr() and flipud() are used to flip (reverse) arrays along specific axes.\n",
        "\n",
        "1. np.fliplr() – Flip Left to Right (Columns):\n",
        "\n",
        "-Flips the array horizontally.\n",
        "\n",
        "-Works only on 2D or higher arrays.\n",
        "\n",
        "-Reverses the order of columns (left ↔ right)."
      ]
    },
    {
      "cell_type": "code",
      "execution_count": 14,
      "metadata": {
        "colab": {
          "base_uri": "https://localhost:8080/"
        },
        "id": "iobeJh5Utlpt",
        "outputId": "24ad5bff-9811-4f13-deea-d458774bd19b"
      },
      "outputs": [
        {
          "name": "stdout",
          "output_type": "stream",
          "text": [
            "[[3 2 1]\n",
            " [6 5 4]]\n"
          ]
        }
      ],
      "source": [
        "import numpy as np\n",
        "a = np.array([[1, 2, 3],\n",
        "              [4, 5, 6]])\n",
        "print(np.fliplr(a))\n"
      ]
    },
    {
      "cell_type": "markdown",
      "metadata": {
        "id": "oJPkBdzgtqTN"
      },
      "source": [
        "2. np.flipud() – Flip Up to Down (Rows):\n",
        "\n",
        "-Flips the array vertically.\n",
        "\n",
        "-Works on any-dimensional array.\n",
        "\n",
        "-Reverses the order of rows (top ↔ bottom)."
      ]
    },
    {
      "cell_type": "code",
      "execution_count": 15,
      "metadata": {
        "colab": {
          "base_uri": "https://localhost:8080/"
        },
        "id": "Ugym-ekgtxOV",
        "outputId": "f0001df5-3649-413e-be6a-6adae9dbaa29"
      },
      "outputs": [
        {
          "name": "stdout",
          "output_type": "stream",
          "text": [
            "[[4 5 6]\n",
            " [1 2 3]]\n"
          ]
        }
      ],
      "source": [
        "a = np.array([[1, 2, 3],\n",
        "              [4, 5, 6]])\n",
        "print(np.flipud(a))\n"
      ]
    },
    {
      "cell_type": "markdown",
      "metadata": {
        "id": "IC1P9dLCt01C"
      },
      "source": [
        "| Function   | Flips Along         | Affects                | Works On            |\n",
        "| ---------- | ------------------- | ---------------------- | ------------------- |\n",
        "| `fliplr()` | Horizontal (axis=1) | Columns (left ↔ right) | 2D or higher arrays |\n",
        "| `flipud()` | Vertical (axis=0)   | Rows (top ↔ bottom)    | Any-dimensional     |\n",
        "\n",
        "Conclusion:\n",
        "\n",
        "1.Use fliplr() to flip arrays horizontally.\n",
        "\n",
        "2.Use flipud() to flip arrays vertically.\n",
        "\n",
        "3.These functions are useful for image processing, matrix operations, and data transformations."
      ]
    },
    {
      "cell_type": "code",
      "execution_count": null,
      "metadata": {
        "id": "9LNj2PcXuCB3"
      },
      "outputs": [],
      "source": [
        "'''Q.9 Discuss the functionality of the array_split() method in NumPy. How does it handle uneven splits?'''"
      ]
    },
    {
      "cell_type": "markdown",
      "metadata": {
        "id": "pxSH2ZqTuRaP"
      },
      "source": [
        "Definition:\n",
        "\n",
        "The np.array_split() method in NumPy is used to split an array into multiple sub-arrays.\n",
        "\n",
        "Functionality:\n",
        "\n",
        "Syntax:\n",
        "\n",
        "np.array_split(array, number_of_splits, axis=0)\n",
        "\n",
        "It splits the array along the specified axis (default is axis=0).\n",
        "\n",
        "Handling Uneven Splits:\n",
        "\n",
        "If the array cannot be divided equally, array_split() distributes the extra elements to the earlier sub-arrays.\n",
        "\n",
        "It ensures that all data is included, even when sizes are not perfectly divisible."
      ]
    },
    {
      "cell_type": "code",
      "execution_count": 17,
      "metadata": {
        "colab": {
          "base_uri": "https://localhost:8080/"
        },
        "id": "5oPEkskHu-G4",
        "outputId": "19fd44a9-5922-4dce-8281-5f1febd583ed"
      },
      "outputs": [
        {
          "name": "stdout",
          "output_type": "stream",
          "text": [
            "[array([1, 2]), array([3, 4]), array([5])]\n"
          ]
        }
      ],
      "source": [
        "import numpy as np\n",
        "a = np.array([1, 2, 3, 4, 5])\n",
        "result = np.array_split(a, 3)\n",
        "print(result)\n"
      ]
    },
    {
      "cell_type": "markdown",
      "metadata": {
        "id": "_f9Eh77PvEBs"
      },
      "source": [
        "Conclusion:\n",
        "\n",
        "1.array_split() is useful for flexible splitting, especially when the array length is not divisible by the number of splits.\n",
        "\n",
        "2.It ensures no data loss by balancing the split as evenly as possible."
      ]
    },
    {
      "cell_type": "code",
      "execution_count": null,
      "metadata": {
        "id": "Gor81orpvIqb"
      },
      "outputs": [],
      "source": [
        "'''Q.10 10. Explain the concepts of vectorization and broadcasting in NumPy. How do they contribute to efficient array operations?'''"
      ]
    },
    {
      "cell_type": "markdown",
      "metadata": {
        "id": "JbLEQe7yvOY8"
      },
      "source": [
        "1. Vectorization:\n",
        "\n",
        "Vectorization means performing operations on entire arrays without using explicit loops.\n",
        "\n",
        "NumPy uses low-level C-based implementations to perform these operations efficiently."
      ]
    },
    {
      "cell_type": "code",
      "execution_count": 18,
      "metadata": {
        "id": "FfnWk98VvcZd"
      },
      "outputs": [],
      "source": [
        "import numpy as np\n",
        "a = np.array([1, 2, 3])\n",
        "b = a * 2  # Vectorized operation\n"
      ]
    },
    {
      "cell_type": "markdown",
      "metadata": {
        "id": "p7pRkHndvfQB"
      },
      "source": [
        "Benefits:\n",
        "\n",
        "-Faster execution\n",
        "\n",
        "-Cleaner, more readable code\n",
        "\n",
        "-Better CPU utilization\n",
        "\n",
        "2. Broadcasting:\n",
        "\n",
        "Broadcasting allows NumPy to perform operations on arrays of different shapes by automatically expanding the smaller array to match the larger one."
      ]
    },
    {
      "cell_type": "code",
      "execution_count": 19,
      "metadata": {
        "id": "gaGx263Ovnum"
      },
      "outputs": [],
      "source": [
        "a = np.array([[1, 2], [3, 4]])\n",
        "b = np.array([10, 20])\n",
        "result = a + b  # b is broadcasted to match shape of a\n"
      ]
    },
    {
      "cell_type": "markdown",
      "metadata": {
        "id": "eTP_FqJHvr9r"
      },
      "source": [
        "Rules:\n",
        "\n",
        "Dimensions are compared from right to left.\n",
        "\n",
        "Dimensions are compatible when they are equal or one of them is 1.\n",
        "\n",
        "| Feature           | Contribution to Efficiency                                   |\n",
        "| ----------------- | ------------------------------------------------------------ |\n",
        "| **Vectorization** | Reduces use of Python loops, speeds up computation           |\n",
        "| **Broadcasting**  | Enables operations on mismatched shapes without copying data |\n",
        "\n",
        "Conclusion:\n",
        "\n",
        "Vectorization and broadcasting are core NumPy concepts that make array operations faster, more memory-efficient, and simpler in syntax, especially in large-scale numerical computing.\n",
        "\n"
      ]
    },
    {
      "cell_type": "code",
      "execution_count": null,
      "metadata": {},
      "outputs": [],
      "source": [
        "#PRACTICAL"
      ]
    },
    {
      "cell_type": "code",
      "execution_count": null,
      "metadata": {},
      "outputs": [],
      "source": [
        "'''Q.1 Create a 3x3 NumPy array with random integers between 1 and 100. Then, interchange its rows and columns'''"
      ]
    },
    {
      "cell_type": "code",
      "execution_count": null,
      "metadata": {},
      "outputs": [],
      "source": [
        "import numpy as np\n",
        "\n",
        "# Create a 3x3 array with random integers between 1 and 100\n",
        "arr = np.random.randint(1, 101, size=(3, 3))\n",
        "print(\"Original Array:\")\n",
        "print(arr)\n",
        "\n",
        "# Interchange rows and columns (transpose)\n",
        "transposed_arr = arr.T\n",
        "print(\"\\nTransposed Array:\")\n",
        "print(transposed_arr)\n"
      ]
    },
    {
      "cell_type": "markdown",
      "metadata": {},
      "source": [
        "Explanation:\n",
        "\n",
        "np.random.randint(1, 101, size=(3, 3)) generates a 3x3 array with random integers from 1 to 100.\n",
        "\n",
        "T is used to transpose the array — it swaps rows with columns."
      ]
    },
    {
      "cell_type": "code",
      "execution_count": null,
      "metadata": {},
      "outputs": [],
      "source": [
        "'''Q.2 Generate a 1D NumPy array with 10 elements. Reshape it into a 2x5 array, then into a 5x2 array.'''"
      ]
    },
    {
      "cell_type": "code",
      "execution_count": null,
      "metadata": {},
      "outputs": [],
      "source": [
        "import numpy as np\n",
        "\n",
        "# Step 1: Generate a 1D NumPy array with 10 elements\n",
        "arr = np.arange(1, 11)\n",
        "print(\"Original 1D Array:\")\n",
        "print(arr)\n",
        "\n",
        "# Step 2: Reshape it into a 2x5 array\n",
        "arr_2x5 = arr.reshape(2, 5)\n",
        "print(\"\\nReshaped to 2x5 Array:\")\n",
        "print(arr_2x5)\n",
        "\n",
        "# Step 3: Reshape it into a 5x2 array\n",
        "arr_5x2 = arr.reshape(5, 2)\n",
        "print(\"\\nReshaped to 5x2 Array:\")\n",
        "print(arr_5x2)\n"
      ]
    },
    {
      "cell_type": "markdown",
      "metadata": {},
      "source": [
        "Explanation:\n",
        "\n",
        "np.arange(1, 11) creates a 1D array of 10 elements from 1 to 10.\n",
        "\n",
        "reshape(rows, columns) changes the shape without changing data.\n",
        "\n",
        "Total elements (10) remain constant across reshaping."
      ]
    },
    {
      "cell_type": "code",
      "execution_count": null,
      "metadata": {},
      "outputs": [],
      "source": [
        "'''Q.3 Create a 4x4 NumPy array with random float values. Add a border of zeros around it, resulting in a 6x6 array.'''"
      ]
    },
    {
      "cell_type": "code",
      "execution_count": null,
      "metadata": {},
      "outputs": [],
      "source": [
        "import numpy as np\n",
        "\n",
        "# Step 1: Create a 4x4 array with random float values\n",
        "arr = np.random.rand(4, 4)\n",
        "print(\"Original 4x4 Array:\")\n",
        "print(arr)\n",
        "\n",
        "# Step 2: Add a border of zeros around it to make a 6x6 array\n",
        "arr_with_border = np.pad(arr, pad_width=1, mode='constant', constant_values=0)\n",
        "print(\"\\n6x6 Array with Zero Border:\")\n",
        "print(arr_with_border)\n"
      ]
    },
    {
      "cell_type": "markdown",
      "metadata": {},
      "source": [
        "Explanation:\n",
        "\n",
        "np.random.rand(4, 4) creates a 4x4 array of random floats in [0.0, 1.0).\n",
        "\n",
        "np.pad() is used to add padding:\n",
        "\n",
        "pad_width=1 adds 1 row/column of zeros on all sides.\n",
        "\n",
        "mode='constant', constant_values=0 ensures zeros are added."
      ]
    },
    {
      "cell_type": "code",
      "execution_count": null,
      "metadata": {},
      "outputs": [],
      "source": [
        "'''Q.4 Using NumPy, create an array of integers from 10 to 60 with a step of 5.'''"
      ]
    },
    {
      "cell_type": "code",
      "execution_count": null,
      "metadata": {},
      "outputs": [],
      "source": [
        "import numpy as np\n",
        "\n",
        "# Create an array of integers from 10 to 60 with a step of 5\n",
        "arr = np.arange(10, 61, 5)\n",
        "print(\"Array from 10 to 60 with step 5:\")\n",
        "print(arr)\n"
      ]
    },
    {
      "cell_type": "markdown",
      "metadata": {},
      "source": [
        "Explanation:\n",
        "\n",
        "np.arange(start, stop, step) generates values from start to stop - 1 (not inclusive of stop).\n",
        "\n",
        "So np.arange(10, 61, 5) gives:\n",
        "[10, 15, 20, 25, 30, 35, 40, 45, 50, 55, 60]"
      ]
    },
    {
      "cell_type": "code",
      "execution_count": null,
      "metadata": {},
      "outputs": [],
      "source": [
        "'''Q.5 Create a NumPy array of strings ['python', 'numpy', 'pandas']. Apply different case transformations\n",
        "(uppercase, lowercase, title case, etc.) to each element'''"
      ]
    },
    {
      "cell_type": "code",
      "execution_count": null,
      "metadata": {},
      "outputs": [],
      "source": [
        "import numpy as np\n",
        "\n",
        "# Step 1: Create a NumPy array of strings\n",
        "arr = np.array(['python', 'numpy', 'pandas'])\n",
        "\n",
        "# Step 2: Apply case transformations\n",
        "upper_arr = np.char.upper(arr)\n",
        "lower_arr = np.char.lower(arr)\n",
        "title_arr = np.char.title(arr)\n",
        "capitalize_arr = np.char.capitalize(arr)\n",
        "\n",
        "# Display results\n",
        "print(\"Original Array:\", arr)\n",
        "print(\"Uppercase:\", upper_arr)\n",
        "print(\"Lowercase:\", lower_arr)\n",
        "print(\"Title Case:\", title_arr)\n",
        "print(\"Capitalized:\", capitalize_arr)\n"
      ]
    },
    {
      "cell_type": "markdown",
      "metadata": {},
      "source": [
        "Explanation:\n",
        "\n",
        "np.char.upper() – converts all characters to uppercase.\n",
        "\n",
        "np.char.lower() – converts all characters to lowercase.\n",
        "\n",
        "np.char.title() – capitalizes the first letter of each word.\n",
        "\n",
        "np.char.capitalize() – capitalizes the first letter of the string, lowers the rest."
      ]
    },
    {
      "cell_type": "code",
      "execution_count": null,
      "metadata": {},
      "outputs": [],
      "source": [
        "'''Q.6 Generate a NumPy array of words. Insert a space between each character of every word in the array'''"
      ]
    },
    {
      "cell_type": "code",
      "execution_count": null,
      "metadata": {},
      "outputs": [],
      "source": [
        "import numpy as np\n",
        "\n",
        "# Step 1: Create a NumPy array of words\n",
        "arr = np.array(['python', 'numpy', 'pandas'])\n",
        "\n",
        "# Step 2: Insert a space between each character of every word\n",
        "spaced_arr = np.char.join(' ', arr)\n",
        "\n",
        "# Display the result\n",
        "print(\"Original Array:\", arr)\n",
        "print(\"Spaced Words:\", spaced_arr)\n"
      ]
    },
    {
      "cell_type": "markdown",
      "metadata": {},
      "source": [
        "Explanation:\n",
        "\n",
        "np.char.join(sep, arr) adds the specified separator (' ') between each character of each string in the array.\n",
        "\n",
        "It works element-wise and is ideal for vectorized string manipulation."
      ]
    },
    {
      "cell_type": "code",
      "execution_count": null,
      "metadata": {},
      "outputs": [],
      "source": [
        "'''Q.7 Create two 2D NumPy arrays and perform element-wise addition, subtraction, multiplication, and division.'''"
      ]
    },
    {
      "cell_type": "code",
      "execution_count": null,
      "metadata": {},
      "outputs": [],
      "source": [
        "import numpy as np\n",
        "\n",
        "# Step 1: Create two 2D NumPy arrays\n",
        "arr1 = np.array([[10, 20], [30, 40]])\n",
        "arr2 = np.array([[2, 4], [5, 8]])\n",
        "\n",
        "# Step 2: Perform element-wise operations\n",
        "addition = arr1 + arr2\n",
        "subtraction = arr1 - arr2\n",
        "multiplication = arr1 * arr2\n",
        "division = arr1 / arr2\n",
        "\n",
        "# Display results\n",
        "print(\"Array 1:\\n\", arr1)\n",
        "print(\"Array 2:\\n\", arr2)\n",
        "print(\"Addition:\\n\", addition)\n",
        "print(\"Subtraction:\\n\", subtraction)\n",
        "print(\"Multiplication:\\n\", multiplication)\n",
        "print(\"Division:\\n\", division)\n"
      ]
    },
    {
      "cell_type": "markdown",
      "metadata": {},
      "source": [
        "Explanation:\n",
        "\n",
        "Element-wise operations mean that each corresponding element of the arrays is operated on.\n",
        "\n",
        "Arrays must be of the same shape for direct element-wise operations.\n",
        "\n",
        "NumPy uses vectorized operations which are faster and more efficient than loops."
      ]
    },
    {
      "cell_type": "code",
      "execution_count": null,
      "metadata": {},
      "outputs": [],
      "source": [
        "'''Q.8 Use NumPy to create a 5x5 identity matrix, then extract its diagonal elements.'''"
      ]
    },
    {
      "cell_type": "code",
      "execution_count": null,
      "metadata": {},
      "outputs": [],
      "source": [
        "import numpy as np\n",
        "\n",
        "# Step 1: Create a 5x5 identity matrix\n",
        "identity_matrix = np.identity(5)\n",
        "print(\"5x5 Identity Matrix:\")\n",
        "print(identity_matrix)\n",
        "\n",
        "# Step 2: Extract the diagonal elements\n",
        "diagonal_elements = np.diag(identity_matrix)\n",
        "print(\"\\nDiagonal Elements:\")\n",
        "print(diagonal_elements)\n"
      ]
    },
    {
      "cell_type": "markdown",
      "metadata": {},
      "source": [
        "Explanation:\n",
        "\n",
        "np.identity(n) creates an n x n identity matrix, with 1s on the main diagonal and 0s elsewhere.\n",
        "\n",
        "np.diag(array) extracts the diagonal from a matrix or creates a diagonal matrix from a 1D array."
      ]
    },
    {
      "cell_type": "code",
      "execution_count": null,
      "metadata": {},
      "outputs": [],
      "source": [
        "'''Q.9 Generate a NumPy array of 100 random integers between 0 and 1000. Find and display all prime numbers in this array.'''"
      ]
    },
    {
      "cell_type": "code",
      "execution_count": null,
      "metadata": {},
      "outputs": [],
      "source": [
        "import numpy as np\n",
        "\n",
        "# Step 1: Generate a NumPy array of 100 random integers between 0 and 1000\n",
        "arr = np.random.randint(0, 1001, size=100)\n",
        "print(\"Original Array:\\n\", arr)\n",
        "\n",
        "# Step 2: Define a function to check for prime numbers\n",
        "def is_prime(n):\n",
        "    if n < 2:\n",
        "        return False\n",
        "    for i in range(2, int(n**0.5)+1):\n",
        "        if n % i == 0:\n",
        "            return False\n",
        "    return True\n",
        "\n",
        "# Step 3: Vectorize the function and apply it to the array\n",
        "prime_check = np.vectorize(is_prime)\n",
        "prime_numbers = arr[prime_check(arr)]\n",
        "\n",
        "# Display prime numbers\n",
        "print(\"\\nPrime Numbers in the Array:\\n\", prime_numbers)\n"
      ]
    },
    {
      "cell_type": "markdown",
      "metadata": {},
      "source": [
        "Explanation:\n",
        "\n",
        "np.random.randint(0, 1001, size=100) generates 100 integers from 0 to 1000.\n",
        "\n",
        "is_prime() checks if a number is prime using trial division.\n",
        "\n",
        "np.vectorize() allows the function to work element-wise on arrays.\n",
        "\n",
        "Final result filters only prime numbers from the original array."
      ]
    },
    {
      "cell_type": "code",
      "execution_count": null,
      "metadata": {},
      "outputs": [],
      "source": [
        "'''Q.10  Create a NumPy array representing daily temperatures for a month. Calculate and display the weekly averages.'''"
      ]
    },
    {
      "cell_type": "code",
      "execution_count": null,
      "metadata": {},
      "outputs": [],
      "source": [
        "import numpy as np\n",
        "\n",
        "# Step 1: Create a NumPy array of daily temperatures for 30 days\n",
        "temperatures = np.random.randint(20, 41, size=30)  # temperatures between 20°C and 40°C\n",
        "print(\"Daily Temperatures for the Month:\")\n",
        "print(temperatures)\n",
        "\n",
        "# Step 2: Reshape into 5 weeks (5x7) assuming 30 days ~ 4 weeks + 2 days (we take 28 for 4 full weeks)\n",
        "weeks = temperatures[:28].reshape(4, 7)\n",
        "\n",
        "# Step 3: Calculate weekly averages\n",
        "weekly_avg = weeks.mean(axis=1)\n",
        "\n",
        "# Display weekly averages\n",
        "print(\"\\nWeekly Average Temperatures:\")\n",
        "for i, avg in enumerate(weekly_avg, start=1):\n",
        "    print(f\"Week {i}: {avg:.2f}°C\")\n",
        "\n",
        "# Optionally handle remaining 2 days\n",
        "if len(temperatures) > 28:\n",
        "    extra_avg = temperatures[28:].mean()\n",
        "    print(f\"\\nRemaining {len(temperatures) - 28} Days Average: {extra_avg:.2f}°C\")\n"
      ]
    },
    {
      "cell_type": "markdown",
      "metadata": {},
      "source": [
        "Explanation:\n",
        "\n",
        "Use np.random.randint() to simulate daily temperature data.\n",
        "\n",
        "Use .reshape(4, 7) to organize into weekly blocks (assuming 28 days for simplicity).\n",
        "\n",
        "Use .mean(axis=1) to get average per row (i.e., per week)."
      ]
    }
  ],
  "metadata": {
    "colab": {
      "provenance": []
    },
    "kernelspec": {
      "display_name": "Python 3",
      "name": "python3"
    },
    "language_info": {
      "name": "python"
    }
  },
  "nbformat": 4,
  "nbformat_minor": 0
}
